{
 "cells": [
  {
   "cell_type": "code",
   "execution_count": 1,
   "id": "c96ab286",
   "metadata": {},
   "outputs": [],
   "source": [
    "import numpy as np\n",
    "import matplotlib.pyplot as plt\n",
    "import csv\n",
    "import pandas as pd\n",
    "import seaborn as sns\n",
    "import pysam as sam\n",
    "import pickle\n",
    "\n",
    "import warnings"
   ]
  },
  {
   "cell_type": "code",
   "execution_count": 23,
   "id": "033d5e5c",
   "metadata": {},
   "outputs": [],
   "source": [
    "test = open(\"/home/dldx/R-H/code/classification/ML/new/disorder/output2.txt\",\"r\")"
   ]
  },
  {
   "cell_type": "code",
   "execution_count": 24,
   "id": "9973a71f",
   "metadata": {},
   "outputs": [],
   "source": [
    "testfil = test.readlines()"
   ]
  },
  {
   "cell_type": "code",
   "execution_count": 61,
   "id": "290abad5",
   "metadata": {},
   "outputs": [
    {
     "data": {
      "text/plain": [
       "'                movzx   eax, word ptr [rbp-2]\\n'"
      ]
     },
     "execution_count": 61,
     "metadata": {},
     "output_type": "execute_result"
    }
   ],
   "source": [
    "testfil[1]"
   ]
  },
  {
   "cell_type": "code",
   "execution_count": 47,
   "id": "68aeb1c4",
   "metadata": {},
   "outputs": [
    {
     "name": "stdout",
     "output_type": "stream",
     "text": [
      "callAccessMonitor   ; PIC mode\n",
      "movzx   eax, word ptr [rbp-2]\n",
      "cmp     eax, 100h\n",
      "jge     loc_22Dcall\n"
     ]
    }
   ],
   "source": [
    "file1 = []\n",
    "tier1 = []\n",
    "tier2 = []\n",
    "tt = \"\"\n",
    "judge = 0\n",
    "tier2.append(\"1\")\n",
    "for line in testfil:\n",
    "    line = line.strip()\n",
    "    if judge == 1 :\n",
    "        tier1.append(\"0\")\n",
    "        tier1.append(line)\n",
    "    if judge > 1 :   \n",
    "        tt = tt + line\n",
    "    judge = judge + 1 \n",
    "    print(line)\n",
    "tier2.append(tt)\n",
    "file1.append(tier1)\n",
    "file1.append(tier2)"
   ]
  },
  {
   "cell_type": "code",
   "execution_count": 37,
   "id": "9bebf850",
   "metadata": {},
   "outputs": [
    {
     "data": {
      "text/plain": [
       "['0', 'movzx   eax, word ptr [rbp-2]']"
      ]
     },
     "execution_count": 37,
     "metadata": {},
     "output_type": "execute_result"
    }
   ],
   "source": [
    "tier1"
   ]
  },
  {
   "cell_type": "code",
   "execution_count": 46,
   "id": "cf862f8f",
   "metadata": {},
   "outputs": [
    {
     "data": {
      "text/plain": [
       "['1', 'cmp     eax, 100hjge     loc_22Dcall']"
      ]
     },
     "execution_count": 46,
     "metadata": {},
     "output_type": "execute_result"
    }
   ],
   "source": [
    "tier2"
   ]
  },
  {
   "cell_type": "code",
   "execution_count": 55,
   "id": "da6c2a64",
   "metadata": {},
   "outputs": [
    {
     "data": {
      "text/plain": [
       "[['0', 'movzx   eax, word ptr [rbp-2]'],\n",
       " ['1', 'cmp     eax, 100hjge     loc_22Dcall']]"
      ]
     },
     "execution_count": 55,
     "metadata": {},
     "output_type": "execute_result"
    }
   ],
   "source": [
    "file1"
   ]
  },
  {
   "cell_type": "code",
   "execution_count": 54,
   "id": "ac8f2c5f",
   "metadata": {},
   "outputs": [
    {
     "data": {
      "text/plain": [
       "'1'"
      ]
     },
     "execution_count": 54,
     "metadata": {},
     "output_type": "execute_result"
    }
   ],
   "source": [
    "file1[1][0]"
   ]
  },
  {
   "cell_type": "code",
   "execution_count": 56,
   "id": "c6ae161a",
   "metadata": {},
   "outputs": [],
   "source": [
    "pickle.dump(file1,  open('/home/dldx/R-H/code/classification/ML/new/disorder/file_1.pkl', 'wb'))"
   ]
  },
  {
   "cell_type": "code",
   "execution_count": 57,
   "id": "2cf53ec8",
   "metadata": {},
   "outputs": [],
   "source": [
    "file = pickle.load(open('/home/dldx/R-H/code/classification/ML/new/disorder/file_1.pkl','rb'))"
   ]
  },
  {
   "cell_type": "code",
   "execution_count": 58,
   "id": "32f155e1",
   "metadata": {},
   "outputs": [
    {
     "data": {
      "text/plain": [
       "[['0', 'movzx   eax, word ptr [rbp-2]'],\n",
       " ['1', 'cmp     eax, 100hjge     loc_22Dcall']]"
      ]
     },
     "execution_count": 58,
     "metadata": {},
     "output_type": "execute_result"
    }
   ],
   "source": [
    "file"
   ]
  }
 ],
 "metadata": {
  "kernelspec": {
   "display_name": "Python 3",
   "language": "python",
   "name": "python3"
  },
  "language_info": {
   "codemirror_mode": {
    "name": "ipython",
    "version": 3
   },
   "file_extension": ".py",
   "mimetype": "text/x-python",
   "name": "python",
   "nbconvert_exporter": "python",
   "pygments_lexer": "ipython3",
   "version": "3.8.8"
  }
 },
 "nbformat": 4,
 "nbformat_minor": 5
}
