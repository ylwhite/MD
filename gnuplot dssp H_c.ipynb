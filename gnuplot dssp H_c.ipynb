{
 "cells": [
  {
   "cell_type": "code",
   "execution_count": 1,
   "metadata": {},
   "outputs": [
    {
     "name": "stdout",
     "output_type": "stream",
     "text": [
      "Populating the interactive namespace from numpy and matplotlib\n",
      "NOTE: Some configuration directories are not set up yet: \n",
      "\t/home/dldx/.gromacswrapper\n",
      "\t/home/dldx/.gromacswrapper/qscripts\n",
      "\t/home/dldx/.gromacswrapper/templates\n",
      "NOTE: You can create the configuration file and directories with:\n",
      "\t>>> import gromacs\n",
      "\t>>> gromacs.config.setup()\n"
     ]
    }
   ],
   "source": [
    "%pylab inline\n",
    "import gromacs.formats\n",
    "import pandas as pd\n",
    "import mdtraj as md\n",
    "import numpy as np\n",
    "import matplotlib.pyplot as plt\n",
    "import matplotlib.image as imgplt\n",
    "from mpl_toolkits.mplot3d import Axes3D\n",
    "import matplotlib.gridspec as gridspec\n",
    "import pickle\n",
    "import multiprocessing\n",
    "import seaborn as sns\n",
    "\n",
    "from Bio.PDB import PDBParser\n",
    "from Bio.PDB.DSSP import DSSP"
   ]
  },
  {
   "cell_type": "code",
   "execution_count": 3,
   "metadata": {},
   "outputs": [],
   "source": [
    "res_all1 = pickle.load(open('/home/dldx/machine learning/dssp/H_c/H_c_1-5.pkl','rb'))\n",
    "res_all2 = pickle.load(open('/home/dldx/machine learning/dssp/H_c/H_c_6-10.pkl','rb'))"
   ]
  },
  {
   "cell_type": "code",
   "execution_count": 4,
   "metadata": {},
   "outputs": [],
   "source": [
    "res_all = res_all1 + res_all2\n",
    "data_res_all = []\n",
    "# 10条轨迹所有位点对应二级结构百分比统计\n",
    "for k in range(10):\n",
    "    data_res_all_test = []\n",
    "    for i in range(0,71):\n",
    "        site_res_all = []\n",
    "        test = np.array(res_all[k][i])\n",
    "        H_all = np.sum(test == 'H')/100010\n",
    "        G_all = np.sum(test == 'G')/100010\n",
    "        T_all = np.sum(test == 'T')/100010\n",
    "        S_all = np.sum(test == 'S')/100010\n",
    "        B_all = np.sum(test == 'B')/100010\n",
    "        E_all = np.sum(test == 'E')/100010\n",
    "        I_all = np.sum(test == 'I')/100010\n",
    "        other_all = np.sum(test == '-')/100010\n",
    "        site_res_all.append(H_all)\n",
    "        site_res_all.append(G_all)\n",
    "        site_res_all.append(T_all)\n",
    "        site_res_all.append(S_all)\n",
    "        site_res_all.append(B_all)\n",
    "        site_res_all.append(E_all)\n",
    "        site_res_all.append(I_all)\n",
    "        site_res_all.append(other_all)\n",
    "        data_res_all_test.append(site_res_all)\n",
    "    data_res_all.append(data_res_all_test)"
   ]
  },
  {
   "cell_type": "code",
   "execution_count": 5,
   "metadata": {},
   "outputs": [],
   "source": [
    "# 统计所有轨迹在各个残基上二级结构得百分比\n",
    "da1 = np.add(data_res_all[0],data_res_all[1])\n",
    "da2 = np.add(data_res_all[2],da1)\n",
    "da3 = np.add(data_res_all[3],da2)\n",
    "da4 = np.add(data_res_all[4],da3)\n",
    "da5 = np.add(data_res_all[5],da4)\n",
    "da6 = np.add(data_res_all[6],da5)\n",
    "da7 = np.add(data_res_all[7],da6)\n",
    "da8 = np.add(data_res_all[8],da7)\n",
    "da_all = np.add(data_res_all[9],da8)"
   ]
  },
  {
   "cell_type": "code",
   "execution_count": 6,
   "metadata": {},
   "outputs": [],
   "source": [
    "sum1 = 0\n",
    "sum2 = 0\n",
    "sum3 = 0\n",
    "result_data = []\n",
    "for i in range(71):\n",
    "    tt = []\n",
    "    sum1 = da_all[i][0] + da_all[i][1] + da_all[i][6]\n",
    "    sum2 = da_all[i][4] + da_all[i][5]\n",
    "    sum3 = da_all[i][2] + da_all[i][3] + da_all[i][7]\n",
    "    tt.append(sum1)       # helix：H G I    （0 1 6）\n",
    "    tt.append(sum2)       # sheet:B E       （4 5）\n",
    "    tt.append(sum3)       # coil: T S other （2 3 7）\n",
    "    result_data.append(tt)"
   ]
  },
  {
   "cell_type": "code",
   "execution_count": 7,
   "metadata": {},
   "outputs": [
    {
     "name": "stdout",
     "output_type": "stream",
     "text": [
      "71\n"
     ]
    }
   ],
   "source": [
    "res_plot_data =[]\n",
    "for i in range(3):\n",
    "    cc =[]\n",
    "    for k in range(0,71):\n",
    "        cc.append(result_data[k][i])\n",
    "    res_plot_data.append(cc)\n",
    "print(len(res_plot_data[0]))"
   ]
  },
  {
   "cell_type": "code",
   "execution_count": 11,
   "metadata": {},
   "outputs": [
    {
     "data": {
      "image/png": "[encoded data removed]",
      "text/plain": [
       "<Figure size 576x432 with 1 Axes>"
      ]
     },
     "metadata": {
      "needs_background": "light"
     },
     "output_type": "display_data"
    }
   ],
   "source": [
    "# R_open \n",
    "plt.subplots(figsize=(8, 6))\n",
    "\n",
    "x = np.arange(98,169)\n",
    "y = res_plot_data\n",
    "plt.bar(x,y[0],align = 'center',color = 'r',label='helix')\n",
    "a = y[0]\n",
    "plt.bar(x,y[1],align = 'center',bottom=a ,color = 'y',label='sheet')\n",
    "b = np.add(y[0],y[1])\n",
    "plt.bar(x,y[2],align = 'center',bottom=b ,color = 'b',label='coil')\n",
    "\n",
    "plt.xticks(weight='bold')\n",
    "plt.yticks(weight='bold')\n",
    "plt.legend(loc='upper right')\n",
    "xlabel(\"Residue number\",fontsize=15,family='times new roman',weight='bold')\n",
    "ylabel(r\"%Res\",fontsize=15,family='times new roman',weight='bold')\n",
    "plt.savefig(\"H_close_scale.jpg\", dpi=900) #指定分辨率保存\n",
    "plt.show()"
   ]
  }
 ],
 "metadata": {
  "kernelspec": {
   "display_name": "Python 3",
   "language": "python",
   "name": "python3"
  },
  "language_info": {
   "codemirror_mode": {
    "name": "ipython",
    "version": 3
   },
   "file_extension": ".py",
   "mimetype": "text/x-python",
   "name": "python",
   "nbconvert_exporter": "python",
   "pygments_lexer": "ipython3",
   "version": "3.8.5"
  }
 },
 "nbformat": 4,
 "nbformat_minor": 4
}
