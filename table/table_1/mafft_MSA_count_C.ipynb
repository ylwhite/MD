{
 "cells": [
  {
   "cell_type": "code",
   "execution_count": 1,
   "id": "2bcbcd7a",
   "metadata": {},
   "outputs": [],
   "source": [
    "import numpy as np\n",
    "import matplotlib.pyplot as plt\n",
    "import time\n",
    "import os\n",
    "import csv\n",
    "import pandas as pd\n",
    "import seaborn as sns\n",
    "import pysam as sam\n",
    "import pickle"
   ]
  },
  {
   "cell_type": "code",
   "execution_count": 2,
   "id": "f8445242",
   "metadata": {},
   "outputs": [],
   "source": [
    "file_path1 = \"/home/dldx/R-H/code/classification/ML/data/mafft_MSA_1.fa\"\n",
    "file_path3 = \"/home/dldx/R-H/code/classification/ML/data/mafft_MSA_3.fa\""
   ]
  },
  {
   "cell_type": "code",
   "execution_count": 3,
   "id": "65ff03ad",
   "metadata": {},
   "outputs": [],
   "source": [
    "fasta1 = sam.FastaFile(file_path1)\n",
    "fasta3 = sam.FastaFile(file_path3)"
   ]
  },
  {
   "cell_type": "code",
   "execution_count": 5,
   "id": "7fcc9608",
   "metadata": {},
   "outputs": [
    {
     "name": "stdout",
     "output_type": "stream",
     "text": [
      "KPC\n",
      "TPLCVT\n",
      "CTDLRNTT---NTNNS-----------TDNNNSNSE--GTIKGGE\n",
      "TSIGDK\n",
      "KLDIEP-ID---------------NDNT\n",
      "ISCNTSV\n",
      "ACPKISFEPIP\n",
      "APAG\n",
      "NDKKFSG\n",
      "QCTHGIRPVVSTQ\n",
      "NGSLAEEEV\n",
      "SENFTNNAKT\n",
      "PNNNTRKSIP--MGPGRA-FYTT--GQ--IIGDIRQA\n",
      "Q--FNK-TK-I\n",
      "T-NSSGGD\n",
      "NTSI\n",
      "DSIWNSENGTWN--ITRGLNNTGRND\n",
      "NRWQEVGK\n",
      "APPIKGN\n",
      "DGGKDDNS-------------RDGNE\n",
      "GGGDM\n"
     ]
    }
   ],
   "source": [
    "# R\n",
    "print(fasta1.fetch(fasta1.references[0],86,89))   # KPC\n",
    "print(fasta1.fetch(fasta1.references[0],92,98))   # TPLCVT\n",
    "print(fasta1.fetch(fasta1.references[0],100,145)) # CTDLRNTT---NTNNS-----------TDNNNSNSE--GTIKGGE\n",
    "print(fasta1.fetch(fasta1.references[0],154,160)) # TSIGDK\n",
    "print(fasta1.fetch(fasta1.references[0],169,197)) # KLDIEP-ID---------------NDNT\n",
    "print(fasta1.fetch(fasta1.references[0],201,208)) # ISCNTSV\n",
    "print(fasta1.fetch(fasta1.references[0],211,222))\n",
    "print(fasta1.fetch(fasta1.references[0],226,230))\n",
    "print(fasta1.fetch(fasta1.references[0],236,243))\n",
    "print(fasta1.fetch(fasta1.references[0],253,266))  #QCTHGIRPVVSTQ\n",
    "print(fasta1.fetch(fasta1.references[0],269,278))   \n",
    "print(fasta1.fetch(fasta1.references[0],281,291))\n",
    "print(fasta1.fetch(fasta1.references[0],306,343)) # PNNNTRKSIP--MGPGRA-FYTT--GQ--IIGDIRQA\n",
    "print(fasta1.fetch(fasta1.references[0],365,376))\n",
    "print(fasta1.fetch(fasta1.references[0],378,386))\n",
    "print(fasta1.fetch(fasta1.references[65],403,407))\n",
    "print(fasta1.fetch(fasta1.references[0],409,435)) # DSIWNSENGTWN--ITRGLNNTGRND\n",
    "print(fasta1.fetch(fasta1.references[0],447,455))\n",
    "print(fasta1.fetch(fasta1.references[0],458,465))\n",
    "print(fasta1.fetch(fasta1.references[0],479,505)) # DGGKDDNS-------------RDGNE\n",
    "print(fasta1.fetch(fasta1.references[0],509,514))"
   ]
  },
  {
   "cell_type": "code",
   "execution_count": 13,
   "id": "5aa93af6",
   "metadata": {},
   "outputs": [
    {
     "name": "stdout",
     "output_type": "stream",
     "text": [
      "NTSI\n",
      "GNLWVTVYYGVPVWKEAKATLFCASDAKAYDTEVHNVWATHACVPTDPNPQEIVLPNVTENFNMWKNDMVDQMHKDIISLWDQSLKPCVKLTPLCVTLNCTNATSTNANSTVNGESTNTSISNEMKNCSFNMTTELRDKKRQVYALFYKLDIVPIDGENNERNDSNSYRLINCNTSAITQACPKVSFDPIPIHYCAPAGYAILKCNNKTFNGTGPCNNVSTVQCTHGIKPVVSTQLLLNGSLAEEEIIIRSENLTDNTKTIIVQLNKAVEIVCTRPNNNTRKSIRIGPGQAFFATGDIIGDIREAHCNINRWNETLEGVREKLKGLFNKTIKFNSSSGGDLEITTHSFNCGGEFFYCNTSILWDSDKSNDTNITLPCRIKQIINMWQEVGRAMYAPPIAGSITCKSKITGLLLVRDGGINSSTETFRPGGGNMKDNWRSELYKYKVVEIQPLGVAPTG\n",
      "[357, 361]\n"
     ]
    }
   ],
   "source": [
    "fasta1.fetch(fasta1.references[65],403,408)\n",
    "original_R_1 = \"/www/yang/csv/MSA_before/1.fa\"\n",
    "original_fasta1 = sam.FastaFile(original_R_1)\n",
    "seq = original_fasta1.fetch(original_fasta1.references[65],0,original_fasta1.lengths[65])\n",
    "\n",
    "s_e = []\n",
    "start = seq.index(fasta1.fetch(fasta1.references[65],403,408)) \n",
    "end = start + len(all_region_residue_1[65][15])\n",
    "print(all_region_residue_1[65][15])\n",
    "# print(all_region_residue_1[65][15])\n",
    "s_e.append(start)\n",
    "s_e.append(end)\n",
    "print(seq)\n",
    "print(s_e)"
   ]
  },
  {
   "cell_type": "code",
   "execution_count": null,
   "id": "8cd3ba04",
   "metadata": {},
   "outputs": [],
   "source": [
    "original_R_1 = \"/www/yang/csv/MSA_before/1.fa\"\n",
    "original_fasta1 = sam.FastaFile(original_R_1)\n",
    "\n",
    "index_region_R_1 = []\n",
    "\n",
    "seq.index(all_region_residue_1[0][0])\n",
    "\n",
    "# 获取这些残基在MSA之前原始序列的位置\n",
    "for i in range(72):\n",
    "    seq = original_fasta1.fetch(original_fasta1.references[i],0,original_fasta1.lengths[i])\n",
    "    \n",
    "    # 21个区域\n",
    "    one_region_R_1 = []\n",
    "    for j in range(21):\n",
    "        # 单个区域\n",
    "        s_e = []\n",
    "        start = seq.index(all_region_residue_1[i][j]) \n",
    "        end = start + len(all_region_residue_1[i][j])\n",
    "        s_e.append(start)\n",
    "        s_e.append(end)\n",
    "        one_region_R_1.append(s_e)\n",
    "    index_region_R_1.append(one_region_R_1)\n",
    "print(index_region_R_1)\n",
    "print(len(index_region_R_1))"
   ]
  },
  {
   "cell_type": "code",
   "execution_count": null,
   "id": "5e290e2e",
   "metadata": {},
   "outputs": [],
   "source": []
  },
  {
   "cell_type": "code",
   "execution_count": 4,
   "id": "63004bc6",
   "metadata": {
    "collapsed": true
   },
   "outputs": [
    {
     "data": {
      "text/plain": [
       "['R_seq',\n",
       " 'C.IN.2000.0013095_2_11.EF117267',\n",
       " 'C.IN.2000.001428_2_42.EF117266',\n",
       " 'C.TZ.2004.0041_V3_C18.HM215253',\n",
       " 'C.TZ.2003.0077_V1_C16.HM215254',\n",
       " 'C.IN.2000.00836_2_5.EF117265',\n",
       " 'A1.TZ.2005.0260_V5_C1.HM215255',\n",
       " 'A1.TZ.2005.0260_V5_C36.HM215256',\n",
       " 'C.MW.2008.0301_BM_A12.HM070481',\n",
       " 'C.MW.2008.0301_BM_A2.HM070482',\n",
       " 'C.MW.2008.0301_BM_A6.HM070484',\n",
       " 'A1.TZ.2005.0330_V4_C3.HM215257',\n",
       " 'C.MW.2009.0404_BM_B9.HQ595836',\n",
       " 'C.MW.2009.0404_BM_D4.HQ595839',\n",
       " 'C.MW.2009.0404_BM_F3.HQ595842',\n",
       " 'C.MW.2009.0404_BM_G3.HQ595847',\n",
       " 'C.MW.2009.0404_BM_H4.HQ595852',\n",
       " 'A1.TZ.2005.0439_V5_C1.HM215258',\n",
       " 'C.MW.2008.0702_BM_B4.HM070516',\n",
       " 'C.MW.2008.0702_BM_B9.HM070517',\n",
       " 'C.MW.2008.0702_BM_D1.HM070518',\n",
       " 'B.US.2019.6292_V7_G8_4.MZ396991',\n",
       " 'B.US.2019.6292_V7_H7_4.MZ396989',\n",
       " 'C.TZ.2005.6322_V4_C1.HM215326',\n",
       " 'B.US.1997.63358_04_P3_4013.EU289192',\n",
       " 'D.TZ.2004.6405_V4_C34.HM215327',\n",
       " '01_AE.TH.2006.644039_C01B.JN944657',\n",
       " 'C.TZ.2003.6471_V1_C16.HM215328',\n",
       " 'CD.TZ.2004.6480_V4_C25.HM215329',\n",
       " 'B.US.x.653116_E1.MT023027',\n",
       " 'B.US.x.653116_NE1.MT023028',\n",
       " 'B.US.1995.6535_3.AY835438',\n",
       " 'A1C.TZ.2004.6540_V4_C1.HM215330',\n",
       " 'A1C.TZ.2004.6545_V3_C13.HM215331',\n",
       " 'A1C.TZ.2005.6545_V4_C1.HM215332',\n",
       " 'A1.TZ.2006.6592_V7_C25.HM215334',\n",
       " 'C.TZ.2004.6631_V3_C10.HM215335',\n",
       " 'C.TZ.2004.6644_V2_C33.HM215336',\n",
       " '41_CD.TZ.2003.6650_V1_C8.HM215337',\n",
       " 'B.US.2019.6775_BL_B10_3.MZ397024',\n",
       " 'B.US.2019.6775_BL_E3_3.MZ397026',\n",
       " 'B.US.2019.6775_BL_E5_2.MZ397025',\n",
       " 'B.US.2019.6775_BL_F5_2.MZ397023',\n",
       " 'B.US.2019.6775_BL_G10_2.MZ397020',\n",
       " 'B.US.2019.6775_BL_G3_4.MZ397019',\n",
       " 'B.US.2019.6775_BL_H10_4.MZ397021',\n",
       " 'B.US.2019.6775_BL_H7_3.MZ397022',\n",
       " 'B.US.2019.6775_V7_D2_4.MZ397015',\n",
       " 'B.US.2019.6775_V7_D3_3.MZ397014',\n",
       " 'B.US.2019.6775_V7_D6_3.MZ397017',\n",
       " 'B.US.2019.6775_V7_D7_3.MZ397018',\n",
       " 'B.US.2019.6775_V7_E5_1.MZ397016',\n",
       " 'C.TZ.2005.6785_V5_C14.HM215338',\n",
       " 'CD.TZ.2006.6811_V7_C18.HM215340',\n",
       " 'C.TZ.2003.6838_V1_C35.HM215341',\n",
       " '41_CD.TZ.2003.6952_V1_C20.HM215343',\n",
       " 'C.TZ.2003.6980_V0_C31.HM215344',\n",
       " 'C.TZ.2003.6980_V1_C17.HM215345',\n",
       " 'B.US.2006.700010040_C9_4520.EU289193',\n",
       " 'B.US.2006.700010058_A4_4375.EU289194',\n",
       " 'C.MW.2006.703010010_C4.KC894105',\n",
       " 'C.MW.2007.703010054_2A2.FJ443808',\n",
       " 'C.MW.2007.703010131_1E2.KC894107',\n",
       " 'C.MW.2007.703010200_1E5.FJ443999',\n",
       " 'C.MW.2007.703010217_B6.KC894109',\n",
       " 'C.MW.2007.703010228_1C4.FJ444031',\n",
       " '01_AE.TH.2005.703357_C2.JN944658',\n",
       " 'C.ZA.2007.704010042_2E5.KC894113',\n",
       " 'C.ZA.2007.704010069_C6.KC894114',\n",
       " 'C.ZA.2007.704010083_B8.FJ443671',\n",
       " 'C.ZA.2007.704809221_1B3.FJ444103',\n",
       " 'C.ZA.2007.704810053_2B7.KC894119']"
      ]
     },
     "execution_count": 4,
     "metadata": {},
     "output_type": "execute_result"
    }
   ],
   "source": [
    "fasta1.references"
   ]
  },
  {
   "cell_type": "code",
   "execution_count": 5,
   "id": "bd2c41a9",
   "metadata": {
    "collapsed": true
   },
   "outputs": [
    {
     "data": {
      "text/plain": [
       "[539,\n",
       " 539,\n",
       " 539,\n",
       " 539,\n",
       " 539,\n",
       " 539,\n",
       " 539,\n",
       " 539,\n",
       " 539,\n",
       " 539,\n",
       " 539,\n",
       " 539,\n",
       " 539,\n",
       " 539,\n",
       " 539,\n",
       " 539,\n",
       " 539,\n",
       " 539,\n",
       " 539,\n",
       " 539,\n",
       " 539,\n",
       " 539,\n",
       " 539,\n",
       " 539,\n",
       " 539,\n",
       " 539,\n",
       " 539,\n",
       " 539,\n",
       " 539,\n",
       " 539,\n",
       " 539,\n",
       " 539,\n",
       " 539,\n",
       " 539,\n",
       " 539,\n",
       " 539,\n",
       " 539,\n",
       " 539,\n",
       " 539,\n",
       " 539,\n",
       " 539,\n",
       " 539,\n",
       " 539,\n",
       " 539,\n",
       " 539,\n",
       " 539,\n",
       " 539,\n",
       " 539,\n",
       " 539,\n",
       " 539,\n",
       " 539,\n",
       " 539,\n",
       " 539,\n",
       " 539,\n",
       " 539,\n",
       " 539,\n",
       " 539,\n",
       " 539,\n",
       " 539,\n",
       " 539,\n",
       " 539,\n",
       " 539,\n",
       " 539,\n",
       " 539,\n",
       " 539,\n",
       " 539,\n",
       " 539,\n",
       " 539,\n",
       " 539,\n",
       " 539,\n",
       " 539,\n",
       " 539]"
      ]
     },
     "execution_count": 5,
     "metadata": {},
     "output_type": "execute_result"
    }
   ],
   "source": [
    "fasta1.lengths"
   ]
  },
  {
   "cell_type": "code",
   "execution_count": 46,
   "id": "318cdc42",
   "metadata": {
    "collapsed": true
   },
   "outputs": [
    {
     "data": {
      "text/plain": [
       "[544,\n",
       " 544,\n",
       " 544,\n",
       " 544,\n",
       " 544,\n",
       " 544,\n",
       " 544,\n",
       " 544,\n",
       " 544,\n",
       " 544,\n",
       " 544,\n",
       " 544,\n",
       " 544,\n",
       " 544,\n",
       " 544,\n",
       " 544,\n",
       " 544,\n",
       " 544,\n",
       " 544,\n",
       " 544,\n",
       " 544,\n",
       " 544,\n",
       " 544,\n",
       " 544,\n",
       " 544,\n",
       " 544,\n",
       " 544,\n",
       " 544,\n",
       " 544,\n",
       " 544,\n",
       " 544,\n",
       " 544,\n",
       " 544,\n",
       " 544,\n",
       " 544,\n",
       " 544,\n",
       " 544,\n",
       " 544,\n",
       " 544,\n",
       " 544,\n",
       " 544,\n",
       " 544,\n",
       " 544,\n",
       " 544,\n",
       " 544,\n",
       " 544,\n",
       " 544,\n",
       " 544,\n",
       " 544,\n",
       " 544,\n",
       " 544,\n",
       " 544,\n",
       " 544,\n",
       " 544,\n",
       " 544,\n",
       " 544,\n",
       " 544,\n",
       " 544,\n",
       " 544,\n",
       " 544,\n",
       " 544,\n",
       " 544,\n",
       " 544,\n",
       " 544,\n",
       " 544,\n",
       " 544,\n",
       " 544,\n",
       " 544,\n",
       " 544,\n",
       " 544,\n",
       " 544,\n",
       " 544,\n",
       " 544,\n",
       " 544,\n",
       " 544,\n",
       " 544,\n",
       " 544,\n",
       " 544,\n",
       " 544,\n",
       " 544,\n",
       " 544,\n",
       " 544,\n",
       " 544,\n",
       " 544,\n",
       " 544,\n",
       " 544,\n",
       " 544,\n",
       " 544,\n",
       " 544,\n",
       " 544,\n",
       " 544,\n",
       " 544,\n",
       " 544,\n",
       " 544,\n",
       " 544,\n",
       " 544,\n",
       " 544,\n",
       " 544,\n",
       " 544,\n",
       " 544,\n",
       " 544,\n",
       " 544,\n",
       " 544,\n",
       " 544,\n",
       " 544,\n",
       " 544,\n",
       " 544]"
      ]
     },
     "execution_count": 46,
     "metadata": {},
     "output_type": "execute_result"
    }
   ],
   "source": [
    "fasta3.lengths"
   ]
  },
  {
   "cell_type": "code",
   "execution_count": 4,
   "id": "6241b028",
   "metadata": {},
   "outputs": [],
   "source": [
    "test = fasta1.fetch(fasta1.references[0],0,539)\n",
    "tt = fasta3.fetch(fasta3.references[0],0,544)"
   ]
  },
  {
   "cell_type": "code",
   "execution_count": 5,
   "id": "eda7162e",
   "metadata": {},
   "outputs": [
    {
     "data": {
      "text/plain": [
       "'EKLWVTVYYGVPVWKEATTTLFCASDAKAYDTEAHNVWATHACVPTDPNPQEVEL-VNVTENFNMWKNNMVEQMHEDIISLWDQSLKPCVKLTPLCVTLNCTDLRNTT---NTNNS-----------TDNNNSNSE--GTIKGGEMKNCSFNIATSIGDKMQKEYALLYKLDIEP-ID---------------NDNTSYRLISCNTSVITQACPKISFEPIPIHYCAPAGFAILKCNDKKFSGKGSCKNVSTVQCTHGIRPVVSTQLLLNGSLAEEEVVIRSENFTNNAKTIIVQLREPVKINCSRPNNNTRKSIP--MGPGRA-FYTT--GQ--IIGDIRQAHCNISKTNWTNALKQVVEKLGEQ--FNK-TK-IVFT-NSSGGDPEIVTHSFNCAGEFFYCNTTQLFDSIWNSENGTWN--ITRGLNNTGRNDTITLPCRIKQIINRWQEVGKAMYAPPIKGNISCSSNITGLLLTRDGGKDDNS-------------RDGNETFRPGGGDMRDNWRSELYKYKVVKIEPLGVAPTK'"
      ]
     },
     "execution_count": 5,
     "metadata": {},
     "output_type": "execute_result"
    }
   ],
   "source": [
    "test"
   ]
  },
  {
   "cell_type": "code",
   "execution_count": 6,
   "id": "47ee01d7",
   "metadata": {},
   "outputs": [
    {
     "data": {
      "text/plain": [
       "'EDRWVTVYYGVPVWKEAT--TTLFCASDAKAYDTEVHNVWATHACVPTDPNPQELRLENVTEEFNIWKNDMVEQMHEDIISLWDQSLKPCVKLTPLCVTLNCTK-ITMKS--------T-------NNTNTN---TS----------WERGE---EMKNCSFNVSSSVRDKMKREYALFYKLDIVPIDDSNSS--------SSNYSSYRLINCNTSVITQACPKVTFEPIPIHYCTPAGFALLKCNDKRFNGTGKCTNVSTVQCTHGIKPVVSTQLLLNGSLAE-EEVILKSANITDNAKTIIVQLNETVEINCTRPNNNTRKSIPIGPGRAFYTTGDIIGDIRQAHCNISRAKWNLTLHRIATALKAKF-NDNTIVF-NQS--SGGDPEVVMHTFNCGGEFFYCNTSQLFN--STW---N--------GTEPT--------NSN-KENGTITLPCRIKQIVNMWQEVGKAMYAPPIRGQIRCSSNITGLLLTRDGGN--------SSTETFRPGGGDMRDNWRSELYKYKVVKIEPLGVAPTK'"
      ]
     },
     "execution_count": 6,
     "metadata": {},
     "output_type": "execute_result"
    }
   ],
   "source": [
    "tt"
   ]
  },
  {
   "cell_type": "code",
   "execution_count": 8,
   "id": "975073fd",
   "metadata": {},
   "outputs": [
    {
     "name": "stdout",
     "output_type": "stream",
     "text": [
      "83\n",
      "89\n",
      "=========α1-β2=======\n",
      "89\n",
      "98\n",
      "========β2-βa========\n",
      "98\n",
      "145\n",
      "========βa-βb========\n",
      "151\n",
      "160\n",
      "=========βb-βc=======\n",
      "167\n",
      "197\n",
      "========βc-βd========\n",
      "197\n",
      "208\n",
      "========βd->β3========\n",
      "208\n",
      "222\n",
      "========β3-β4========\n",
      "222\n",
      "230\n",
      "========β4-β5========\n",
      "233\n",
      "243\n",
      "=========β5-β6=======\n",
      "249\n",
      "266\n",
      "=========β7-β9=======\n",
      "266\n",
      "278\n",
      "=======β9-β10=========\n",
      "278\n",
      "291\n",
      "=======β10-β11=========\n",
      "303\n",
      "343\n",
      "========12-β13========\n",
      "362\n",
      "376\n",
      "========α2-β14========\n",
      "376\n",
      "386\n",
      "=========β14-α3=======\n",
      "400\n",
      "406\n",
      "========β17-α4========\n",
      "406\n",
      "435\n",
      "========α4->β19========\n",
      "444\n",
      "455\n",
      "=========β20-β21=======\n",
      "455\n",
      "465\n",
      "=======β21-β22=========\n",
      "476\n",
      "505\n",
      "=======β23-β24=========\n",
      "505\n",
      "514\n",
      "=======β24-α5=========\n"
     ]
    }
   ],
   "source": [
    "# 通过二级结构确定需要统计无规则卷曲长度区域   R\n",
    "print(test.index(\"QSL\"))\n",
    "print(test.index(\"VKL\"))\n",
    "print(\"=========α1-β2=======\")\n",
    "\n",
    "print(test.index(\"VKL\"))\n",
    "print(test.index(\"LN\"))\n",
    "print(\"========β2-βa========\")\n",
    "\n",
    "print(test.index(\"LN\"))\n",
    "print(test.index(\"MKN\"))\n",
    "print(\"========βa-βb========\")\n",
    "\n",
    "print(test.index(\"NIA\"))\n",
    "print(test.index(\"MQK\"))\n",
    "print(\"=========βb-βc=======\")\n",
    "\n",
    "print(test.index(\"LY\"))\n",
    "print(test.index(\"SYRL\"))\n",
    "print(\"========βc-βd========\")\n",
    "\n",
    "print(test.index(\"SYRL\"))\n",
    "print(test.index(\"ITQ\"))\n",
    "print(\"========βd->β3========\")\n",
    "\n",
    "print(test.index(\"ITQ\"))\n",
    "print(test.index(\"IHYC\"))\n",
    "print(\"========β3-β4========\")\n",
    "\n",
    "print(test.index(\"IHYC\"))\n",
    "print(test.index(\"FAI\"))\n",
    "print(\"========β4-β5========\")\n",
    "\n",
    "print(test.index(\"LKC\"))\n",
    "print(test.index(\"KGSC\"))\n",
    "print(\"=========β5-β6=======\")\n",
    "\n",
    "print(test.index(\"VSTV\"))\n",
    "print(test.index(\"LLL\"))\n",
    "print(\"=========β7-β9=======\")\n",
    "\n",
    "print(test.index(\"LLL\"))\n",
    "print(test.index(\"VIR\"))\n",
    "print(\"=======β9-β10=========\")\n",
    "\n",
    "print(test.index(\"VIR\"))\n",
    "print(test.index(\"IIV\"))\n",
    "print(\"=======β10-β11=========\")\n",
    "\n",
    "print(test.index(\"CSR\"))\n",
    "print(test.index(\"HCN\"))\n",
    "print(\"========12-β13========\")\n",
    "\n",
    "print(test.index(\"LGE\"))\n",
    "print(test.index(\"VF\"))\n",
    "print(\"========α2-β14========\")\n",
    "\n",
    "print(test.index(\"VF\"))\n",
    "print(test.index(\"PEI\"))\n",
    "print(\"=========β14-α3=======\")\n",
    "\n",
    "print(test.index(\"FYC\"))\n",
    "print(test.index(\"QLF\"))\n",
    "print(\"========β17-α4========\")\n",
    "\n",
    "print(test.index(\"QLF\"))\n",
    "print(test.index(\"TIT\"))\n",
    "print(\"========α4->β19========\")\n",
    "\n",
    "print(test.index(\"QII\"))\n",
    "print(test.index(\"AMY\"))\n",
    "print(\"=========β20-β21=======\")\n",
    "\n",
    "print(test.index(\"AMY\"))\n",
    "print(test.index(\"ISCS\"))\n",
    "print(\"=======β21-β22=========\")\n",
    "\n",
    "print(test.index(\"LTR\"))\n",
    "print(test.index(\"TFRP\"))\n",
    "print(\"=======β23-β24=========\")\n",
    "\n",
    "print(test.index(\"TFRP\"))\n",
    "print(test.index(\"RDN\"))\n",
    "print(\"=======β24-α5=========\")"
   ]
  },
  {
   "cell_type": "code",
   "execution_count": 9,
   "id": "918567d6",
   "metadata": {},
   "outputs": [
    {
     "name": "stdout",
     "output_type": "stream",
     "text": [
      "KPC\n",
      "TPLCVT\n",
      "CTDLRNTT---NTNNS-----------TDNNNSNSE--GTIKGGE\n",
      "TSIGDK\n",
      "KLDIEP-ID---------------NDNT\n",
      "ISCNTSV\n",
      "ACPKISFEPIP\n",
      "APAG\n",
      "NDKKFSG\n",
      "QCTHGIRPVVSTQ\n",
      "NGSLAEEEV\n",
      "SENFTNNAKT\n",
      "PNNNTRKSIP--MGPGRA-FYTT--GQ--IIGDIRQA\n",
      "Q--FNK-TK-I\n",
      "T-NSSGGD\n",
      "NTTQ\n",
      "DSIWNSENGTWN--ITRGLNNTGRND\n",
      "NRWQEVGK\n",
      "APPIKGN\n",
      "DGGKDDNS-------------RDGNE\n",
      "GGGDM\n"
     ]
    }
   ],
   "source": [
    "# R\n",
    "print(fasta1.fetch(fasta1.references[0],86,89))   # KPC\n",
    "print(fasta1.fetch(fasta1.references[0],92,98))   # TPLCVT\n",
    "print(fasta1.fetch(fasta1.references[0],100,145)) # CTDLRNTT---NTNNS-----------TDNNNSNSE--GTIKGGE\n",
    "print(fasta1.fetch(fasta1.references[0],154,160)) # TSIGDK\n",
    "print(fasta1.fetch(fasta1.references[0],169,197)) # KLDIEP-ID---------------NDNT\n",
    "print(fasta1.fetch(fasta1.references[0],201,208)) # ISCNTSV\n",
    "print(fasta1.fetch(fasta1.references[0],211,222))\n",
    "print(fasta1.fetch(fasta1.references[0],226,230))\n",
    "print(fasta1.fetch(fasta1.references[0],236,243))\n",
    "print(fasta1.fetch(fasta1.references[0],253,266))  #QCTHGIRPVVSTQ\n",
    "print(fasta1.fetch(fasta1.references[0],269,278))   \n",
    "print(fasta1.fetch(fasta1.references[0],281,291))\n",
    "print(fasta1.fetch(fasta1.references[0],306,343)) # PNNNTRKSIP--MGPGRA-FYTT--GQ--IIGDIRQA\n",
    "print(fasta1.fetch(fasta1.references[0],365,376))\n",
    "print(fasta1.fetch(fasta1.references[0],378,386))\n",
    "print(fasta1.fetch(fasta1.references[0],403,407))\n",
    "print(fasta1.fetch(fasta1.references[0],409,435)) # DSIWNSENGTWN--ITRGLNNTGRND\n",
    "print(fasta1.fetch(fasta1.references[0],447,455))\n",
    "print(fasta1.fetch(fasta1.references[0],458,465))\n",
    "print(fasta1.fetch(fasta1.references[0],479,505)) # DGGKDDNS-------------RDGNE\n",
    "print(fasta1.fetch(fasta1.references[0],509,514))"
   ]
  },
  {
   "cell_type": "code",
   "execution_count": 10,
   "id": "ebd501be",
   "metadata": {},
   "outputs": [
    {
     "name": "stdout",
     "output_type": "stream",
     "text": [
      "84\n",
      "90\n",
      "========α1-β2========\n",
      "90\n",
      "99\n",
      "========β2-βa========\n",
      "99\n",
      "156\n",
      "=======βa-βb=========\n",
      "162\n",
      "171\n",
      "=======βb-βc=========\n",
      "177\n",
      "206\n",
      "=======βc-βd=========\n",
      "206\n",
      "217\n",
      "=======βd-β3=========\n",
      "217\n",
      "231\n",
      "=======β3-β4=========\n",
      "231\n",
      "239\n",
      "=======β4-β5=========\n",
      "242\n",
      "252\n",
      "=======β5-β6=========\n",
      "258\n",
      "275\n",
      "=======β7-β9=========\n",
      "275\n",
      "287\n",
      "=======β9-β10=========\n",
      "287\n",
      "301\n",
      "=======β10-β11=========\n",
      "313\n",
      "346\n",
      "=======β12-β13=========\n",
      "365\n",
      "376\n",
      "=======α2-β14=========\n",
      "376\n",
      "388\n",
      "=======β14-α3=========\n",
      "402\n",
      "408\n",
      "=======β17-α4=========\n",
      "408\n",
      "450\n",
      "=======α4-β19=========\n",
      "459\n",
      "470\n",
      "=======β20-β21=========\n",
      "470\n",
      "480\n",
      "=======β21-β22=========\n",
      "491\n",
      "510\n",
      "=======β23-β24=========\n",
      "510\n",
      "519\n",
      "=======β24-α5=========\n"
     ]
    }
   ],
   "source": [
    "# 通过二级结构确定需要统计无规则卷曲长度区域   H\n",
    "print(tt.index(\"QSL\"))\n",
    "print(tt.index(\"VKL\"))\n",
    "print(\"========α1-β2========\")\n",
    "\n",
    "print(tt.index(\"VKL\"))\n",
    "print(tt.index(\"LN\"))\n",
    "print(\"========β2-βa========\")\n",
    "\n",
    "print(tt.index(\"LN\"))\n",
    "print(tt.index(\"MKN\"))\n",
    "print(\"=======βa-βb=========\")\n",
    "\n",
    "print(tt.index(\"NVS\"))\n",
    "print(tt.index(\"MKR\"))\n",
    "print(\"=======βb-βc=========\")\n",
    "\n",
    "print(tt.index(\"LFY\"))\n",
    "print(tt.index(\"SYRL\"))\n",
    "print(\"=======βc-βd=========\")\n",
    "\n",
    "print(tt.index(\"SYRL\"))\n",
    "print(tt.index(\"ITQ\"))\n",
    "print(\"=======βd-β3=========\")\n",
    "\n",
    "print(tt.index(\"ITQ\"))\n",
    "print(tt.index(\"IHYC\"))\n",
    "print(\"=======β3-β4=========\")\n",
    "\n",
    "print(tt.index(\"IHYC\"))\n",
    "print(tt.index(\"FAL\"))\n",
    "print(\"=======β4-β5=========\")\n",
    "\n",
    "print(tt.index(\"LKC\"))\n",
    "print(tt.index(\"TGKC\"))\n",
    "print(\"=======β5-β6=========\")\n",
    "\n",
    "print(tt.index(\"VSTV\"))\n",
    "print(tt.index(\"LLL\"))\n",
    "print(\"=======β7-β9=========\")\n",
    "\n",
    "print(tt.index(\"LLL\"))\n",
    "print(tt.index(\"VIL\"))\n",
    "print(\"=======β9-β10=========\")\n",
    "\n",
    "print(tt.index(\"VIL\"))\n",
    "print(tt.index(\"IIV\"))\n",
    "print(\"=======β10-β11=========\")\n",
    "\n",
    "print(tt.index(\"CTR\"))\n",
    "print(tt.index(\"HCN\"))\n",
    "print(\"=======β12-β13=========\")\n",
    "\n",
    "print(tt.index(\"LKA\"))\n",
    "print(tt.index(\"VF\"))\n",
    "print(\"=======α2-β14=========\")\n",
    "\n",
    "print(tt.index(\"VF\"))\n",
    "print(tt.index(\"PEV\"))\n",
    "print(\"=======β14-α3=========\")\n",
    "\n",
    "print(tt.index(\"FYC\"))\n",
    "print(tt.index(\"QLF\"))\n",
    "print(\"=======β17-α4=========\")\n",
    "\n",
    "print(tt.index(\"QLF\"))\n",
    "print(tt.index(\"TIT\"))\n",
    "print(\"=======α4-β19=========\")\n",
    "\n",
    "print(tt.index(\"QIV\"))\n",
    "print(tt.index(\"AMY\"))\n",
    "print(\"=======β20-β21=========\")\n",
    "\n",
    "print(tt.index(\"AMY\"))\n",
    "print(tt.index(\"IRC\"))\n",
    "print(\"=======β21-β22=========\")\n",
    "\n",
    "print(tt.index(\"LTR\"))\n",
    "print(tt.index(\"TFR\"))\n",
    "print(\"=======β23-β24=========\")\n",
    "\n",
    "print(tt.index(\"TFRP\"))\n",
    "print(tt.index(\"RDN\"))\n",
    "print(\"=======β24-α5=========\")"
   ]
  },
  {
   "cell_type": "code",
   "execution_count": 11,
   "id": "2f75ad46",
   "metadata": {},
   "outputs": [
    {
     "name": "stdout",
     "output_type": "stream",
     "text": [
      "KPC\n",
      "TPLCVT\n",
      "CTK-ITMKS--------T-------NNTNTN---TS----------WERGE---E\n",
      "SSVRDK\n",
      "KLDIVPIDDSNSS--------SSNYS\n",
      "INCNTSV\n",
      "ACPKVTFEPIP\n",
      "TPAG\n",
      "NDKRFNG\n",
      "QCTHGIKPVVSTQ\n",
      "NGSLAE-EE\n",
      "KSANITDNAKT\n",
      "PNNNTRKSIPIGPGRAFYTTGDIIGDIRQA\n",
      "KF-NDNTI\n",
      "-NQS--SGGD\n",
      "NTSQ\n",
      "N--STW---N--------GTEPT--------NSN-KENG\n",
      "NMWQEVGK\n",
      "APPIRGQ\n",
      "DGGN--------SSTE\n",
      "GGGDM\n"
     ]
    }
   ],
   "source": [
    "# H\n",
    "print(fasta3.fetch(fasta3.references[0],87,90))\n",
    "print(fasta3.fetch(fasta3.references[0],93,99))    # TPLCVT\n",
    "print(fasta3.fetch(fasta3.references[0],101,156))  # CTK-ITMKS--------T-------NNTNTN---TS----------WERGE---E\n",
    "print(fasta3.fetch(fasta3.references[0],165,171))  # SSVRDK\n",
    "print(fasta3.fetch(fasta3.references[0],180,206))  # KLDIVPIDDSNSS--------SSNYS\n",
    "print(fasta3.fetch(fasta3.references[0],210,217))  # INCNTSV\n",
    "print(fasta3.fetch(fasta3.references[0],220,231))\n",
    "print(fasta3.fetch(fasta3.references[0],235,239))\n",
    "print(fasta3.fetch(fasta3.references[0],245,252))\n",
    "print(fasta3.fetch(fasta3.references[0],262,275))  # QCTHGIKPVVSTQ\n",
    "print(fasta3.fetch(fasta3.references[0],278,287))    \n",
    "print(fasta3.fetch(fasta3.references[0],290,301))\n",
    "print(fasta3.fetch(fasta3.references[0],316,346))  # PNNNTRKSIPIGPGRAFYTTGDIIGDIRQA\n",
    "print(fasta3.fetch(fasta3.references[0],368,376))\n",
    "print(fasta3.fetch(fasta3.references[0],378,388))\n",
    "print(fasta3.fetch(fasta3.references[0],405,409))\n",
    "print(fasta3.fetch(fasta3.references[0],411,450))  # N--STW---N--------GTEPT--------NSN-KENG\n",
    "print(fasta3.fetch(fasta3.references[0],462,470))\n",
    "print(fasta3.fetch(fasta3.references[0],473,480))\n",
    "print(fasta3.fetch(fasta3.references[0],494,510))  # DGGN--------SSTE\n",
    "print(fasta3.fetch(fasta3.references[0],514,519))"
   ]
  },
  {
   "cell_type": "code",
   "execution_count": 29,
   "id": "83291fb2",
   "metadata": {},
   "outputs": [
    {
     "name": "stdout",
     "output_type": "stream",
     "text": [
      "TPLCVT\n",
      "CSKAKNIT------------------EEVIKNNT-------YKED\n",
      "TEVKDK\n",
      "RLDIVP-LNKRNSSE-----SEEENSSG\n",
      "INCNTSA\n",
      "PNENRRKSIR--IGPGQA-FYAT--GD--IIGDIRQA\n",
      "NGTYMPTYMPNS-------TNSNSSS\n",
      "DGGNGND--------------TNKTE\n"
     ]
    }
   ],
   "source": [
    "# test\n",
    "print(fasta1.fetch(fasta1.references[1],92,98))\n",
    "print(fasta1.fetch(fasta1.references[1],100,145))\n",
    "print(fasta1.fetch(fasta1.references[1],154,160))\n",
    "print(fasta1.fetch(fasta1.references[1],169,197))\n",
    "print(fasta1.fetch(fasta1.references[1],201,208))\n",
    "print(fasta1.fetch(fasta1.references[1],306,343))\n",
    "print(fasta1.fetch(fasta1.references[1],409,435))\n",
    "print(fasta1.fetch(fasta1.references[1],479,505))\n",
    "\n",
    "# 'TPLCVT',\n",
    "# 'CSKAKNIT------------------EEVIKNNT-------YKED', \n",
    "# 'TEVKDK',\n",
    "# 'RLDIVP-LNKRNSSE-----SEEENSSG', \n",
    "# 'INCNTSA',\n",
    "# 'PNENRRKSIR--IGPGQA-FYAT--GD--IIGDIRQA',\n",
    "# 'NGTYMPTYMPNS-------TNSNSSS', \n",
    "# 'DGGNGND--------------TNKTE'"
   ]
  },
  {
   "cell_type": "code",
   "execution_count": 22,
   "id": "cec7b0c9",
   "metadata": {},
   "outputs": [
    {
     "name": "stdout",
     "output_type": "stream",
     "text": [
      "EKLWVTVYYGVPVWKEATTTLFCASDAKAYDTEAHNVWATHACVPTDPNPQEVELVNVTENFNMWKNNMVEQMHEDIISLWDQSLKPCVKLTPLCVTLNCTDLRNTTNTNNSTDNNNSNSEGTIKGGEMKNCSFNIATSIGDKMQKEYALLYKLDIEPIDNDNTSYRLISCNTSVITQACPKISFEPIPIHYCAPAGFAILKCNDKKFSGKGSCKNVSTVQCTHGIRPVVSTQLLLNGSLAEEEVVIRSENFTNNAKTIIVQLREPVKINCSRPNNNTRKSIPMGPGRAFYTTGQIIGDIRQAHCNISKTNWTNALKQVVEKLGEQFNKTKIVFTNSSGGDPEIVTHSFNCAGEFFYCNTTQLFDSIWNSENGTWNITRGLNNTGRNDTITLPCRIKQIINRWQEVGKAMYAPPIKGNISCSSNITGLLLTRDGGKDDNSRDGNETFRPGGGDMRDNWRSELYKYKVVKIEPLGVAPTK\n"
     ]
    }
   ],
   "source": [
    "tt = test.replace('-','')\n",
    "print(tt)"
   ]
  },
  {
   "cell_type": "code",
   "execution_count": 9,
   "id": "d6e6e703",
   "metadata": {},
   "outputs": [
    {
     "name": "stdout",
     "output_type": "stream",
     "text": [
      "[['KPC', 'TPLCVT', 'CTDLRNTTNTNNSTDNNNSNSEGTIKGGE', 'TSIGDK', 'KLDIEPIDNDNT', 'ISCNTSV', 'ACPKISFEPIP', 'APAG', 'NDKKFSG', 'QCTHGIRPVVSTQ', 'NGSLAEEEV', 'SENFTNNAKT', 'PNNNTRKSIPMGPGRAFYTTGQIIGDIRQA', 'QFNKTKI', 'TNSSGGD', 'NTTQ', 'DSIWNSENGTWNITRGLNNTGRND', 'NRWQEVGK', 'APPIKGN', 'DGGKDDNSRDGNE', 'GGGDM'], ['KPC', 'TPLCVT', 'CSKAKNITEEVIKNNTYKED', 'TEVKDK', 'RLDIVPLNKRNSSESEEENSSG', 'INCNTSA', 'ACPKVTFDPIP', 'TPAG', 'NEETFNG', 'QCTHGIKPVVSTQ', 'NGSLAEGEI', 'SKNLTDNAKT', 'PNENRRKSIRIGPGQAFYATGDIIGDIRQA', 'HFPNKTI', 'KSSSGGD', 'NTSG', 'NGTYMPTYMPNSTNSNSSS', 'NMWQEVGR', 'APPIEGE', 'DGGNGNDTNKTE', 'EGGDM'], ['KPC', 'TPLCVT', 'CTQVNATQGNTTQVNVTQVNGDE', 'TEIRDK', 'RLDLVPLERENRGDSNSAS', 'INCNTSA', 'ACPKVNFDPIP', 'TPAG', 'NNKTFNG', 'QCTHGIKPVVSTQ', 'NGSLAEEEI', 'SENLTDNVKT', 'PNNNTRKSIRIGPGQTFYATGDIIGNIREA', 'HFPNKTI', 'TSSSGGD', 'NTSG', 'NSTYMPNGTYMPNGTNNSNS', 'NMWQEVGR', 'APPIAGN', 'DGGKNNNTE', 'GGGDM'], ['KPC', 'TPLCVT', 'CENVNVTSNSSVTTSTSNTTATSINNMNGE', 'TELKDK', 'KLDIVSLKGVGNEG', 'INCNTSV', 'ACPKVSFDPIP', 'APAG', 'NNEAFNG', 'QCTHGIKPVVSTQ', 'NGSLAEEI', 'SANLSNNAKI', 'PNNNTRDSIRIGPGQAFYATKAIIGDIRQA', 'YFPHKTI', 'NASSGGD', 'NTSS', 'NSTYHPNSTYNDTGT', 'NMWQEVGR', 'APPIAGN', 'DGGNNGTQNE', 'GGGDM'], ['KPC', 'TPLCVT', 'CTDAKFNSTQSDNGTSTVNVSTSNE', 'TEIRDK', 'KLDVVPLDGNGNNSGNYS', 'INCNTST', 'ACPKVSFDPIP', 'APAG', 'NNKTFNG', 'QCTHGIKPVVSTQ', 'NGSLAEEEI', 'SENITDNVKT', 'PGNNTRKSMRIGPGQIFYATGDIIGDIRQA', 'HFSNKTI', 'QPPSPGGD', 'NTSR', 'NGKFNGTMGNYTINS', 'NMWQGVGR', 'APPIAGN', 'DGSETNDGNTNETGTKTFKSNETETE', 'GGGDM'], ['KPC', 'TPLCVT', 'CTNVNIINGTIHNETYES', 'TELKDK', 'RLDIVPLNNSNE', 'INCNTSA', 'ACPKVTFDPIP', 'APAG', 'NDKTFSG', 'QCTHGIKPVVSTQ', 'NGSLAEGEI', 'SKKLDDNANT', 'PNNNTRKSIRIGPGQTFYATGEIIGNIRQA', 'LFPNKTI', 'NSSSGGD', 'NTSS', 'KGTYRPNGTSNSTSGS', 'NLWQEVGR', 'APPIEGN', 'DGGNHEEANTTE', 'GGGNM'], ['KPC', 'TPLCVT', 'CTDYKGNYTNYGTGHNITSDMEGE', 'TELRDK', 'RLDIVQINNS', 'INCNTSA', 'ACPKISFNPIP', 'APAG', 'NDKKFHG', 'QCTHGIKPIVSTQ', 'NGSLAEEKV', 'SENIANNAKN', 'PNNNTRTSVRIGPGQTFYATDAITGDIRQA', 'YFNKTI', 'NSSAGGD', 'NTSG', 'NSTWNDTSNHNTSGTESNA', 'NMWQRAGQ', 'APPIQGI', 'DGGDNNNTTTE', 'GGGDM'], ['QPC', 'TPLCVT', 'CTDYKGNYTNYNYTKNNGTGHNITSDMEGE', 'TELRDK', 'RLDIVQINSSQTNSS', 'INCNTSA', 'ACPKISFNPIP', 'APAG', 'NDKKFHG', 'QCTHGIKPIVSTQ', 'NGSLAEEKV', 'SENITNNAKN', 'PNNNTRTSVRIGPGQTFYATGAITGDIRQA', 'YFNKTI', 'NSSAGGD', 'NTSG', 'NSTWNDTSNHNTSGTESNA', 'NMWQRAGQ', 'APPIQGI', 'DGGDNNNTTTE', 'GGGDM'], ['KPC', 'TPLCVT', 'CTDVKVSSNSNDTASGRNSTDNVV', 'TEIKDK', 'ELDVVSMNNSNNNS', 'INCNTSA', 'SCPKVSFDPIP', 'APAG', 'NNKTFNG', 'QCTHGIKPVISTQ', 'NGSLAEKEI', 'SENVTNNVKT', 'PNNNTRKSVRIGPGQTFYATNAIIGKIRQA', 'YFPNKTI', 'NSSSGGD', 'NTSR', 'NGTFNGTYNGNYSGNG', 'NMWQEVGK', 'APPIAGN', 'DGGQGPDKDNTTE', 'GGGDM'], ['KPC', 'TPLCVT', 'CRDVNVTRNNDTTSGSNSTDDVG', 'TELKDK', 'KLDIVSLNNSNNNS', 'IKCNTST', 'ACPKVSFEPIP', 'APAG', 'NNKTFNG', 'QCTHGIKPVISTQ', 'NGSLAEEEI', 'SENITNNAKI', 'PNNNTRKRVRIGIGPGQTFYATGAIIGNIRQA', 'YFSNKTI', 'NSSSGGD', 'NTSR', 'NGTFNETDNETYSGND', 'NMWQEVGK', 'APPIAGN', 'DGGQGPDKDNTTE', 'GGGDM'], ['KPC', 'TPLCVT', 'CTDVKVSSNSNDTASGSNSTDNVV', 'TEIKDK', 'ELDVVSMNNSNNNS', 'INCNTSA', 'SCPKVSFDPIP', 'APAG', 'NNKTFNG', 'QCTHGIKPVISTQ', 'NGSLAEKEI', 'SENVTNNVKT', 'PNNNTRKSVRIGPGQTFYATNAIIGKIRQA', 'YFPNKTI', 'NSSSGGD', 'NTSR', 'NGTYNETYNETHSGND', 'NMWQEVGK', 'APPIAGN', 'DGGQDPDDNTTE', 'GGGDM'], ['KPC', 'TPLCVT', 'CGKVKNDTRDE', 'TELRDR', 'RLDIVEIENNRTNNRTNNT', 'INCNTSA', 'ACPKVTFEPIP', 'APAG', 'NNESFNG', 'QCTHGIKPVVSTQ', 'NGSLAKDQV', 'SENITNNAKN', 'PNNNTRKSVHIGPGQAFYATDIIGDIRQA', 'YWNRTI', 'TNSSGGD', 'NTSG', 'NSTWYTNGSTQGVTND', 'NMWQRVGQ', 'APPIPGV', 'DGGNNNNGANGNE', 'GGGDM'], ['KPC', 'TPLCVT', 'CTNANNASTNMQEE', 'TEIKDK', 'RLDIVQLDGTNNSSNSS', 'INCNTST', 'ACPKVTFDPIP', 'APAG', 'NNKTFNG', 'QCTHGIKPVVSTQ', 'NGSLAEEEI', 'SENLTDNAKT', 'PNNNTRKSIRVGPGQTFYATGDIIGEIRQA', 'HFQNATI', 'DSSSGGD', 'NTSE', 'NGTFNGTYNPSAENHTD', 'NMWQEVGR', 'APPIAGE', 'DGGDEGNTTNATNRTE', 'GGGDM'], ['KPC', 'TPLCVT', 'CTNANSTDNARNISTDTQEE', 'TEIRDK', 'RLDVVQLEGSNS', 'INCNTST', 'ACPKVTFDPIP', 'APAG', 'NNKTFNG', 'QCTHGIKPVVSTQ', 'NGSLAEEDI', 'SENLTDNAKT', 'PNNNTRKSIRVGPGQTFYATGGIIGDIRQA', 'HFPNVTI', 'NSSSGGD', 'NTSK', 'NGTFNGTYQPRDSGNHTD', 'NMWQKVGR', 'APPIAGT', 'DGGVEKNTTNNTTE', 'GGGNM'], ['KPC', 'TPLCVT', 'CTNVNASSTNMQEE', 'TEIKDK', 'RLDIVQLDGTNNSSNSS', 'INCNTST', 'ACPKVTFDPIP', 'APAG', 'NNKTFNG', 'QCTHGIKPVVSTQ', 'NGSLAEEEI', 'SENLTDNAKT', 'PNNNTRKSIRVGPGQTFYATGDIIGEIRQA', 'HFQNATI', 'NSSSGGD', 'NTSE', 'NGTFNGTYNPYAGNHTD', 'NMWQEVGR', 'APPIAGE', 'DGGNEGNTTNATNRTE', 'GGGDM'], ['KPC', 'TPLCVT', 'CTNVNASSTNMQEE', 'TEIKDK', 'RLDIVQLDGTNNSSNSS', 'INCNTST', 'ACPKVTFDPIP', 'APAG', 'NNKTFNG', 'QCTHGIKPVVSTQ', 'NGSLAEEEI', 'SENLTDNAKT', 'PNNNTRKSIRVGPGQTFYATGDIIGEIRQA', 'HFQNATI', 'NSSSGGD', 'NTSE', 'NGTFNGTYNPYAGNHTD', 'NMWQEVGR', 'APPIAGE', 'DGGNEGNTTNATNRTE', 'GGGDM'], ['KPC', 'TPLCVT', 'CTNASTDGRNISADMKGE', 'TEIRDK', 'RLDIVQLGGTNNSSNSS', 'INCNTST', 'ACPKVTFDPIP', 'APAG', 'NNKTFNG', 'QCTHGIKPVVSTQ', 'NGSLAEEEI', 'SENLTDNAKT', 'PNNNTRKSIRVGPGQTFYATGDIIGDIKQA', 'HFQNATI', 'NSSSGGD', 'NTGE', 'TYNPPDTENHTD', 'NMWQEVGR', 'APPIAGE', 'DGGVEGNTTKTENTTKTE', 'GGGDM'], ['KPC', 'TPLCVT', 'CSHNITRLNTSSPNITGNDTNSSPNITENDTENE', 'TELRDK', 'RLDIVPIDGSDNSSDNSN', 'INCNTSA', 'ACPKVSFEPIP', 'APAG', 'KDGNFSG', 'QCTHGIKPVVSTQ', 'NGSLAEEKV', 'SENISDNTKN', 'PDNNTRKSIHIGPGQAFFATGAIIGKIRQA', 'DFGNKTI', 'KNSSGGD', 'NTSG', 'NSTWLSNSTNSTDNTGTND', 'NMWQRVGQ', 'APPIPGV', 'DGGNNATNE', 'GGGDM'], ['KPC', 'TPLCVT', 'CTIANLNYSIPGEKNQTE', 'TEIKDK', 'KLDIVPLNNDSS', 'INCNTSA', 'ACPKVSFDPIP', 'APAG', 'NNNSFNG', 'QCTHGIKPIVSTQ', 'NGSLAEGDI', 'SENITNNIKT', 'PGNNTRKSIRIGPGQAFYANTDIIGNIRLA', 'YFPDKNI', 'EPASGGD', 'NTTD', 'QNSTEDNST', 'RMWQRVGQ', 'APPVAGN', 'DGGNSKGNE', 'GGGDM'], ['KPC', 'TPLCVT', 'CTIANLNYSIPGEKDQTE', 'TEIKDK', 'KLDIVPLNNDSS', 'INCNTSA', 'ACPKVSFDPIP', 'APAG', 'NNNSFNG', 'QCTHGIKPIVSTQ', 'NGSLAEGDI', 'SENITNNIKT', 'PGNNTRKSIRIGPGQAFYANTDIIGNIRLA', 'YFPDKNI', 'APASGGD', 'NTTD', 'QNSTEDNST', 'RMWQRVGQ', 'APPIEGN', 'DGGDNEESE', 'GGGDM'], ['KPC', 'TPLCVT', 'CTSANLNYSIPGKKNQTE', 'TEIKDK', 'KLDIVPLNNDSS', 'INCNTSA', 'ACPKVSFDPIP', 'APAG', 'NNNSFNG', 'QCTHGIKPIVSTQ', 'NGSLAEGDI', 'SENITNNIKT', 'PGNNTRKSIRIGPGQAFYANTDIIGNIRLA', 'YFPDKNI', 'EPASGGD', 'NTTK', 'QNSTEDNST', 'RMWQRVGQ', 'APPVAGN', 'DGGKNEENE', 'GGGDM'], ['KPC', 'TPLCVT', 'CTDLNTTTSDQNSNGTSLNMEQGE', 'TDVQDR', 'NSDIVQMSENST', 'VSCNTSV', 'ACPKITFDPIP', 'TPAG', 'NDKQFNG', 'QCTHGIRPVVSTQ', 'NGSLAEEEV', 'SENFTDNAKI', 'PNNNTRKSITIGPGRAFFATGDIIGDIRKA', 'QFKNKTI', 'TQSSGGD', 'NTTQ', 'NETELQKME', 'NMWQKVGK', 'APPIQGQ', 'DGGRNETNATE', 'GGGDM'], ['KPC', 'TPLCVT', 'CTDLNTTTSNQNSNGTSLNMEQGE', 'TDVQDK', 'NSDIVQMGENST', 'ISCNTSV', 'ACPKITFDPIP', 'TPAG', 'NDKQFNG', 'QCTHGIRPVVSTQ', 'NGSLAEKEV', 'SENFTDNAKI', 'PNNNTRKSITIGPGRAFFATGDIIGDIRKA', 'QFNTI', 'NHSSGGD', 'NTTQ', 'NETELQKME', 'NMWQKVGK', 'APPIQGQ', 'DGGHNETNNTE', 'GGGDM'], ['KPC', 'TPLCVT', 'CRNVNLTNNNSISGNDSMSGE', 'TELRDK', 'KLDVVPIDGRENNS', 'INCNTSA', 'ACPKVSFDPIP', 'APAG', 'NNETFNG', 'QCTHGIKPVVSTQ', 'NGSLAEKDI', 'SENLTNNAKI', 'PGNNTRQSIRIGPGQAFYAYTNIIGDIRKA', 'FFNKTV', 'QPHSGGD', 'NTSQ', 'NETHTNGTNS', 'NMWQEVGR', 'APPIAGN', 'DGGKDNNMTE', 'GGGDM'], ['KPC', 'TPLCVT', 'CTDEWKNDTTDNNTNGTNTTSGSWEKGEKGE', 'SGIRDK', 'KLDIVPIKNDNNDTSYDNT', 'ISCNTTV', 'ACPKVSFEPIP', 'APAG', 'NQKKFNG', 'HCTHGIKPVVSTQ', 'NGSLAEEEV', 'SANFSNNAKT', 'PNNNTRKGIHIGPGGAFYATGDIIGNIRQA', 'QFKNKTI', 'NQSSGGD', 'NTTQ', 'NSTWNTTQLNSTWDVTGGSNTTE', 'NMWQEVGK', 'APPISGI', 'DGGTNNTNGSE', 'GGGDM'], ['KPC', 'TPLCVT', 'CSEMKNGTRGASNSTGTNNGTISSTD', 'TVVNDK', 'RLDIEPIGNNST', 'INCNTSA', 'SCPKITFEPIP', 'APAG', 'RDKQFNG', 'QCTHGIKPVVSTQ', 'NGSLAEEDI', 'SENLTDNTKT', 'PYNNTRQRIHIGPGQAIWTNDARVIVGDIRQA', 'LYNRSTI', 'NHASGGD', 'NTSG', 'NSTWDIMNTSSPNNTDP', 'NMWQGVGR', 'APPIAGQ', 'DGGADNSSHNE', 'GGGNM'], ['KPC', 'TPLCVT', 'CTSASWNKCNNSYCNYTLDGSTRPITNFSDTIGEE', 'TELRDR', 'KIDLVQIEDNENNSNSPNDNSSKKYN', 'INCNTSV', 'ACPKVSFDPIP', 'APAG', 'NDKKFNG', 'QCTHGIKPVVSTQ', 'NGSLAEEEI', 'SENLTNNAKT', 'PSNNTRTSVNIGPGQVIYKNGDIIGDIRKA', 'HFDKVNI', 'EPPPSGGD', 'NTTG', 'NNTCLGDNTTEGCNR', 'NMWQRVGQ', 'APPIRGH', 'DGINGSNNE', 'IGGDM'], ['KPC', 'TPLCVT', 'CSHAVRVTGNNDTATRKNTTVDNNNTVDDSTMDEQ', 'TELRDK', 'TVDVVNDSS', 'INCNSST', 'ACPKVSFDPIP', 'APAG', 'NNKTFNG', 'QCTHGIKPVVSTQ', 'NGSLAEEEI', 'SKDLNNTGNT', 'PGNNTRQSIRIGPGQTFYATGDIIGDIRQA', 'HYNFTNKGKI', 'SPHPGGD', 'NTSK', 'NSTYMPGYWPNATERNSTS', 'NMWQGVAR', 'APPIRGN', 'DGDKTSNDPDTD', 'GGGNM'], ['KPC', 'TPLCVA', 'CTDVNNTNSNNDTSYKE', 'TGIKGK', 'TLDIVKIDGN', 'ISCNTST', 'ACPKVSFDPIP', 'TPAG', 'NDKTFNG', 'QCTHGIKPVVSTQ', 'NGSLAEGEI', 'SENLTNNVKT', 'PNNNTRQSIRIGPGQTFYATKDIIGDIRKA', 'HFPNKTI', 'KPPSGGD', 'NTSG', 'DNSLFNNSLETANSTERA', 'NMWQGVGK', 'APPMAGL', 'DGGGDSKSNTSNDTTSKTE', 'GGGDM'], ['KPC', 'TPLCVT', 'CTDVWNNTSNNNTSNNTTSWGKKMEKGE', 'TNIRDK', 'KLDVVPIKEDKNDTSNV', 'ISCNTSV', 'ACPKVTFEPIP', 'APAG', 'KDKNFNG', 'QCTHGIKPVVSTQ', 'NGSLAEEEV', 'SENFSNNART', 'PNNNTRKGIHIGPGRAFYATGAITGDIRQA', 'QYKNKTI', 'NSSSGGD', 'NTTR', 'NSTWHANGTNSTEGGNET', 'NLWQEVGK', 'APPIQGV', 'DGGPDNQNE', 'VGGDM'], ['KPC', 'TPLCVT', 'CTDVWNNTSNNNTSNNTTSWGKRMEKGE', 'TNIRDK', 'KLDVVPIKEDKNDTSNV', 'ISCNTSV', 'ACPKVTFEPIP', 'APAG', 'NDKKFNG', 'QCTHGIKPVVSTQ', 'NGSLAEEEI', 'SENFSNNAKT', 'PNNNTRKGIHIGPGRAFYATTKIIGDIRQA', 'QYGNKTI', 'NSSSGGD', 'NTTR', 'NSTWHANGTNSTEGGNET', 'NLWQEVGK', 'APPIQGV', 'DGGNQANNQTNQTTE', 'LGGDM'], ['KPC', 'TPLCVT', 'CTDLNNTTNTNNTTNTNSSKIEGGE', 'TNRGDK', 'RTDIVSIENTSS', 'ISCNTSV', 'ACPKVTFEPIP', 'APAG', 'NEDKFNG', 'QCTHGIRPTVSTQ', 'NGSLAKEEV', 'SANLSDNAKI', 'PNNNTRKSINLGPGRAFYATGDIIGDIRQA', 'QFNNRTI', 'NQSSGGD', 'DTSQ', 'NSTWNSNSTWNDTNNNNSTE', 'NRWQEVGK', 'APPISGP', 'DGGNETNVTE', 'AGGDM'], ['KPC', 'TPLCVT', 'CKNVNDTRNGNVTYNNTMNEE', 'TELRDK', 'RIDIVSLNSNSS', 'INCNTSA', 'ACPKVSFEPIP', 'APAG', 'NNETFNG', 'QCTHGIKPVVSTQ', 'NGSLAKNQV', 'SEHIGNSAKN', 'PNNNTRKSVHIGPGQAFYATGDIIGNIRQA', 'YFGNKTI', 'KNSSGGD', 'NTSS', 'NSTWPVSGQGLNSTELGD', 'NMWQRAGQ', 'APPIPGV', 'DYGNNNSDNE', 'TGGDM'], ['KPC', 'TPLCVT', 'CKNVSDTRNGNVTYNNTMNEE', 'TELRDK', 'RIDIVSLNSNSS', 'INCNTSA', 'ACPKVSFEPIP', 'APAG', 'NNETFNG', 'QCTHGIKPVVSTQ', 'NGSLAKNQV', 'SEHIENNAKN', 'PNNNTRKSVHIAPGQAFYATGDIIGNIRQA', 'YFGNKTI', 'KNSSGGD', 'NTSS', 'NSTWQVSGQGLNSTELGD', 'NMWQRAGQ', 'APPIPGV', 'DYGNSSSDNE', 'TGGDM'], ['KPC', 'TPLCVT', 'CRNVSDTRNGNVTYNNTMNEE', 'TELRDK', 'RIDIVSLNSNSS', 'INCNTSA', 'ACPKVSFEPIP', 'APAG', 'NNETFNG', 'QCTHGIKPVVSTQ', 'NGSLAKEQV', 'SEDITNSVKN', 'PNNNTRKSVHIAPGQAFYATGDIIGNIRQA', 'YFGNKTI', 'KNSSGGD', 'NTSS', 'NSTWQVSGQGLNSTELGD', 'NMWQRAGQ', 'APPIPGV', 'DYGNRSSDNE', 'TGGDM'], ['KPC', 'TPLCVT', 'CSNNVTTANVTTGMQGE', 'TELRDK', 'RLDIVQIDNNNENST', 'INCNTSA', 'ACPKVSFDPIP', 'APAG', 'KDENFTG', 'QCTHGIKPVVSTQ', 'NGSLAEKKV', 'SENISNNAKN', 'PGNNTRKSVRIAPGQAFYATGEIIGDIRQA', 'DFGNETAI', 'ANSSGGD', 'NTSG', 'NSTWVNSTWEDNQANSTND', 'NMWQRAGQ', 'APPIPGE', 'DGGNNNNTRKNE', 'GGGDM'], ['KSC', 'TPLCVT', 'CTNVNSTAPNSTAATSTTTSSSTTSSSTTTATYNE', 'TELRNK', 'RLDVVKLNEESDSNSSNSN', 'INCNTST', 'ACPKVSFEPIP', 'APAG', 'NNETFNG', 'QCTHGIKPVVSTQ', 'NGSLAEKDI', 'SENLTNNAKI', 'PNNNTRKGIRIGPGQTFYATGEIIGNIREA', 'HFPNKTI', 'ESHSGGD', 'NTSA', 'NSTYNETYRYNATNDTNP', 'NMWQEVGR', 'APPIAGN', 'DGGPNSTNE', 'EGGDM'], ['KPC', 'TPLCVT', 'CSNVNSNVNVTSNGTASQGNATYTNRMEEE', 'TEIRGK', 'KLDVVPLNGDSSNSS', 'INCNTSA', 'ACPKVSFDPIP', 'APAG', 'NDKTFNG', 'QCTHGIKPVISTQ', 'NGSLAEGEI', 'SKNLTDNVQT', 'PNNNTRKSIRIGPGQIFYATGDIIGDIREA', 'HFSNKTI', 'TTSSGGD', 'NTSG', 'NETGLFNETHNSTMND', 'NMWQEVGR', 'APPIAGN', 'DGGSINGSEDENNTE', 'GGGNM'], ['KPC', 'TPLCVT', 'CTAISNSTATNNTNDRNSTMMGNDET', 'TVVRDK', 'KLDIVSIDNSST', 'INCNTSA', 'ACPKVTFEPIP', 'APAG', 'RDKQFNG', 'QCTHGIKPVVSTQ', 'NGSLAEEEI', 'SKNLTDNTNT', 'PYNNTIQSTHIGPGQAIYTTYAKRIIGGIRQA', 'LINKTEI', 'QLSSGGD', 'NTSN', 'NNTWNSSSSNWSSNWTEENNS', 'NMWQRVGK', 'APPIEGE', 'DGGNNNSSQE', 'GGGNM'], ['KPC', 'TPLCVT', 'CTDILTNATGNNTINAIGNNTERE', 'ASIRDK', 'KYDIVEIDDGNSQNKSQNNSQNNTSYT', 'THCNTSV', 'ACPKASFEPIP', 'APAG', 'NNKTFNG', 'QCTHGIKPVVTTQ', 'NGSLAEEEV', 'SENFTDNTKT', 'PNNNTRKSIPIGPGKAFYATGDIIGNIRQA', 'QFRNKTI', 'NPSSGGD', 'DTTQ', 'NSTWNGTETRNSTGENN', 'NMWQEVGK', 'APPIRGQ', 'DGGYNNNETEKE', 'GGGNI'], ['KPC', 'TPLCVT', 'CTDILTNATRNNTTNATMNNTEGE', 'ASIRDK', 'KYDIVPIIDEGNSQNKSQNNSQNNANYT', 'THCNTSV', 'ACPKASFEPIP', 'APAG', 'NNKTFNG', 'QCTHGIKPVVTTQ', 'NGSLAEEEV', 'SENFTDNAKT', 'PNNNTRKSIPIGPGKAFYATGDIIGNIRQA', 'QFRNKTI', 'NPSSGGD', 'DTTQ', 'NSTQLFNSTRNSTGRENITQ', 'NMWQEVGK', 'APPIRGQ', 'DGGVSGDKNNESEE', 'GGGNI'], ['KPC', 'TPLCVT', 'CTDILTNAIRNNTDNVTMNKTEEE', 'ASIRDK', 'KYDIVVIDDGNSQNKSQNNSQNNTSYT', 'THCNTSV', 'ACPKASFEPIP', 'APAG', 'NNKTFNG', 'QCTHGIKPVVTTQ', 'NGSLAEEEV', 'SENFTDNAKT', 'PNNNTRKSIPIGPGKAFYATGDIIGNIRQA', 'QFRNKTI', 'NPSSGGD', 'NTTQ', 'NSTWNSTGTNNSTDSPGKND', 'NMWQEVGK', 'APPIRGQ', 'DGGDKNRDNE', 'GGGNI'], ['KPC', 'TPLCVT', 'CTDILTNATGNNTINAIGNNTERE', 'ASIRDK', 'KYDIVEIDDGNSQNKSQNNSQNNTSYT', 'THCNTSV', 'ACPKASFEPIP', 'APAG', 'NNKTFNG', 'QCTHGIKPVVTTQ', 'NGSLAEEEV', 'SENFTDNAKT', 'PNNNTRKSIPIGPGKAFYATGDIIGNIRQA', 'QFKNKTI', 'NPSSGGD', 'DTTQ', 'NSTWNGTETRNSTGENN', 'NMWQEVGK', 'APPIRGQ', 'DGGYNNNETEKE', 'GGGNI'], ['KPC', 'TPLCVT', 'CTDILTNATGNNTINAIGNNTERE', 'ASIRDK', 'KYDIVEIDDGNSQNKSQNNSQNNTSYT', 'THCNTSV', 'ACPKASFEPIP', 'APAG', 'NNKTFNG', 'QCTHGIKPVVTTQ', 'NGSLAEEEV', 'SENFTDNTKT', 'PNNNTRKSIPIGPGKAFYATGDIIGNIRQA', 'QFRNKTI', 'NPSSGGD', 'DTTQ', 'NSTWNGTETRNSTGKNG', 'NMWQEVGK', 'APPIRGQ', 'DGGYNNNETEKE', 'GGGNI'], ['KPC', 'TPLCVT', 'CTDILTNATGNNTINAIGNNTERE', 'ASIRDK', 'KYDIVEIDDGNSQNKSQNNSQNNTSYT', 'THCNTSV', 'ACPKASFEPIP', 'APAG', 'NNKTFNG', 'QCTHGIKPVVTTQ', 'NGSLAEEEV', 'SENFTDNTKT', 'PNNNTRKSIPIGPGKAFYATGDIIGNIRQA', 'QFRNKTI', 'NPSSGGD', 'DTTQ', 'NSTWNGTETRNSTGKNG', 'NMWQEVGK', 'APPIRGQ', 'DGGYNNNETEKE', 'GGGNI'], ['KPC', 'TPLCVT', 'CTDILTNATGNNTINAIGNNTERE', 'ASIRDK', 'KYDIVEIDDGNSQNKSQNNSQNNTSYT', 'THCNTSV', 'ACPKASFEPIP', 'APAG', 'NNKTFNG', 'QCTHGIKPVVTTQ', 'NGSLAEEEV', 'SENFTDNTKT', 'PNNNTRKSIPIGPGKAFYATGDIIGNIRQA', 'QFRNKTI', 'NPSSGGD', 'DTTQ', 'NSTWNGTETRNSTGENN', 'NMWQEVGK', 'APPIRGQ', 'DGGYNNNETEKE', 'GGGNI'], ['KPC', 'TPLCVT', 'CTDILTNATGNNTINAIGNNTERE', 'ASIRDK', 'KYDIVEIDDGNSQNKSQNNSQNNTSYT', 'THCNTSV', 'ACPKASFEPIP', 'APAG', 'NNKTFNG', 'QCTHGIKPVVTTQ', 'NGSLAEEEV', 'SENFTDNAKT', 'PNNNTRKSIPIGPGKAFYATGDIIGNIRQA', 'QFRNKTI', 'NPSSGGD', 'DTTQ', 'NSTWNGTETRNSTGEND', 'NMWQEVGK', 'APPIRGQ', 'DGGYNNNETEKE', 'GGGNI'], ['KPC', 'TPLCVT', 'CTDRLNNDNDTMNNVTMNNVTMNVPKGE', 'TSIRDK', 'KSDIVVIDDGNSQNKSQNNANYT', 'THCNTSV', 'ACPKASFEPIP', 'APAG', 'NNKTFNG', 'QCTHGIKPVVTTQ', 'NGSLAEEEV', 'SENFTNNAKI', 'PNNNTRKSIPMGPGKAFYATGEIIGNIRKA', 'QFRNKTI', 'NQSSGGD', 'DTAQ', 'NSTWTNGNSNTSLKGSD', 'NMWQEVGK', 'APPIRGQ', 'DGGNETSTIE', 'GGGNI'], ['KPC', 'TPLCVT', 'CTDRLNNDNDTMNNVTMNNVTMNVPKGE', 'ASIRDK', 'KSDIVVIDDGNSHSQNDSQNNANYT', 'THCNTSV', 'ACPKVSFEPIP', 'APAG', 'NKTFDG', 'QCTHGIKPVVTTQ', 'NGSLAEEEV', 'SENFTDNAKI', 'PNNNTRKSIPLGPGKAFYATGEIIGNIRKA', 'QFRNKTI', 'NQSSGGD', 'DTAQ', 'NSTWINGNSNTSLKGSD', 'NMWQEVGK', 'APPIRGQ', 'DGGNNNKTDTEE', 'GGGNM'], ['KPC', 'TPLCVT', 'CTDILTKATRNNTINTIGNNTERE', 'ASIRDK', 'KSDIVVIDDGNSHSQNDSQNNANYT', 'THCNTSV', 'ACPKASFEPIP', 'APAG', 'NNKTFNG', 'QCTHGIKPVVTTQ', 'NGSLAEEEV', 'SKNFTDNAKT', 'PNNNTRKSIPIGPGKAFYATGDIIGNIRQA', 'QFRNKTI', 'KPSSGGD', 'DTTQ', 'NSTWNGTETRNSTGKND', 'NMWQEVGK', 'APPIRGQ', 'DGGYNNNETETE', 'GGGNI'], ['KPC', 'TPLCVT', 'CTDILTKATRNNTDNATMNNTERE', 'ASIRDK', 'KYDIVEIDDGNSQNKSQNNSQNNTSYT', 'THCNTSV', 'ACPKASFEPIP', 'APAG', 'NNKTFNG', 'QCTHGIKPVVTTQ', 'NGSLAEEEV', 'SENFTDNAKT', 'PNNNTRKSIPIGPGKAFYATGNIIGNIRQA', 'QFKNKTI', 'NPSSGGD', 'DTTQ', 'NSTWNGTETRNSTGEND', 'NMWQEVGK', 'APPIRGQ', 'DGGYNNNETEKE', 'GGENI'], ['KPC', 'TPLCVT', 'CTDRLNNDNDTMNNVTMNNVTMNVPKGE', 'ASIRDK', 'KSDIVVIDDGNSHSQNDSQNNANYT', 'THCNTSV', 'ACPKVSFEPIP', 'APAG', 'NNKAFNG', 'QCTHGIKPVVTTQ', 'NGSLAEEEV', 'SENFTDNAKI', 'PNNNTRKSIPLGPGKAFYATGEIIGNIRKA', 'QFRNKTI', 'NQSSGGD', 'DTAQ', 'NSTWTNGNSNTSLKGSD', 'NMWQEVGK', 'APPIRGQ', 'DGGNNNKTDTEE', 'GGGNM'], ['KPC', 'TPLCVT', 'CSSVNVTSQDNATYTNSMKGE', 'TEIRDK', 'KLDVVPLNGGSNSS', 'INCNTSA', 'ACPKVSFDPIP', 'APAG', 'NDKTFNG', 'QCTHGIKPVISTQ', 'NGSLAEGEI', 'SKNLTDNVQT', 'PNNNTRKSIRIGPGQIFYATGDIIGDIREA', 'HFNKTI', 'TTSSGGD', 'NTSG', 'NETGLFNETHNSTMND', 'NMWQEVGR', 'APPIAGN', 'DGGSINGSEDNTE', 'GGGNM'], ['QPC', 'TPLCVA', 'CTDTNNSTE', 'TELRDK', 'SLDIVPLNSNNS', 'ISCNTST', 'ACPKVSFDPIP', 'APAG', 'NSKTFNG', 'QCTHGIKPVVSTQ', 'NGSLAEGEI', 'SENLTNNVKT', 'PNNNTRKSIRIGPGQTFYATGDIIGDIRQA', 'HFPNKTI', 'EPPSGGD', 'NTSI', 'NSTYCPNGTCYFNGTNTSNS', 'NMWQGIGK', 'APPIAGN', 'DGGSGNDTDPE', 'AGGDM'], ['KPC', 'TPLCVT', 'CTNVNATDNVTYKEKMEGE', 'TEIRDK', 'RLDVVQLNNSN', 'INCNTSA', 'ACPKVSFDPIP', 'APAG', 'NDKTFNG', 'QCTHGIKPVISTQ', 'NGSLAEKEV', 'FENLTDNAKT', 'PNNNTRESIRIGPGQAFYATRDIIGDIRRA', 'YFPNTNI', 'APSSGGD', 'NTSK', 'NNNDTENNL', 'NMWQGVGR', 'APPIEGN', 'DGGNGTERNE', 'GGGDM'], ['KPC', 'TPLCVT', 'CTAISNSTVTNNTNDRNSTIMGNDET', 'TVVRDK', 'KLDIVSIDNSST', 'INCNTSA', 'ACPKVTFEPIP', 'APAG', 'RDKQFNG', 'QCTHGIKPVVSTQ', 'NGSLAEEEI', 'SKNLTDNTNT', 'PYNNTIQSTHIGPGQAIYTTYAKRIIGDIRQA', 'LINKTEI', 'QSSPGGD', 'NTSN', 'NNTWNSSRSNWSSNWTKENNS', 'NMWQRVGK', 'APPIEGE', 'DGGNNNSSQE', 'GGGNM'], ['QPC', 'TPLCIT', 'CTDVTAHNGNTVYDNNATVVNSTNE', 'TELRDK', 'NLDIVQLDGNSS', 'INCNTSI', 'ACPKISFDPIP', 'APAG', 'NNETFNG', 'QCTHGIKPVVSTQ', 'NGSLAKGEI', 'SENITDNVKT', 'PNNNTRKSIRIGPGQTFYATGDIIGDIRQA', 'HFPNKTI', 'KSPSGGD', 'NTSK', 'NGTYYPNGTYYPNGTNS', 'NMWQGVGK', 'ASPIAGN', 'DGGDTNDTE', 'AGGDM'], ['QPC', 'TPLCIT', 'CTDVTAHNATVVNSTNE', 'TELRDK', 'NLDIVQLDGNSS', 'INCNTSI', 'ACPKISFDPIP', 'APAG', 'NNETFNG', 'QCTHGIKPVVSTQ', 'NGSLAKGEI', 'SENITDNVKT', 'PNNNTRKSIRIGPGQTFYATGDIIGDIRQA', 'YFPNKTI', 'KSPSGGD', 'NTSK', 'NGTYYPNGTYYPNGTNS', 'NMWQGVGK', 'ASPIAGN', 'DGGDTNDTE', 'TGGDM'], ['KPC', 'TPLCVT', 'CTDLGNVTNTTNSNGEMMEKGE', 'TDIKDR', 'KLDVVPINDT', 'VSCNTSV', 'ACPKVSFEPIP', 'APAG', 'NDKQFIG', 'QCTHGIRPVVSTQ', 'NGSLAEEEV', 'SVNFSDNAKT', 'PNNNTRKSIPMGPGKAFYARGDITGDIRKA', 'QYNKTI', 'NRSSGGD', 'NSTK', 'NSTWPWNDTKGSHDTNG', 'NMWQGVGK', 'APPIEGK', 'DGGYESNETDE', 'GGGDM'], ['KPC', 'TPLCVT', 'CTELNNNSTTTTNSSEGKE', 'TSMQDK', 'KLDIVKIDDSNNSTNNS', 'ISCNTSV', 'ACPKVSFQPIP', 'APAG', 'NNKTFNG', 'QCTHGIRPVVSTQ', 'NGSLAEKDI', 'SANFTNNAKT', 'PNNNTRKSITIGPGRAFYATGDIIGDIRQA', 'QFNKTI', 'KSPSGGD', 'DTKQ', 'NSTWNATKANGTTGND', 'NMWQKVGK', 'APPIKGK', 'DGGGGGQNE', 'AGGDM'], ['KPC', 'TPLCVT', 'CVNVKVTSNHTLDHTNND', 'TEVRDK', 'RLDIVPLSKKDKTNNDSG', 'INCNTSA', 'ACPKVSFDPIP', 'APAG', 'NNKTFNG', 'QCTHGIKPVVSTQ', 'NGSLAEGEI', 'SENLTDNVKT', 'PNNNTRKSIRIGPGQTFYATNGIIGDIREA', 'HFPDKTI', 'NSSSGGD', 'DTSR', 'NDTDNFTEDS', 'NMWQEVGR', 'APPIEGN', 'DGGGGEENETTEE', 'GGGDM'], ['KPC', 'TPLCVT', 'CTNVINDTYDMND', 'TEIKDK', 'KLDIVPLSSGNSSSNSS', 'INCNTSA', 'ACPKINFDPIP', 'APAG', 'NNKTFNG', 'QCTHGIKPVVSTQ', 'NGSLAEEEI', 'SENLTDNVKT', 'PNNNIRKSIRIGPGQVFYTNKIIGDIRQA', 'YFHNKTI', 'NASSGGD', 'NTSK', 'NGTYNPNYNDTGGNSSS', 'NMWQKVGR', 'APPIEGN', 'DGGISSTTE', 'GGGNM'], ['KPC', 'TPLCVT', 'CTTVNITQENNPLNDSDSNY', 'TELKDK', 'RLDLVPLNENSSKYENSN', 'TNCRTST', 'ACPKISFDPIP', 'APAG', 'NNKAFNG', 'QCTHGIKPVVSTQ', 'NGSLAEEI', 'FENLTNNVKT', 'PNNNTRKSVRIGPGQTFYATGEIIGDIRQA', 'YFPNKTI', 'QSASGGD', 'NTSR', 'NHTFNETSDE', 'NMWQGVGR', 'APPIAGN', 'DGGKSNSSNQTE', 'AGGNM'], ['KPC', 'TPLCVT', 'CTNNITISNITISNNKSEE', 'TELKDK', 'TLDIVPLNENNDSNG', 'ISCNTSA', 'ACPKVSFDPIP', 'APAG', 'NNETFNG', 'QCTHGIKPVVSTQ', 'NGSLAEGEI', 'SQNITDNAKT', 'PNNNTRKSVRIGPGQTFYATGGIIGDIRQA', 'YFPNKTI', 'NHSSGGD', 'NTSK', 'NSTYNPNGTKDNSSS', 'NMWQEVGR', 'APPIEGK', 'DGGNNNTEE', 'GGGNM'], ['KPC', 'TPLCVT', 'CGNAIVNESTIEG', 'TELKDK', 'KLDVVPLNGENNNSNSKNFS', 'INCNTST', 'ACPKVSFDPIP', 'APAG', 'NNETFNG', 'QCTHGIKPVVSTQ', 'NGSLAEKEI', 'SENLTNNAKI', 'PGNNTRKSMRIGPGQTFYATGDIIGDIRRA', 'HFPNASI', 'KPSAGGD', 'DTSE', 'NGTYNNSTYNSSN', 'NMWQGVGR', 'APPIAGN', 'DGGNNKSTPE', 'GGGDM'], ['KPC', 'TPLCVT', 'CTNATSTNANSTVNGESTNTSISNE', 'TELRDK', 'KLDIVPIDGENNERNDSN', 'INCNTSA', 'ACPKVSFDPIP', 'APAG', 'NNKTFNG', 'QCTHGIKPVVSTQ', 'NGSLAEEEI', 'SENLTDNTKT', 'PNNNTRKSIRIGPGQAFFATGDIIGDIREA', 'LFNKTI', 'NSSSGGD', 'NTSI', 'DSDKSNDT', 'NMWQEVGR', 'APPIAGS', 'DGGINSSTE', 'GGGNM'], ['KPC', 'TPLCVT', 'CTDAKFDSNKTYANSTVENITIENITDE', 'TELRDK', 'RLDIIQTENRSSGINGSFQ', 'INCNTSV', 'ACPKISFDPIP', 'TPAG', 'NDKKFNG', 'QCTHGIKPVISTQ', 'NGSIAEEKI', 'SENITNNAKT', 'PSNNTRTSINIGPGQMLFYKPGDIIGDIRKA', 'HFPNKTI', 'QPSSGGD', 'NTTQ', 'NMTQLNETLNE', 'NMWQRVGQ', 'NPPVQGH', 'DGGANETNGTE', 'EGGNI'], ['KPC', 'TPLCVT', 'CTNAKNDNATVDGNSTTGGE', 'TELRDK', 'RLDIVPLNNSPREKGGSSS', 'INCNTSA', 'TCPKVSFDPIP', 'APAG', 'NNKTFNG', 'QCTHGIKPVVSTQ', 'NGSLAEEEI', 'SANLTDNTKT', 'PNNNTRTSIRIGPGQTFYATGDIIGEIRQA', 'HFPNKTI', 'ANSSGGD', 'NTTP', 'NGTYNKTGAYNKTGDNSTIT', 'NMWQEVGR', 'APPIAGN', 'DGGNNNSSNETE', 'GGGDM'], ['KPC', 'TPLCVT', 'CINANKTRLNGTMEGE', 'TELRDK', 'RLDIVPLEDNSNSS', 'INCNTST', 'ACPKVSFEPIP', 'APAG', 'NNKTFNG', 'QCTHGIKPVVSTQ', 'NGSLAEEEI', 'SENLTDNAKT', 'PNNNTRKSVRIGPGQTFYATGDIIGDIRAA', 'LYPNTTTI', 'NSSSGGD', 'DTSR', 'NGTYNGTDSNPNNGTDSDSNSNS', 'NMWQEVGR', 'APPIAGS', 'DGGKEENSTTNRIE', 'GGGNM'], ['KPC', 'TPLCVT', 'CSNVNITTNGTVVREGQGNNVANVTYNNSMNGE', 'TEIRDK', 'KPDVVPIKENSS', 'INCNTST', 'ACPKVTFDPIP', 'APAG', 'NNETFNG', 'QCTHGIKPVVSTQ', 'NGSLAEKDI', 'SENLTDNAKT', 'PGNNTRRSVRIGPGQTFYATGDIIGDIRQA', 'HFNNKTI', 'NSSSGGD', 'NTTE', 'NPNVAKWNGSSPNE', 'NMWQGVGQ', 'APPIAGN', 'DGGNINNTNGTE', 'GGGNM'], ['KPC', 'TPLCVT', 'CTNANITNTNANSTNSTSTNANKTSINNDMQE', 'TELRDK', 'RLDIVPLEKGNNASNYS', 'INCNTSA', 'ACPKVSFEPIP', 'APAG', 'NSKTFNG', 'QCTHGIKPVVSTQ', 'NGSLAEEEI', 'SENITNNAKT', 'PGNNTRKSIRIGPGQAFYATGDIIGDIRQA', 'YFPNKTI', 'DSPSGGD', 'NTSD', 'NRVYNTTGTYNSTERRNS', 'NMWQRVGQ', 'APPIAGN', 'DGGQNIKNETNKE', 'GGGDM'], ['KPC', 'TPLCVT', 'CTNVNVSSTSTTVAANATVNTNDTIKEE', 'TEIRDK', 'KLDIVPLNGNGNSS', 'INCNTST', 'ACPKVSFDPIP', 'APAG', 'NNETFNG', 'QCTHGIKPVVSTQ', 'NGSLAEGDI', 'SKNITDNAKT', 'PNNNTRRSITIGPGQAFYAQTNIIGDIRKA', 'YFPNKTI', 'NKSSGGD', 'NTSQ', 'NSTYNGTHHGTIKNG', 'NMWQEVGR', 'APPVAGA', 'DGDNETKE', 'GGGNM']]\n",
      "3\n",
      "['KPC', 'TPLCVT', 'CSKAKNITEEVIKNNTYKED', 'TEVKDK', 'RLDIVPLNKRNSSESEEENSSG', 'INCNTSA', 'ACPKVTFDPIP', 'TPAG', 'NEETFNG', 'QCTHGIKPVVSTQ', 'NGSLAEGEI', 'SKNLTDNAKT', 'PNENRRKSIRIGPGQAFYATGDIIGDIRQA', 'HFPNKTI', 'KSSSGGD', 'NTSG', 'NGTYMPTYMPNSTNSNSSS', 'NMWQEVGR', 'APPIEGE', 'DGGNGNDTNKTE', 'EGGDM']\n"
     ]
    }
   ],
   "source": [
    "# R_1 72条记录\n",
    "# MSA后序列所有区域需要统计的残基\n",
    "all_region_residue_1 =[]\n",
    "\n",
    "# 每个区域需要统计的残基\n",
    "R_region_residue_1 = []\n",
    "\n",
    "# 获取MSA之后在这些位置上Tier1序列的残基\n",
    "for i in range(0,72):\n",
    "    region_residue_1 = []\n",
    "    α1_β2 = fasta1.fetch(fasta1.references[i],86,89)  \n",
    "    # 获取β2-βa中所有残基，也就是序列索引91-97\n",
    "    β2_βa = fasta1.fetch(fasta1.references[i],92,98)\n",
    "    βa_βb = fasta1.fetch(fasta1.references[i],100,145)\n",
    "    βb_βc = fasta1.fetch(fasta1.references[i],154,160)\n",
    "    βc_βd = fasta1.fetch(fasta1.references[i],169,197)\n",
    "    βd_β3 = fasta1.fetch(fasta1.references[i],201,208)\n",
    "    β3_β4 = fasta1.fetch(fasta1.references[i],211,222) \n",
    "    β4_β5 = fasta1.fetch(fasta1.references[i],226,230)\n",
    "    β5_β6 = fasta1.fetch(fasta1.references[i],236,243)\n",
    "    β7_β9 = fasta1.fetch(fasta1.references[i],253,266)\n",
    "    β9_β10 = fasta1.fetch(fasta1.references[i],269,278)\n",
    "    β10_β11 = fasta1.fetch(fasta1.references[i],281,291)\n",
    "    β12_β13 = fasta1.fetch(fasta1.references[i],306,343)\n",
    "    α2_β14 = fasta1.fetch(fasta1.references[i],365,376)\n",
    "    β14_α3 = fasta1.fetch(fasta1.references[i],378,386)\n",
    "    β17_α4 = fasta1.fetch(fasta1.references[i],403,407)\n",
    "    α4_β19 = fasta1.fetch(fasta1.references[i],409,435)\n",
    "    β20_β21 = fasta1.fetch(fasta1.references[i],447,455) \n",
    "    β21_β22 = fasta1.fetch(fasta1.references[i],458,465) \n",
    "    β23_β24 = fasta1.fetch(fasta1.references[i],479,505)\n",
    "    β24_α5 = fasta1.fetch(fasta1.references[i],509,514)\n",
    "\n",
    "    # 去除序列段中的-\n",
    "    region_residue_1.append(α1_β2.replace('-',''))\n",
    "    region_residue_1.append(β2_βa.replace('-',''))\n",
    "    region_residue_1.append(βa_βb.replace('-',''))\n",
    "    region_residue_1.append(βb_βc.replace('-',''))\n",
    "    region_residue_1.append(βc_βd.replace('-',''))\n",
    "    region_residue_1.append(βd_β3.replace('-',''))\n",
    "    region_residue_1.append(β3_β4.replace('-',''))\n",
    "    region_residue_1.append(β4_β5.replace('-',''))\n",
    "    region_residue_1.append(β5_β6.replace('-',''))\n",
    "    region_residue_1.append(β7_β9.replace('-',''))\n",
    "    region_residue_1.append(β9_β10.replace('-',''))\n",
    "    region_residue_1.append(β10_β11.replace('-',''))\n",
    "    region_residue_1.append(β12_β13.replace('-',''))\n",
    "    region_residue_1.append(α2_β14.replace('-',''))\n",
    "    region_residue_1.append(β14_α3.replace('-',''))\n",
    "    region_residue_1.append(β17_α4.replace('-',''))\n",
    "    region_residue_1.append(α4_β19.replace('-',''))\n",
    "    region_residue_1.append(β20_β21.replace('-',''))\n",
    "    region_residue_1.append(β21_β22.replace('-',''))\n",
    "    region_residue_1.append(β23_β24.replace('-',''))\n",
    "    region_residue_1.append(β24_α5.replace('-',''))\n",
    "    all_region_residue_1.append(region_residue_1)\n",
    "print(all_region_residue_1)\n",
    "print(len(all_region_residue_1[0][0]))\n",
    "print(all_region_residue_1[1])"
   ]
  },
  {
   "cell_type": "code",
   "execution_count": 18,
   "id": "9cf3e385",
   "metadata": {
    "collapsed": true
   },
   "outputs": [
    {
     "name": "stdout",
     "output_type": "stream",
     "text": [
      "EKLWVTVYYGVPVWKEATTTLFCASDAKAYDTEAHNVWATHACVPTDPNPQEVELVNVTENFNMWKNNMVEQMHEDIISLWDQSLKPCVKLTPLCVTLNCTDLRNTTNTNNSTDNNNSNSEGTIKGGEMKNCSFNIATSIGDKMQKEYALLYKLDIEPIDNDNTSYRLISCNTSVITQACPKISFEPIPIHYCAPAGFAILKCNDKKFSGKGSCKNVSTVQCTHGIRPVVSTQLLLNGSLAEEEVVIRSENFTNNAKTIIVQLREPVKINCSRPNNNTRKSIPMGPGRAFYTTGQIIGDIRQAHCNISKTNWTNALKQVVEKLGEQFNKTKIVFTNSSGGDPEIVTHSFNCAGEFFYCNTTQLFDSIWNSENGTWNITRGLNNTGRNDTITLPCRIKQIINRWQEVGKAMYAPPIKGNISCSSNITGLLLTRDGGKDDNSRDGNETFRPGGGDMRDNWRSELYKYKVVKIEPLGVAPTK\n",
      "[[[85, 88], [91, 97], [99, 128], [137, 143], [152, 164], [168, 175], [178, 189], [193, 197], [203, 210], [220, 233], [236, 245], [248, 258], [273, 303], [325, 332], [334, 341], [358, 362], [364, 388], [400, 408], [411, 418], [432, 445], [449, 454]], [[85, 88], [91, 97], [99, 119], [128, 134], [143, 165], [169, 176], [179, 190], [194, 198], [204, 211], [221, 234], [237, 246], [249, 259], [274, 304], [326, 333], [335, 342], [359, 363], [365, 384], [396, 404], [407, 414], [428, 440], [444, 449]], [[85, 88], [91, 97], [99, 122], [131, 137], [146, 165], [169, 176], [179, 190], [194, 198], [204, 211], [221, 234], [237, 246], [249, 259], [274, 304], [326, 333], [335, 342], [359, 363], [365, 385], [397, 405], [408, 415], [429, 438], [442, 447]], [[85, 88], [91, 97], [99, 129], [138, 144], [153, 167], [171, 178], [181, 192], [196, 200], [206, 213], [223, 236], [239, 247], [250, 260], [275, 305], [327, 334], [336, 343], [360, 364], [366, 381], [393, 401], [404, 411], [425, 435], [439, 444]], [[85, 88], [91, 97], [99, 124], [133, 139], [148, 166], [170, 177], [180, 191], [195, 199], [205, 212], [222, 235], [238, 247], [250, 260], [275, 305], [327, 334], [336, 344], [361, 365], [367, 382], [394, 402], [405, 412], [426, 452], [456, 461]], [[85, 88], [91, 97], [99, 117], [126, 132], [141, 153], [157, 164], [167, 178], [182, 186], [192, 199], [209, 222], [225, 234], [237, 247], [262, 292], [314, 321], [323, 330], [347, 351], [353, 369], [381, 389], [392, 399], [413, 425], [429, 434]], [[85, 88], [91, 97], [99, 123], [132, 138], [147, 157], [161, 168], [171, 182], [186, 190], [196, 203], [213, 226], [229, 238], [241, 251], [266, 296], [318, 324], [326, 333], [350, 354], [356, 375], [387, 395], [398, 405], [419, 430], [434, 439]], [[85, 88], [91, 97], [99, 129], [138, 144], [153, 168], [172, 179], [182, 193], [197, 201], [207, 214], [224, 237], [240, 249], [252, 262], [277, 307], [329, 335], [337, 344], [361, 365], [367, 386], [398, 406], [409, 416], [430, 441], [445, 450]], [[85, 88], [91, 97], [99, 123], [132, 138], [147, 161], [165, 172], [175, 186], [190, 194], [200, 207], [217, 230], [233, 242], [245, 255], [270, 300], [322, 329], [331, 338], [355, 359], [361, 377], [389, 397], [400, 407], [421, 434], [438, 443]], [[85, 88], [91, 97], [99, 122], [131, 137], [146, 160], [164, 171], [174, 185], [189, 193], [199, 206], [216, 229], [232, 241], [244, 254], [269, 301], [323, 330], [332, 339], [356, 360], [362, 378], [390, 398], [401, 408], [422, 435], [439, 444]], [[85, 88], [91, 97], [99, 123], [132, 138], [147, 161], [165, 172], [175, 186], [190, 194], [200, 207], [217, 230], [233, 242], [245, 255], [270, 300], [322, 329], [331, 338], [355, 359], [361, 377], [389, 397], [400, 407], [421, 433], [437, 442]], [[85, 88], [91, 97], [99, 110], [119, 125], [134, 153], [157, 164], [167, 178], [182, 186], [192, 199], [209, 222], [225, 234], [237, 247], [262, 291], [313, 319], [321, 328], [345, 349], [351, 367], [379, 387], [390, 397], [411, 424], [428, 433]], [[85, 88], [91, 97], [99, 113], [122, 128], [137, 154], [158, 165], [168, 179], [183, 187], [193, 200], [210, 223], [226, 235], [238, 248], [263, 293], [315, 322], [324, 331], [348, 352], [354, 371], [383, 391], [394, 401], [415, 431], [435, 440]], [[85, 88], [91, 97], [99, 119], [128, 134], [143, 155], [159, 166], [169, 180], [184, 188], [194, 201], [211, 224], [227, 236], [239, 249], [264, 294], [316, 323], [325, 332], [349, 353], [355, 373], [385, 393], [396, 403], [417, 431], [435, 440]], [[85, 88], [91, 97], [99, 113], [122, 128], [137, 154], [158, 165], [168, 179], [183, 187], [193, 200], [210, 223], [226, 235], [238, 248], [263, 293], [315, 322], [324, 331], [348, 352], [354, 371], [383, 391], [394, 401], [415, 431], [435, 440]], [[85, 88], [91, 97], [99, 113], [122, 128], [137, 154], [158, 165], [168, 179], [183, 187], [193, 200], [210, 223], [226, 235], [238, 248], [263, 293], [315, 322], [324, 331], [348, 352], [354, 371], [383, 391], [394, 401], [415, 431], [435, 440]], [[85, 88], [91, 97], [99, 117], [126, 132], [141, 158], [162, 169], [172, 183], [187, 191], [197, 204], [214, 227], [230, 239], [242, 252], [267, 297], [319, 326], [328, 335], [352, 356], [358, 370], [382, 390], [393, 400], [414, 432], [436, 441]], [[85, 88], [91, 97], [99, 133], [142, 148], [157, 175], [179, 186], [189, 200], [204, 208], [214, 221], [231, 244], [247, 256], [259, 269], [284, 314], [336, 343], [345, 352], [369, 373], [375, 394], [406, 414], [417, 424], [438, 447], [451, 456]], [[85, 88], [91, 97], [99, 117], [126, 132], [141, 153], [157, 164], [167, 178], [182, 186], [192, 199], [209, 222], [225, 234], [237, 247], [262, 292], [314, 321], [323, 330], [347, 351], [353, 362], [374, 382], [385, 392], [406, 415], [419, 424]], [[85, 88], [91, 97], [99, 117], [126, 132], [141, 153], [157, 164], [167, 178], [182, 186], [192, 199], [209, 222], [225, 234], [237, 247], [262, 292], [314, 321], [323, 330], [347, 351], [353, 362], [374, 382], [385, 392], [406, 415], [419, 424]], [[85, 88], [91, 97], [99, 117], [126, 132], [141, 153], [157, 164], [167, 178], [182, 186], [192, 199], [209, 222], [225, 234], [237, 247], [262, 292], [314, 321], [323, 330], [347, 351], [353, 362], [374, 382], [385, 392], [406, 415], [419, 424]], [[85, 88], [91, 97], [99, 123], [132, 138], [147, 159], [163, 170], [173, 184], [188, 192], [198, 205], [215, 228], [231, 240], [243, 253], [268, 298], [320, 327], [329, 336], [353, 357], [359, 368], [380, 388], [391, 398], [412, 423], [427, 432]], [[85, 88], [91, 97], [99, 123], [132, 138], [147, 159], [163, 170], [173, 184], [188, 192], [198, 205], [215, 228], [231, 240], [243, 253], [268, 298], [320, 325], [327, 334], [351, 355], [357, 366], [378, 386], [389, 396], [410, 421], [425, 430]], [[85, 88], [91, 97], [99, 120], [129, 135], [144, 158], [162, 169], [172, 183], [187, 191], [197, 204], [214, 227], [230, 239], [242, 252], [267, 297], [319, 325], [327, 334], [351, 355], [357, 367], [379, 387], [390, 397], [411, 421], [425, 430]], [[85, 88], [91, 97], [99, 130], [139, 145], [154, 173], [177, 184], [187, 198], [202, 206], [212, 219], [229, 242], [245, 254], [257, 267], [282, 312], [334, 341], [343, 350], [367, 371], [373, 396], [408, 416], [419, 426], [440, 451], [455, 460]], [[85, 88], [91, 97], [99, 125], [134, 140], [149, 161], [165, 172], [175, 186], [190, 194], [200, 207], [217, 230], [233, 242], [245, 255], [270, 302], [324, 331], [333, 340], [357, 361], [363, 380], [392, 400], [403, 410], [424, 435], [439, 444]], [[85, 88], [91, 97], [99, 134], [143, 149], [158, 184], [188, 195], [198, 209], [213, 217], [223, 230], [240, 253], [256, 265], [268, 278], [293, 323], [345, 352], [354, 362], [379, 383], [385, 400], [412, 420], [423, 430], [444, 453], [457, 462]], [[85, 88], [91, 97], [99, 134], [143, 149], [158, 167], [171, 178], [181, 192], [196, 200], [206, 213], [223, 236], [239, 248], [251, 261], [276, 306], [328, 338], [340, 347], [364, 368], [370, 389], [401, 409], [412, 419], [433, 445], [449, 454]], [[85, 88], [91, 97], [99, 116], [125, 131], [140, 150], [154, 161], [164, 175], [179, 183], [189, 196], [206, 219], [222, 231], [234, 244], [259, 289], [311, 318], [320, 327], [344, 348], [350, 368], [380, 388], [391, 398], [412, 431], [435, 440]], [[85, 88], [91, 97], [99, 127], [136, 142], [151, 168], [172, 179], [182, 193], [197, 201], [207, 214], [224, 237], [240, 249], [252, 262], [277, 307], [329, 336], [338, 345], [362, 366], [368, 386], [398, 406], [409, 416], [430, 439], [443, 448]], [[85, 88], [91, 97], [99, 127], [136, 142], [151, 168], [172, 179], [182, 193], [197, 201], [207, 214], [224, 237], [240, 249], [252, 262], [277, 307], [329, 336], [338, 345], [362, 366], [368, 386], [398, 406], [409, 416], [430, 445], [449, 454]], [[85, 88], [91, 97], [99, 124], [133, 139], [148, 160], [164, 171], [174, 185], [189, 193], [199, 206], [216, 229], [232, 241], [244, 254], [269, 299], [321, 328], [330, 337], [354, 358], [360, 380], [392, 400], [403, 410], [424, 434], [438, 443]], [[85, 88], [91, 97], [99, 120], [129, 135], [144, 156], [160, 167], [170, 181], [185, 189], [195, 202], [212, 225], [228, 237], [240, 250], [265, 295], [317, 324], [326, 333], [350, 354], [356, 374], [386, 394], [397, 404], [418, 428], [432, 437]], [[85, 88], [91, 97], [99, 120], [129, 135], [144, 156], [160, 167], [170, 181], [185, 189], [195, 202], [212, 225], [228, 237], [240, 250], [265, 295], [317, 324], [326, 333], [350, 354], [356, 374], [386, 394], [397, 404], [418, 428], [432, 437]], [[85, 88], [91, 97], [99, 120], [129, 135], [144, 156], [160, 167], [170, 181], [185, 189], [195, 202], [212, 225], [228, 237], [240, 250], [265, 295], [317, 324], [326, 333], [350, 354], [356, 374], [386, 394], [397, 404], [418, 428], [432, 437]], [[85, 88], [91, 97], [99, 116], [125, 131], [140, 155], [159, 166], [169, 180], [184, 188], [194, 201], [211, 224], [227, 236], [239, 249], [264, 294], [316, 324], [326, 333], [350, 354], [356, 375], [387, 395], [398, 405], [419, 431], [435, 440]], [[85, 88], [91, 97], [99, 134], [143, 149], [158, 177], [181, 188], [191, 202], [206, 210], [216, 223], [233, 246], [249, 258], [261, 271], [286, 316], [338, 345], [347, 354], [371, 375], [377, 395], [407, 415], [418, 425], [439, 448], [452, 457]], [[84, 87], [90, 96], [98, 128], [137, 143], [152, 167], [171, 178], [181, 192], [196, 200], [206, 213], [223, 236], [239, 248], [251, 261], [276, 306], [328, 335], [337, 344], [361, 365], [367, 383], [395, 403], [406, 413], [427, 442], [446, 451]], [[85, 88], [91, 97], [99, 125], [134, 140], [149, 161], [165, 172], [175, 186], [190, 194], [200, 207], [217, 230], [233, 242], [245, 255], [270, 302], [324, 331], [333, 340], [357, 361], [363, 384], [396, 404], [407, 414], [428, 438], [442, 447]], [[85, 88], [91, 97], [99, 123], [132, 138], [147, 174], [178, 185], [188, 199], [203, 207], [213, 220], [230, 243], [246, 255], [258, 268], [283, 313], [335, 342], [344, 351], [368, 372], [374, 391], [403, 411], [414, 421], [435, 447], [451, 456]], [[85, 88], [91, 97], [99, 123], [132, 138], [147, 175], [179, 186], [189, 200], [204, 208], [214, 221], [231, 244], [247, 256], [259, 269], [284, 314], [336, 343], [345, 352], [369, 373], [375, 395], [407, 415], [418, 425], [439, 453], [457, 462]], [[85, 88], [91, 97], [99, 123], [132, 138], [147, 174], [178, 185], [188, 199], [203, 207], [213, 220], [230, 243], [246, 255], [258, 268], [283, 313], [335, 342], [344, 351], [368, 372], [374, 394], [406, 414], [417, 424], [438, 448], [452, 457]], [[85, 88], [91, 97], [99, 123], [132, 138], [147, 174], [178, 185], [188, 199], [203, 207], [213, 220], [230, 243], [246, 255], [258, 268], [283, 313], [335, 342], [344, 351], [368, 372], [374, 391], [403, 411], [414, 421], [435, 447], [451, 456]], [[85, 88], [91, 97], [99, 123], [132, 138], [147, 174], [178, 185], [188, 199], [203, 207], [213, 220], [230, 243], [246, 255], [258, 268], [283, 313], [335, 342], [344, 351], [368, 372], [374, 391], [403, 411], [414, 421], [435, 447], [451, 456]], [[85, 88], [91, 97], [99, 123], [132, 138], [147, 174], [178, 185], [188, 199], [203, 207], [213, 220], [230, 243], [246, 255], [258, 268], [283, 313], [335, 342], [344, 351], [368, 372], [374, 391], [403, 411], [414, 421], [435, 447], [451, 456]], [[85, 88], [91, 97], [99, 123], [132, 138], [147, 174], [178, 185], [188, 199], [203, 207], [213, 220], [230, 243], [246, 255], [258, 268], [283, 313], [335, 342], [344, 351], [368, 372], [374, 391], [403, 411], [414, 421], [435, 447], [451, 456]], [[85, 88], [91, 97], [99, 123], [132, 138], [147, 174], [178, 185], [188, 199], [203, 207], [213, 220], [230, 243], [246, 255], [258, 268], [283, 313], [335, 342], [344, 351], [368, 372], [374, 391], [403, 411], [414, 421], [435, 447], [451, 456]], [[85, 88], [91, 97], [99, 127], [136, 142], [151, 174], [178, 185], [188, 199], [203, 207], [213, 220], [230, 243], [246, 255], [258, 268], [283, 313], [335, 342], [344, 351], [368, 372], [374, 391], [403, 411], [414, 421], [435, 445], [449, 454]], [[85, 88], [91, 97], [99, 127], [136, 142], [151, 176], [180, 187], [190, 201], [205, 209], [215, 221], [231, 244], [247, 256], [259, 269], [284, 314], [336, 343], [345, 352], [369, 373], [375, 392], [404, 412], [415, 422], [436, 448], [452, 457]], [[85, 88], [91, 97], [99, 123], [132, 138], [147, 172], [176, 183], [186, 197], [201, 205], [211, 218], [228, 241], [244, 253], [256, 266], [281, 311], [333, 340], [342, 349], [366, 370], [372, 389], [401, 409], [412, 419], [433, 445], [449, 454]], [[85, 88], [91, 97], [99, 123], [132, 138], [147, 174], [178, 185], [188, 199], [203, 207], [213, 220], [230, 243], [246, 255], [258, 268], [283, 313], [335, 342], [344, 351], [368, 372], [374, 391], [403, 411], [414, 421], [435, 447], [451, 456]], [[85, 88], [91, 97], [99, 127], [136, 142], [151, 176], [180, 187], [190, 201], [205, 209], [215, 222], [232, 245], [248, 257], [260, 270], [285, 315], [337, 344], [346, 353], [370, 374], [376, 393], [405, 413], [416, 423], [437, 449], [453, 458]], [[84, 87], [90, 96], [98, 119], [128, 134], [143, 157], [161, 168], [171, 182], [186, 190], [196, 203], [213, 226], [229, 238], [241, 251], [266, 296], [318, 324], [326, 333], [350, 354], [356, 372], [384, 392], [395, 402], [416, 429], [433, 438]], [[84, 87], [90, 96], [98, 107], [116, 122], [131, 143], [147, 154], [157, 168], [172, 176], [182, 189], [199, 212], [215, 224], [227, 237], [252, 282], [304, 311], [313, 320], [337, 341], [343, 363], [375, 383], [386, 393], [407, 418], [422, 427]], [[85, 88], [91, 97], [99, 118], [127, 133], [142, 153], [157, 164], [167, 178], [182, 186], [192, 199], [209, 222], [225, 234], [237, 247], [262, 292], [314, 321], [323, 330], [347, 351], [353, 362], [374, 382], [385, 392], [406, 416], [420, 425]], [[85, 88], [91, 97], [99, 125], [134, 140], [149, 161], [165, 172], [175, 186], [190, 194], [200, 207], [217, 230], [233, 242], [245, 255], [270, 302], [324, 331], [333, 340], [357, 361], [363, 384], [396, 404], [407, 414], [428, 438], [442, 447]], [[86, 89], [92, 98], [100, 125], [134, 140], [149, 161], [165, 172], [175, 186], [190, 194], [200, 207], [217, 230], [233, 242], [245, 255], [270, 300], [322, 329], [331, 338], [355, 359], [361, 378], [390, 398], [401, 408], [422, 431], [435, 440]], [[86, 89], [92, 98], [100, 117], [126, 132], [141, 153], [157, 164], [167, 178], [182, 186], [192, 199], [209, 222], [225, 234], [237, 247], [262, 292], [314, 321], [323, 330], [347, 351], [353, 370], [382, 390], [393, 400], [414, 423], [427, 432]], [[85, 88], [91, 97], [99, 121], [130, 136], [145, 155], [159, 166], [169, 180], [184, 188], [194, 201], [211, 224], [227, 236], [239, 249], [264, 294], [316, 322], [324, 331], [348, 352], [354, 371], [383, 391], [394, 401], [415, 426], [430, 435]], [[85, 88], [91, 97], [99, 118], [127, 133], [142, 159], [163, 170], [173, 184], [188, 192], [198, 205], [215, 228], [231, 240], [243, 253], [268, 298], [320, 326], [328, 335], [352, 356], [358, 374], [386, 394], [397, 404], [418, 427], [431, 436]], [[85, 88], [91, 97], [99, 117], [126, 132], [141, 159], [163, 170], [173, 184], [188, 192], [198, 205], [215, 228], [231, 240], [243, 253], [268, 298], [320, 327], [329, 336], [353, 357], [359, 369], [381, 389], [392, 399], [413, 426], [430, 435]], [[85, 88], [91, 97], [99, 112], [121, 127], [136, 153], [157, 164], [167, 178], [182, 186], [192, 199], [209, 222], [225, 234], [237, 247], [262, 291], [313, 320], [322, 329], [346, 350], [352, 369], [381, 389], [392, 399], [413, 422], [426, 431]], [[85, 88], [91, 97], [99, 119], [128, 134], [143, 161], [165, 172], [175, 186], [190, 194], [200, 207], [217, 230], [233, 241], [244, 254], [269, 299], [321, 328], [330, 337], [354, 358], [360, 370], [382, 390], [393, 400], [414, 426], [430, 435]], [[85, 88], [91, 97], [99, 118], [127, 133], [142, 157], [161, 168], [171, 182], [186, 190], [196, 203], [213, 226], [229, 238], [241, 251], [266, 296], [318, 325], [327, 334], [351, 355], [357, 372], [384, 392], [395, 402], [416, 425], [429, 434]], [[85, 88], [91, 97], [99, 112], [121, 127], [136, 156], [160, 167], [170, 181], [185, 189], [195, 202], [212, 225], [228, 237], [240, 250], [265, 295], [317, 324], [326, 333], [350, 354], [356, 369], [381, 389], [392, 399], [413, 423], [427, 432]], [[85, 88], [91, 97], [99, 124], [133, 139], [148, 166], [170, 177], [180, 191], [195, 199], [205, 212], [222, 235], [238, 247], [250, 260], [275, 305], [325, 331], [333, 340], [357, 361], [363, 371], [383, 391], [394, 401], [415, 424], [428, 433]], [[85, 88], [91, 97], [99, 127], [136, 142], [151, 170], [174, 181], [184, 195], [199, 203], [209, 216], [226, 239], [242, 251], [254, 264], [279, 310], [332, 339], [341, 348], [365, 369], [371, 382], [394, 402], [405, 412], [426, 437], [441, 446]], [[85, 88], [91, 97], [99, 119], [128, 134], [143, 162], [166, 173], [176, 187], [191, 195], [201, 208], [218, 231], [234, 243], [246, 256], [271, 301], [323, 330], [332, 339], [356, 360], [362, 382], [394, 402], [405, 412], [426, 438], [442, 447]], [[85, 88], [91, 97], [99, 115], [124, 130], [139, 153], [157, 164], [167, 178], [182, 186], [192, 199], [209, 222], [225, 234], [237, 247], [262, 292], [314, 322], [324, 331], [348, 352], [354, 377], [389, 397], [400, 407], [421, 435], [439, 444]], [[85, 88], [91, 97], [99, 132], [141, 147], [156, 168], [172, 179], [182, 193], [197, 201], [207, 214], [224, 237], [240, 249], [252, 262], [277, 307], [329, 336], [338, 345], [362, 366], [368, 382], [394, 402], [405, 412], [426, 438], [442, 447]], [[85, 88], [91, 97], [99, 131], [140, 146], [155, 172], [176, 183], [186, 197], [201, 205], [211, 218], [228, 241], [244, 253], [256, 266], [281, 311], [333, 340], [342, 349], [366, 370], [372, 390], [402, 410], [413, 420], [434, 447], [451, 456]], [[85, 88], [91, 97], [99, 127], [136, 142], [151, 165], [169, 176], [179, 190], [194, 198], [204, 211], [221, 234], [237, 246], [249, 259], [274, 304], [326, 333], [335, 342], [359, 363], [365, 380], [392, 400], [403, 410], [424, 432], [436, 441]]]\n",
      "72\n"
     ]
    }
   ],
   "source": [
    "# 通过MSA之后确定位置，获取其位置里残基，通过这些残基在MSA之前序列上统计其无规则卷曲长度（biolib预测的csv文件中）\n",
    "\n",
    "# all_region_residue_1\n",
    "# 未做MSA的序列\n",
    "original_R_1 = \"/www/yang/csv/MSA_before/1.fa\"\n",
    "original_fasta1 = sam.FastaFile(original_R_1)\n",
    "\n",
    "index_region_R_1 = []\n",
    "# 需要查找残基位置的序列\n",
    "seq = original_fasta1.fetch(original_fasta1.references[0],0,479)\n",
    "print(seq)\n",
    "seq.index(all_region_residue_1[0][0])\n",
    "\n",
    "# 获取这些残基在MSA之前原始序列的位置\n",
    "for i in range(72):\n",
    "    seq = original_fasta1.fetch(original_fasta1.references[i],0,original_fasta1.lengths[i])\n",
    "    \n",
    "    # 21个区域\n",
    "    one_region_R_1 = []\n",
    "    for j in range(21):\n",
    "        # 单个区域\n",
    "        s_e = []\n",
    "        start = seq.index(all_region_residue_1[i][j]) \n",
    "        end = start + len(all_region_residue_1[i][j])\n",
    "        s_e.append(start)\n",
    "        s_e.append(end)\n",
    "        one_region_R_1.append(s_e)\n",
    "    index_region_R_1.append(one_region_R_1)\n",
    "# 更改匹配错误的位置\n",
    "index_region_R_1[65][15] = [357, 361]\n",
    "print(index_region_R_1)\n",
    "print(len(index_region_R_1))"
   ]
  },
  {
   "cell_type": "markdown",
   "id": "064a247e",
   "metadata": {},
   "source": [
    "## table_1  Sensitive "
   ]
  },
  {
   "cell_type": "code",
   "execution_count": 50,
   "id": "604eea2e",
   "metadata": {},
   "outputs": [
    {
     "name": "stdout",
     "output_type": "stream",
     "text": [
      "sensitive number:72\n",
      "sensitive length min:449\n",
      "sensitive length max:487\n",
      "sensitive length mean:468.9861111111111\n"
     ]
    }
   ],
   "source": [
    "print(\"sensitive number:\" + str(len(original_fasta1.lengths)))\n",
    "print(\"sensitive length min:\" + str(np.min(original_fasta1.lengths)))\n",
    "print(\"sensitive length max:\" + str(np.max(original_fasta1.lengths)))\n",
    "print(\"sensitive length mean:\" + str(np.mean(original_fasta1.lengths)))"
   ]
  },
  {
   "cell_type": "code",
   "execution_count": 20,
   "id": "1d81f315",
   "metadata": {},
   "outputs": [],
   "source": [
    "# 将R_1中72条序列的21个区域存储为pickle文件\n",
    "pickle.dump(np.array(index_region_R_1),  open('/home/dldx/R-H/code/classification/ML/plot/position_pickle/end_position_R_1.pkl', 'wb'))"
   ]
  },
  {
   "cell_type": "code",
   "execution_count": 15,
   "id": "aeac3fca",
   "metadata": {},
   "outputs": [],
   "source": [
    "#读取 pickle文件\n",
    "R = pickle.load(open('/home/dldx/R-H/code/classification/ML/plot/position_pickle/end_position_R_1.pkl','rb'))"
   ]
  },
  {
   "cell_type": "code",
   "execution_count": 16,
   "id": "21c4022e",
   "metadata": {},
   "outputs": [
    {
     "data": {
      "text/plain": [
       "(72, 21, 2)"
      ]
     },
     "execution_count": 16,
     "metadata": {},
     "output_type": "execute_result"
    }
   ],
   "source": [
    "R.shape"
   ]
  },
  {
   "cell_type": "code",
   "execution_count": 17,
   "id": "69a03497",
   "metadata": {},
   "outputs": [
    {
     "name": "stdout",
     "output_type": "stream",
     "text": [
      "TPLCVT\n",
      "91\n",
      "97\n"
     ]
    }
   ],
   "source": [
    "seq = original_fasta1.fetch(original_fasta1.references[1],0,original_fasta1.lengths[1])\n",
    "start = seq.index(all_region_residue_1[1][1]) \n",
    "end = start + len(all_region_residue_1[1][1])\n",
    "print(all_region_residue_1[1][1])\n",
    "print(start)\n",
    "print(end)"
   ]
  },
  {
   "cell_type": "code",
   "execution_count": 21,
   "id": "a9175086",
   "metadata": {
    "collapsed": true
   },
   "outputs": [
    {
     "name": "stdout",
     "output_type": "stream",
     "text": [
      "[[3, 3, 29, 5, 6, 4, 11, 4, 7, 7, 8, 9, 19, 4, 7, 0, 24, 0, 7, 13, 5], [3, 2, 20, 3, 17, 3, 11, 4, 7, 7, 7, 9, 20, 4, 7, 2, 19, 0, 6, 11, 5], [3, 3, 22, 6, 17, 4, 11, 4, 7, 6, 8, 9, 19, 4, 6, 1, 20, 0, 7, 8, 5], [3, 3, 29, 5, 8, 4, 11, 4, 7, 7, 8, 9, 20, 4, 7, 0, 15, 0, 7, 9, 4], [3, 3, 24, 4, 12, 4, 11, 4, 7, 6, 8, 9, 20, 4, 8, 0, 15, 0, 7, 24, 5], [3, 3, 17, 5, 6, 3, 11, 4, 7, 7, 7, 10, 17, 4, 7, 0, 16, 0, 7, 11, 5], [3, 3, 24, 6, 4, 3, 11, 4, 7, 7, 7, 9, 21, 4, 7, 1, 19, 2, 6, 9, 5], [3, 3, 30, 5, 12, 3, 11, 4, 7, 6, 7, 8, 20, 4, 7, 0, 18, 2, 6, 9, 4], [3, 2, 24, 4, 8, 4, 11, 4, 7, 6, 8, 9, 20, 4, 7, 0, 16, 0, 7, 12, 4], [3, 4, 23, 6, 9, 3, 11, 4, 7, 7, 8, 9, 24, 4, 7, 0, 16, 0, 7, 12, 4], [3, 2, 24, 5, 9, 4, 11, 4, 7, 7, 8, 9, 20, 4, 7, 0, 16, 0, 7, 11, 5], [3, 3, 11, 6, 12, 5, 11, 4, 7, 6, 7, 9, 19, 3, 7, 0, 13, 3, 6, 13, 4], [3, 4, 14, 6, 11, 4, 11, 4, 7, 6, 8, 10, 18, 4, 6, 0, 17, 0, 6, 15, 4], [3, 4, 20, 5, 6, 3, 11, 4, 6, 6, 9, 9, 20, 4, 7, 0, 18, 0, 6, 13, 5], [3, 3, 14, 5, 11, 4, 11, 4, 6, 5, 8, 10, 18, 4, 7, 0, 17, 0, 6, 15, 4], [3, 3, 14, 5, 11, 4, 11, 4, 7, 5, 8, 10, 18, 4, 7, 0, 17, 0, 6, 15, 4], [3, 3, 18, 5, 14, 3, 11, 4, 7, 5, 8, 10, 21, 4, 7, 3, 11, 0, 6, 17, 5], [3, 3, 34, 3, 17, 3, 11, 4, 7, 7, 7, 10, 19, 3, 7, 3, 19, 4, 6, 9, 4], [3, 3, 17, 4, 6, 3, 11, 4, 7, 7, 8, 9, 21, 5, 7, 3, 9, 0, 6, 9, 5], [3, 3, 17, 5, 6, 3, 11, 4, 7, 7, 8, 9, 20, 5, 6, 3, 9, 0, 7, 9, 5], [3, 3, 18, 5, 6, 3, 11, 4, 7, 7, 8, 9, 21, 5, 7, 3, 9, 0, 6, 9, 5], [3, 3, 24, 2, 8, 4, 11, 4, 7, 7, 7, 9, 21, 4, 7, 0, 9, 3, 6, 10, 5], [3, 3, 24, 3, 9, 3, 11, 4, 7, 7, 7, 9, 20, 4, 7, 0, 9, 3, 6, 10, 4], [2, 3, 20, 6, 8, 3, 11, 4, 7, 7, 8, 8, 21, 3, 7, 0, 10, 0, 7, 9, 5], [3, 3, 31, 2, 19, 3, 11, 4, 7, 6, 8, 9, 21, 4, 7, 0, 23, 2, 6, 10, 5], [3, 2, 25, 3, 6, 4, 11, 4, 7, 6, 7, 8, 18, 4, 7, 0, 15, 4, 6, 11, 5], [3, 3, 34, 4, 26, 4, 11, 4, 7, 6, 7, 9, 19, 3, 8, 3, 15, 3, 6, 9, 5], [3, 3, 35, 5, 6, 4, 11, 4, 7, 5, 8, 9, 20, 7, 7, 0, 19, 0, 7, 12, 5], [3, 3, 17, 6, 3, 0, 11, 4, 7, 5, 9, 8, 19, 4, 7, 3, 18, 5, 7, 19, 5], [3, 3, 28, 4, 12, 3, 11, 4, 7, 7, 8, 9, 20, 4, 7, 0, 16, 3, 6, 9, 5], [3, 3, 28, 4, 12, 3, 11, 4, 7, 7, 9, 9, 20, 3, 7, 0, 16, 3, 6, 13, 5], [3, 3, 25, 6, 6, 4, 11, 4, 7, 6, 8, 9, 21, 4, 7, 0, 20, 2, 7, 9, 5], [3, 3, 21, 1, 7, 4, 11, 4, 7, 6, 7, 9, 19, 4, 6, 0, 18, 2, 6, 10, 5], [3, 3, 21, 1, 8, 4, 11, 4, 7, 7, 7, 9, 20, 4, 7, 0, 18, 2, 6, 10, 5], [3, 3, 20, 1, 7, 3, 11, 4, 7, 6, 7, 9, 20, 3, 7, 0, 18, 2, 6, 10, 5], [3, 4, 17, 4, 13, 3, 11, 4, 7, 7, 7, 9, 19, 4, 7, 2, 18, 3, 6, 12, 4], [3, 3, 34, 1, 19, 4, 11, 4, 7, 5, 8, 9, 19, 4, 7, 0, 18, 0, 6, 9, 5], [3, 3, 30, 5, 9, 3, 11, 4, 7, 6, 9, 9, 20, 4, 7, 3, 16, 0, 6, 14, 5], [3, 3, 26, 4, 8, 4, 11, 4, 7, 6, 7, 10, 16, 4, 6, 0, 21, 3, 6, 9, 5], [3, 3, 24, 0, 25, 5, 11, 4, 7, 6, 8, 9, 19, 4, 7, 0, 17, 0, 6, 10, 5], [3, 3, 24, 0, 28, 4, 11, 4, 7, 6, 8, 9, 20, 4, 7, 1, 20, 0, 6, 12, 5], [3, 3, 24, 0, 24, 5, 11, 4, 7, 6, 8, 9, 19, 4, 7, 0, 20, 0, 6, 10, 5], [3, 3, 24, 0, 25, 5, 11, 4, 7, 6, 9, 9, 19, 4, 7, 0, 17, 0, 7, 10, 5], [3, 3, 24, 0, 25, 5, 11, 4, 7, 6, 8, 9, 19, 4, 7, 0, 16, 0, 6, 10, 5], [3, 3, 24, 0, 25, 5, 11, 4, 7, 6, 8, 9, 19, 4, 7, 0, 16, 0, 6, 10, 5], [3, 3, 24, 0, 25, 5, 11, 4, 7, 6, 8, 9, 19, 4, 7, 0, 17, 0, 6, 10, 5], [3, 3, 24, 0, 25, 5, 11, 4, 7, 6, 9, 9, 19, 4, 7, 0, 16, 0, 6, 10, 5], [3, 3, 28, 2, 20, 5, 11, 4, 7, 7, 9, 9, 19, 4, 7, 0, 17, 3, 6, 8, 5], [3, 3, 28, 0, 23, 3, 11, 4, 6, 7, 9, 9, 20, 4, 7, 0, 15, 2, 6, 10, 5], [3, 3, 24, 0, 23, 5, 11, 4, 7, 7, 8, 9, 20, 4, 7, 0, 17, 0, 7, 10, 5], [3, 3, 24, 0, 26, 5, 11, 4, 7, 6, 9, 9, 19, 4, 7, 0, 16, 0, 7, 9, 5], [3, 3, 28, 0, 23, 5, 11, 4, 7, 7, 9, 9, 20, 4, 7, 0, 17, 0, 6, 10, 5], [3, 4, 20, 3, 8, 3, 11, 4, 7, 7, 9, 9, 20, 3, 7, 3, 16, 0, 6, 12, 5], [3, 3, 9, 0, 6, 4, 11, 4, 7, 5, 7, 8, 19, 4, 7, 0, 19, 4, 7, 10, 5], [3, 4, 18, 3, 5, 4, 11, 4, 7, 6, 8, 9, 22, 5, 7, 0, 9, 5, 7, 10, 4], [3, 3, 26, 2, 7, 4, 11, 4, 7, 6, 7, 10, 16, 4, 6, 0, 21, 3, 6, 9, 5], [3, 3, 24, 1, 7, 5, 11, 4, 7, 6, 7, 8, 19, 4, 7, 0, 15, 4, 7, 8, 5], [3, 3, 16, 0, 8, 5, 11, 4, 7, 7, 7, 8, 20, 4, 7, 0, 15, 0, 7, 8, 5], [3, 3, 22, 6, 4, 3, 11, 4, 7, 7, 9, 9, 21, 3, 7, 1, 17, 2, 6, 10, 5], [3, 3, 19, 6, 13, 4, 11, 4, 7, 7, 7, 9, 20, 3, 7, 0, 16, 7, 6, 9, 5], [3, 3, 17, 3, 13, 4, 11, 4, 7, 7, 8, 9, 19, 4, 7, 0, 10, 0, 7, 12, 5], [3, 3, 12, 3, 14, 3, 11, 4, 7, 7, 8, 9, 20, 4, 7, 0, 17, 0, 7, 8, 5], [3, 3, 19, 6, 12, 1, 11, 4, 7, 7, 8, 8, 21, 4, 7, 0, 10, 0, 7, 10, 5], [3, 3, 19, 5, 9, 4, 11, 4, 7, 7, 7, 9, 18, 4, 7, 0, 14, 0, 6, 7, 5], [3, 3, 12, 5, 14, 3, 11, 4, 7, 6, 7, 9, 20, 4, 6, 0, 13, 0, 7, 10, 5], [3, 3, 25, 6, 15, 3, 11, 4, 7, 6, 7, 10, 21, 4, 7, 3, 8, 0, 6, 9, 5], [3, 3, 27, 4, 13, 4, 11, 4, 7, 5, 7, 9, 20, 4, 7, 0, 11, 0, 6, 10, 5], [3, 4, 19, 5, 13, 3, 11, 4, 7, 6, 8, 10, 20, 4, 6, 1, 18, 3, 6, 10, 4], [3, 3, 15, 4, 8, 4, 11, 4, 7, 5, 8, 9, 20, 5, 7, 0, 23, 2, 6, 12, 5], [3, 3, 32, 3, 9, 3, 11, 4, 7, 5, 8, 8, 20, 4, 7, 0, 14, 5, 7, 11, 5], [3, 4, 31, 4, 12, 3, 11, 4, 7, 5, 8, 9, 19, 4, 7, 0, 18, 5, 6, 12, 4], [3, 3, 28, 4, 9, 3, 11, 4, 7, 6, 8, 9, 21, 4, 7, 0, 15, 0, 6, 6, 5]]\n",
      "72\n",
      "21\n"
     ]
    }
   ],
   "source": [
    "# 统计无规则卷曲长度   包括R_seq72条记录 每条记录统计其21个区域\n",
    "one_file_path_1 = \"/www/yang/csv/Tier_1_out/\"\n",
    "\n",
    "# R_seq加71条序列记录\n",
    "all_seq_count_C_1 = []\n",
    "for i in range(0,72):\n",
    "    df = pd.read_csv(one_file_path_1 + str(i) + \"/\" + str(i) + \".csv\")\n",
    "    # 20个统计区域\n",
    "    one_seq_count_C = []\n",
    "    for j in range(21):\n",
    "        # 一个区域的无规则卷曲长度统计\n",
    "        one_region_count_C = 0\n",
    "        for k in range(index_region_R_1[i][j][0],index_region_R_1[i][j][1]):\n",
    "            if df[\" q3\"][k] == \"C\":\n",
    "                one_region_count_C = one_region_count_C + 1\n",
    "        # 匹配定位区域前后漏掉的无规则卷曲数量\n",
    "        # 向前匹配\n",
    "#         if df[\" q3\"][index_region_R_1[i][j][0]] == \"C\":\n",
    "#             forward = index_region_R_1[i][j][0]\n",
    "#             while df[\" q3\"][forward - 1] == \"C\":\n",
    "#                 one_region_count_C = one_region_count_C + 1\n",
    "#                 forward = forward - 1\n",
    "#         # 向后匹配\n",
    "#         if df[\" q3\"][index_region_R_1[i][j][1] - 1] == \"C\":\n",
    "#             backward = index_region_R_1[i][j][1]\n",
    "#             while df[\" q3\"][backward] == \"C\":\n",
    "#                 one_region_count_C = one_region_count_C + 1\n",
    "#                 backward = backward + 1\n",
    "        one_seq_count_C.append(one_region_count_C)\n",
    "    all_seq_count_C_1.append(one_seq_count_C)\n",
    "print(all_seq_count_C_1)\n",
    "print(len(all_seq_count_C_1))\n",
    "print(len(all_seq_count_C_1[19]))"
   ]
  },
  {
   "cell_type": "code",
   "execution_count": 26,
   "id": "41dea365",
   "metadata": {},
   "outputs": [],
   "source": [
    "top = pickle.load(open('/www/yang/csv/align/count_C_pickle/mafft_MSA/end_count_C_R_1.pkl','rb'))"
   ]
  },
  {
   "cell_type": "code",
   "execution_count": 27,
   "id": "f06d7a81",
   "metadata": {},
   "outputs": [
    {
     "data": {
      "text/plain": [
       "3"
      ]
     },
     "execution_count": 27,
     "metadata": {},
     "output_type": "execute_result"
    }
   ],
   "source": [
    "top[65][15]"
   ]
  },
  {
   "cell_type": "code",
   "execution_count": 22,
   "id": "71156eb0",
   "metadata": {},
   "outputs": [
    {
     "data": {
      "text/plain": [
       "3"
      ]
     },
     "execution_count": 22,
     "metadata": {},
     "output_type": "execute_result"
    }
   ],
   "source": [
    "all_seq_count_C_1[65][15]"
   ]
  },
  {
   "cell_type": "code",
   "execution_count": 19,
   "id": "a1a54ef8",
   "metadata": {},
   "outputs": [
    {
     "data": {
      "text/plain": [
       "array([[ 3,  3, 29, ...,  7, 13,  5],\n",
       "       [ 3,  2, 20, ...,  6, 11,  5],\n",
       "       [ 3,  3, 22, ...,  7,  8,  5],\n",
       "       ...,\n",
       "       [ 3,  3, 32, ...,  7, 11,  5],\n",
       "       [ 3,  4, 31, ...,  6, 12,  4],\n",
       "       [ 3,  3, 28, ...,  6,  6,  5]])"
      ]
     },
     "execution_count": 19,
     "metadata": {},
     "output_type": "execute_result"
    }
   ],
   "source": [
    "np.array(all_seq_count_C_1)"
   ]
  },
  {
   "cell_type": "code",
   "execution_count": 25,
   "id": "140f9bf1",
   "metadata": {},
   "outputs": [],
   "source": [
    "# 将R_1中72条序列的8个区域的无规则卷曲长度存储为pickle文件\n",
    "pickle.dump(np.array(all_seq_count_C_1),  open('/www/yang/csv/align/count_C_pickle/mafft_MSA/end_count_C_R_1.pkl', 'wb'))"
   ]
  },
  {
   "cell_type": "code",
   "execution_count": 43,
   "id": "42a81ea6",
   "metadata": {},
   "outputs": [
    {
     "data": {
      "text/plain": [
       "'-------------'"
      ]
     },
     "execution_count": 43,
     "metadata": {},
     "output_type": "execute_result"
    }
   ],
   "source": [
    "fasta3.fetch(fasta3.references[84],262,275)"
   ]
  },
  {
   "cell_type": "code",
   "execution_count": 39,
   "id": "be73b0be",
   "metadata": {
    "collapsed": true
   },
   "outputs": [
    {
     "name": "stdout",
     "output_type": "stream",
     "text": [
      "[['KPC', 'TPLCVT', 'CTKITMKSTNNTNTNTSWERGEE', 'SSVRDK', 'KLDIVPIDDSNSSSSNYS', 'INCNTSV', 'ACPKVTFEPIP', 'TPAG', 'NDKRFNG', 'QCTHGIKPVVSTQ', 'NGSLAEEE', 'KSANITDNAKT', 'PNNNTRKSIPIGPGRAFYTTGDIIGDIRQA', 'KFNDNTI', 'NQSSGGD', 'NTSQ', 'NSTWNGTEPTNSNKENG', 'NMWQEVGK', 'APPIRGQ', 'DGGNSSTE', 'GGGDM'], ['KPC', 'TPLCVS', 'CSDVNNSTNSSNGSTDNSNKETLERRQE', 'TELRDK', 'RLDIVPLDGSDNNSS', 'INCNTST', 'ACPKVSFDPIP', 'APAG', 'NDVTFNG', 'QCTHGIKPVVSTQ', 'NGSLAENE', 'RSENLTDNTKT', 'PGNNTRRSIHIGPGQAFFATGDIIGDIRQA', 'HWNNTTI', 'QNSSGGD', 'NTSN', 'NDTWPMSNNTESDD', 'NMWQRAGQ', 'APPIAGN', 'DGGGNSSTGNE', 'GGGNM'], ['KPC', 'TPLCVT', 'CRNANITDITTVDKPIVGD', 'TEINDR', 'RLDVVPLNKRNSSTNNNSNNESTM', 'INCNTSA', 'ACPKVSFEPIP', 'APAG', 'NSKTFNG', 'QCTHGIRPVVSTQ', 'NGSLAEEE', 'RSENVTNNAKT', 'PNNNTRESIRIGPGQSLYANGDIIGDIRQA', 'LFNKTEI', 'SPSSGGD', 'NTTG', 'NDSKWQHNNSEWEETSKRMNSPEA', 'NMWQGVGR', 'APPIRGV', 'DGGLNTSNNE', 'GGGDM'], ['KPC', 'TPLCVT', 'CSDIAKNNSSNGTNNNNITSDMKEE', 'TEIRDK', 'KLDIVSLVANTS', 'KNCNTST', 'ACPKVSFDPIP', 'APAG', 'NDKTFNG', 'QCTHGIKPVVSTQ', 'NGSLAEKE', 'RSANLSDNAKT', 'PSNNTRKSIRIGPGQMFFATNEIIGDIRQA', 'HFPNKTI', 'NSSSGGD', 'NTSK', 'NNTYNGTESNS', 'NMWQGVGR', 'APPIAGN', 'DGGTGKNDTENATE', 'EGGDM'], ['KPC', 'TPLCVT', 'CTDNINTTQTNSSIMEKGE', 'TNIRDK', 'KLDVISIKNDNS', 'IDCNTSV', 'ACPKVSFEPIP', 'APAG', 'NDKKFNG', 'QCTHGIRPVVSTQ', 'NGSLAEEE', 'RSENLTDNAKT', 'PNNNTRKSINIGPGRAFVATGAIIGDIRQA', 'KFGNKTI', 'NQSSGGD', 'NSTQ', 'NSTWSVNSTGNDTTEEP', 'NMWQEVGK', 'NPPIKGI', 'DGGNNNNTNTTE', 'EGGNM'], ['KPC', 'TPLCVT', 'CQYNVTNINSTSDMARE', 'TELRDR', 'RSDIVQMNSDNSS', 'INCNTSA', 'ACPKVTFEPIP', 'APAG', 'KDKEFNG', 'QCTHGIKPVVSTQ', 'NGSLAEEK', 'RSENITDNAKN', 'PNNNTRKSVRIGPGQTFYATGEIIGDIRQA', 'MIHSNKTI', 'ANSSGGD', 'YTSG', 'NYTFNDTSTNSTESKSND', 'NMWQRAGQ', 'APPIPGI', 'DGGNNNSNTNE', 'GGGDM'], ['QPC', 'TPLCVT', 'CTNANATNVNIPENLNLKNIGNITDD', 'TVLRDK', 'RLDIVEMEINNST', 'INCNTSV', 'ACPKISFDPIP', 'TPAG', 'NDKNFNG', 'QCTHGIKPVVSTQ', 'NGSLAEEE', 'RSENLTDNAKT', 'PSNNTRTSMTIGPGQVFYRTGEIIGNIRQA', 'HFNRTI', 'QPPSGGD', 'NTTK', 'NHTCEGNEGCNGTSSNG', 'NMWQGAGQ', 'APPIRGT', 'DGGKDNSTSGNE', 'GGGNI'], ['QPC', 'TPLCVT', 'CTNANATNVNIPENLNLKNIGNITDD', 'TVLRDK', 'RLDIVEMEINNST', 'INCNTSV', 'ACPKISFDPIP', 'TPAG', 'NDKNFNG', 'QCTHGIKPVVSTQ', 'NGSLAEEE', 'RSENLTDNAKT', 'PSNNTRTSMTIGPGQVFYRTGEIIGNIRQA', 'HFNRTI', 'QPPSGGD', 'NTTK', 'NHTCEGNEGCNGTSSNG', 'NMWQGAGQ', 'APPIRGT', 'DGGKDNSTSGNE', 'GGGNI'], ['KPC', 'TPLCVT', 'CTSATVTNYTKVNDTSDIIGNITDD', 'TELRDK', 'KLDIVPIDDSSNNGSSNFS', 'INCNTSV', 'ACPKVSFDPIP', 'TPAG', 'NDKKFNG', 'QCTHGIKPVVSTQ', 'NGSLAEEG', 'RSENLTNNAKT', 'PSNNTRTGIHIGPGQVFYKTGDIIGDIRKA', 'HFNNKTI', 'KPSSGGD', 'NTTK', 'NSTWGGNKNETRDNG', 'NMWQGVGQ', 'APPIKGV', 'DGGNDSTENNE', 'GGGNI'], ['KPC', 'TPLCVT', 'CTSATVTNSTNVTDHSDIGKITDE', 'TELRDK', 'RLDIVPLDDSSKNSSSNYS', 'INCNTSV', 'ACPKVSFDPIP', 'TPAG', 'NDKKFNG', 'QCTHGIKPVVSTQ', 'NGSLAEKD', 'RSENLTNNAKT', 'PSNNTRTGIHIGPGQVFYKTGDIIGDIRKA', 'HFNKTI', 'KPSSGGD', 'NTTK', 'NSTWRGNKNETRDNG', 'NMWQGVGQ', 'APPIKGV', 'DGGLNDTKDNE', 'GGGNI'], ['KPC', 'TPLCVT', 'CTNVTLNHTHNEEE', 'TEIRDK', 'KLDIVPLEGNNSSREG', 'INCNTSV', 'ACPKVTFEPIP', 'APAG', 'NNKTFNG', 'QCTHGIKPVVSTQ', 'NGSLAEN', 'RSENLTNNAKT', 'PSNNTRTSIRIGPGQTFYATGEITGDIRQA', 'HFPNKTI', 'TQSSGGD', 'NTST', 'NSTYKPNDTDIESTSETNS', 'NMWQEVGR', 'APPIKGN', 'DGGSKPNSTTE', 'GGGNM'], ['KPC', 'TPLCVT', 'CTDWRNNNTNTTANATDAPDTTIKRMEQGE', 'TDMRDK', 'ALDVVQIANTNNTNTNNT', 'TSCNTSI', 'ACPKISFQPIP', 'TPAG', 'NDKNFNG', 'QCTHGIRPVVSTQ', 'NGSLAEEE', 'RSENFSDNAKI', 'PGNNTRKGIHIGPGRAFYTTGDIIGDTRQA', 'QFKNKTV', 'KPSSGGD', 'NTTP', 'NSTWDNNTWDTTQSNATVTD', 'NLWQEVGK', 'APPIKGN', 'DGGNDNSTNGNE', 'GGGNM'], ['KPC', 'PLCVT', 'CTTAVLNGTIDNKTIAQNSKITDE', 'TEIRDK', 'KLDIVPIENSNKSSS', 'INCNTSV', 'ACPKISFDPIP', 'TPAG', 'NDKKFNG', 'QCTHGIKPVVSTQ', 'NGSLAEEE', 'RSENLTDNAKT', 'PSNNTRTSITIGPGQVFYRTGDIIGNIRKA', 'HFPNKTI', 'QPPSGGD', 'NTTQ', 'NTTFNTTCRENETTCGGNGTRGNNG', 'NMWQGVGQ', 'APPISGT', 'DGGSENNETE', 'GGGNI'], ['KPC', 'TPLCVT', 'CRDVNANYTYIYNDTMKEE', 'TEIRDK', 'RLDIVPLDEKSNSSS', 'IQCNTST', 'ACPKVSFNPIP', 'APAG', 'NNKTFNG', 'QCTHGIKPVVSTQ', 'NGSLAEEE', 'RSENITNNVKT', 'PSNNTRKSMRIGPGQAFYATGDIIGDIRQA', 'HFPGNKI', 'QPSSGGD', 'NTSG', 'LFNKSRPFTKNG', 'NMWQGVGR', 'APPIAGN', 'DGGGEGNNTE', 'GGGDM'], ['KPC', 'TPLCVT', 'CTDYLGNSTNSSIIEKGV', 'TNMNDK', 'TFDLRLIDEDNDNT', 'TSCNTSV', 'ACPKVTFTPIP', 'APAG', 'NNKTFSG', 'QCTHGIKPVVSTQ', 'NGSLAEEE', 'RSDNFTNNAKT', 'PNNNTRRSIGLGPGRTIYATGQIIGDIRQA', 'QFGKNKTI', 'KPSSGGD', 'NTTQ', 'NSTWNTGELNDTNGENA', 'NMWQEVGR', 'APPIKGN', 'DGGGNNNDTNGNE', 'GGGDM'], ['KPC', 'TPLCVT', 'CTDYLENTDYLGNSTNSSRNSTNSSRIEERV', 'TNMNDK', 'TLDLRLIDEDNDNT', 'TSCNTSV', 'ACPKVTFTPIP', 'APAG', 'NNKTFSG', 'QCTHGIKPVVSTQ', 'NGSLAEEE', 'RSDNFTNNAKT', 'PNNNTRRSIGLGPGRTIYATGQIIGNIRQA', 'QFGKNKTI', 'KPSSGGD', 'NTTQ', 'NSTWRNTGESNNTEGE', 'NMWQEVGR', 'APPIKGN', 'DGGGNNNDTNGNE', 'GGGDM'], ['KPC', 'TPLCVT', 'CTDYLGNSTNSSKNSTNSSRIEERV', 'TNMNDK', 'TLDLRLIDEDNDNT', 'TSCNTSV', 'ACPKVTFTPIP', 'APAG', 'NNKTFSG', 'QCTHGIKPVVSTQ', 'NGSLAEEE', 'RSDNFTNNAKT', 'PNNNTRRSIGLGPGRTIYATGQIIGDIRQA', 'QFGKNKTI', 'KPSSGGD', 'NTTQ', 'NSTWNTGELNDTNGKNA', 'NMWQEVGR', 'APPIKGN', 'DGGGNNNDTNGNE', 'GGGDM'], ['KPC', 'TPLCVT', 'CTDYLGNSTNSSRNSTNSSRIEERV', 'TNMNDK', 'TFDLRLIDEDNDNT', 'TSCNTSV', 'ACPKVTFTPIP', 'APAG', 'NNKTFSG', 'QCTHGIKPVVSTQ', 'NGSLAEEE', 'RSDNFTNNAKT', 'PNNNTRRSIGLGPGRAIYATGQIIGKIRQA', 'QFGKNKI', 'KPSSGGD', 'NTTQ', 'NSTWNTGELNDTNGENA', 'NMWQEVGR', 'APPIKGN', 'DGGGNNNDTNGNE', 'GGGNM'], ['KPC', 'TPLCVT', 'CTDYLENSTNKNSTNSSIIEERV', 'TNMNDK', 'TLDLRLIDEDNDNT', 'TSCNTSV', 'ACPKVTFTPIP', 'APAG', 'NNKTFSG', 'QCTHGIKPVVSTQ', 'NGSLAEEE', 'RSDNFTNNAKT', 'PNNNTRRSIGLGPGRAIYATGQIIGKIRQA', 'QFGKNKTI', 'KPSSGGD', 'NTTQ', 'NSTWRNTGESNNTKGENE', 'NMWQEVGK', 'APPIKGN', 'DGGGNNNDTNGNE', 'GGGDM'], ['KPC', 'TPLCVT', 'CTANITITNATTRTENTTKENLIGNITDE', 'TELRDR', 'KLDIVPINNEANSS', 'INCNTSV', 'ACPKVSFDPIP', 'TPAG', 'NDKNFNG', 'QCTHGIKPVVSTQ', 'NGSLAEDE', 'RSENLTDNSKN', 'PSNNTVKSIRIGPGQTFYRTGDIIGDIRQA', 'HFNNKTI', 'QQPPPGGD', 'NTTE', 'NNTCVNETINNGTEGWCKG', 'NLWQEVGQ', 'APPVSGQ', 'DGGNGKNGTLNNE', 'GGGNM'], ['KPC', 'TPLCVT', 'CTEAKLSQTANNQTGNITDGGDIGKITEE', 'TELRDK', 'RLDIVQINSNDNNSR', 'INCNTSV', 'ACPKVSFDPIP', 'TPAG', 'NDKKFNG', 'QCTHGIKPVVSTQ', 'NGSLAEED', 'RSENLTNNAKN', 'PSNNTRTSVSIGPGQVFYKTGDIIGDIRKA', 'YFNKTI', 'RPPSGGD', 'NTTK', 'NSTWTENGTEERFND', 'NMWQRAGQ', 'NPPIKGK', 'DGGANNTNNNE', 'GGGNI'], ['KPC', 'TPLCVT', 'CKNSTENITDSRNITDNGE', 'TEIKDK', 'KLDIVPLHEDNSS', 'INCNTSA', 'ACPKVSFDPIP', 'APAG', 'NNKTFNG', 'QCTHGIKPVVSTQ', 'NGSLAEEE', 'RSKDLTDNAKI', 'PGNNTRKSIRIGPGQTFYAPNGIIGNIRKA', 'LFPNKII', 'NSSSGGD', 'DTSG', 'NGTYNPNDTTSNSSSLNNI', 'NMWQGVGK', 'APPIAGN', 'DGGTTNDTEE', 'GGGDM'], ['KPC', 'TPLCVT', 'CKNSTENITDSRNVTDNGD', 'TEIKDK', 'KLDIVPLHEDNSS', 'INCNTSA', 'ACPKVSFDPIP', 'APAG', 'NNKTFNG', 'QCTHGIKPVVSTQ', 'NGSLAEEE', 'RSKDLTDNAKI', 'PGNNTRKSIRIGPGQTFYAPNGIIGNIRKA', 'LFPNKII', 'NSSSGGD', 'DTSG', 'NGTYNPNDTTSNSSSLNNI', 'NMWQGVGK', 'APPIAGN', 'DGGTTNDTEE', 'GGGDM'], ['KPC', 'TPLCVT', 'CKNSTENITDSRNITDNGE', 'TEIKDK', 'KLDIVPLHEDNSS', 'INCNTSA', 'ACPKVSFDPIP', 'APAG', 'NNKTFNG', 'QCTHGIKPVVSTQ', 'NGSLAEEE', 'RSKDLTDNAKI', 'PGNNTRKSIRIGPGQTFYAPNGIIGNIRKA', 'LFPNKII', 'NSSSGGD', 'DTSG', 'NGTYNPNDTTSNSSSLNNI', 'NMWQGVGK', 'APPIAGN', 'DGGTTNDTEE', 'GGGDM'], ['KPC', 'TPLCVT', 'CKNSTENITDSRNVTDNGE', 'TEIKDK', 'KLDIVPLHEDNSS', 'INCNTSA', 'ACPKVSFDPIP', 'APAG', 'NNKTFNG', 'QCTHGIKPVVSTQ', 'NGSLAEKE', 'RSKDLTDNAKI', 'PGNNTRKSIRIGPGQTFYAPNGIIGNIRKA', 'LFSNKII', 'NSSSGGD', 'DTSG', 'NSTYNPNDTTGNSSSLNNI', 'NMWQGVGK', 'APPIAGN', 'DGGNTSDPEE', 'GGGDM'], ['KPC', 'TPLCVT', 'CKYNITVNNTIVNKNDTD', 'TEIKDK', 'KLDIVPLNETDEERRGS', 'INCNTSA', 'ACPKVSFDPIP', 'APAG', 'NNKTFNG', 'QCTHGIKPVVSTQ', 'NGSLAEEE', 'RSKNLTDNAKI', 'PGNNTRKSIRIGPGQTFYAANRIIGDIRQA', 'LFPNKTI', 'NTSSGGD', 'DTSG', 'NGTYGTYNPNGTHNPNGNNTRSNS', 'NRWQEVGK', 'APPIEGN', 'DGGNTNGENKSDIE', 'GGGDM'], ['KPC', 'TPLCVT', 'CTDYLGNATNTTSSSGGAMEGGE', 'TSMRDK', 'KLDVVSIDNDNAST', 'ISCNTSV', 'ACPKISFEPIP', 'APAG', 'NDKKFNG', 'QCTHGIRPVVSTQ', 'NGSLAEEE', 'RSENIKDNAKI', 'PNNNTRKSIPIGPGRAFYTTGAIIGDIRQA', 'HFKNETI', 'NQSSGGD', 'NSTQ', 'NSTWTWNDTEVVNNTEKNI', 'NMWQEVGK', 'APPIKGQ', 'DGGSSTNGTTE', 'GGGDM'], ['KPC', 'TPLCVT', 'CTKAIATNNTATNNSSNGNHTNYNGSQIIEG', 'TELRDK', 'RLDMVPLENETNRNYS', 'INCNTSV', 'ACPKVSFDPIP', 'APAG', 'NNETFNG', 'QCTHGIKPVVSTQ', 'NGSLAEGE', 'RSENLTNNAKT', 'PNNNTRKGIGIGPGQTLYATGEIIGDIRQA', 'YFPNKTI', 'TSHSGGD', 'NTSG', 'NGTYNSTRYNSTEANS', 'NMWQEVGR', 'APPIAGN', 'DGGQGNETDNKTE', 'GGGDM'], ['KPC', 'TPLCVT', 'CGNANTSNGSDIEE', 'TELRDK', 'KLDIVPLKDNSS', 'INCNTSV', 'ACPKVSFDPIP', 'APAG', 'NDKTFNG', 'QCTHGIKPVVSTQ', 'NGSLAEGE', 'RSENITNDVKT', 'PNNNTRKGIGIGPGQTLYATGKIIGNIRQA', 'YFPNKTI', 'TSHAGGD', 'NTSG', 'NGTYNGTADNETE', 'NMWQEVGR', 'APPIEGY', 'DGGYNIKNDTE', 'GGGDM'], ['KPC', 'TPLCVT', 'CSNISRNVSNPNVTNDSN', 'SEIRDK', 'KLDIVEINKGNSSSNSSSN', 'INCNTSA', 'ACPKVTFEPIP', 'APAG', 'NNKTFNG', 'QCTHGIKPVVSTQ', 'NGSLAEE', 'RSENLTNNAKT', 'PNNNTRKSIRIGPGQSFFATGAIIGDIRQA', 'YFGENRTI', 'ANSSGGD', 'DTSA', 'NSTWNNSTRNSMEWLND', 'NMWQRAGQ', 'APPIQGT', 'DGGKDTTNE', 'GGGDM'], ['KSC', 'TPLCVT', 'CFDANVTSTSKNRTMDNTTLEENGE', 'GSIRDK', 'KLDVVSINNDTS', 'LSCNTSV', 'ACPKTSFEPIP', 'APAG', 'NDKKFNG', 'QCTHGIRPVVSTQ', 'NGSLAEEE', 'RSENFTNNAKT', 'PNNNTRRSIHLGPGRVFYGSDIIGDIRKA', 'QFGGNKTI', 'KQPSGGD', 'NTTR', 'NSTWYENGSVTSIITE', 'NMWQEVGK', 'APPIRGS', 'DGGNVNNTQNE', 'GGGDM'], ['KPC', 'TPLCVT', 'CFDANVTSTSKNRTMDNTTLEENGE', 'GSIRDK', 'KLDVVSINNDTS', 'LSCNTSV', 'ACPKTSFEPIP', 'APAG', 'NDKKFNG', 'QCTHGIRPVVSTQ', 'NGSLAEEE', 'RSENFTNNAKT', 'PNNNTRRSIHLGPGRVFYGSDIIGDIRKA', 'QFGENKTI', 'KQPSGGD', 'NTTR', 'NSTWYKNGSVISIITE', 'NMWQEVGK', 'APPIKGS', 'DGGNDNNTQNE', 'GGGDM'], ['KPC', 'TPLCVT', 'CFDANVTSTSKNRTMDNTTLEENGE', 'GSIRDK', 'KLDVVSINNDTS', 'LSCNTSV', 'ACPKTSFEPIP', 'APAG', 'NDKKFNG', 'QCTHGIRPVVSTQ', 'NGSLAEEE', 'RSENFTNNAKT', 'PNNNTRRSIHLGPGRVFYGSDIIGDIRKA', 'QFGENKTI', 'KQPSGGD', 'NTTR', 'NSTWYKNGSVTSGITE', 'NMWQEVGK', 'APPIKGS', 'DGGSDNNTQNE', 'GGGDM'], ['KPC', 'TPLCVT', 'CVDANVTSTSKNRTMDNTTLEENGE', 'GSIRDK', 'KLDVVSINNDTS', 'LSCNTSV', 'ACPKTSFEPIP', 'APAG', 'NDKKFNG', 'QCTHGIRPVVSTQ', 'NGSLAEEE', 'RSENFTNNAKT', 'PNNNTRRSIHLGPGRVFYGSDIIGDIRKA', 'QFGENKTI', 'KQPSGGD', 'NTTK', 'NSTWNENGSVTSITE', 'NMWQEVGK', 'APPIRGS', 'DGGNVDNNGTKNETE', 'GGGDM'], ['KPC', 'TPLCVT', 'CFDANVTSTSKNRTMDNTTLEENGE', 'GSIRDK', 'KLDVVSINNDTS', 'PSCNTSV', 'ACPKTSFEPIP', 'APAG', 'NDKKFNG', 'QCTHGIRPVVSTQ', 'NGSLAEEE', 'RSENFTNNAKT', 'PNNNTRRSIHLGPGRVFYGSDIIGDIRKA', 'QFGENKTI', 'KQPSGGD', 'NTTR', 'NSTWYTNGSVTSIITE', 'NMWQEVGK', 'APPIRGS', 'DGGNANNTQNE', 'GGGDM'], ['KPC', 'TPLCVT', 'CFDANVTSTSKNRTMDNTTLEENGE', 'GSIRDK', 'KLDVVSINNDTS', 'LSCNTSV', 'ACPKTSFEPIP', 'APAG', 'NDKKFNG', 'QCTHGIRPVVSTQ', 'NGSLAEEE', 'RSENFTNNAKT', 'PNNNTRRSIHLGPGRVFYGSDIIGDIRKA', 'QFGENKTI', 'KQPSGGD', 'NTTR', 'NSTWYKNGSVTSVITE', 'NMWQEVGK', 'APPIKGS', 'DGGDGGNITNGTE', 'GGGDM'], ['KPC', 'TPLCVT', 'CFDANVTSTSKNRTMDNTTLEENGE', 'GSIRDK', 'KLDVVSINNDTS', 'LSCNTSV', 'ACPKTSFEPIP', 'APAG', 'NDKKSNG', 'QCTHGIRPVVSTQ', 'NGSLAEEE', 'RSENFTNNAKT', 'SNNNTRRSIHLGPGRVFYGSDIIGDIRKA', 'QFGENKTI', 'KQPSGGD', 'NTTK', 'NSTWNENGSVTSITE', 'NMWQEVGK', 'APPIRGS', 'DGGNGNNTQNE', 'GGGDM'], ['KPC', 'TPLCVT', 'CFDANVTSTSKNRTMDNTTLEENGE', 'GSIRDK', 'KLDVVSINNDTS', 'LSCNTSV', 'ACPKTSFEPIP', 'APAG', 'NDKKFNG', 'QCTHGIRPVVSTQ', 'NGSLAEEE', 'RSENFTNNAKT', 'PNNNTRRSIHLGPGRVFYGSDIIGDIRKA', 'QFGENKTI', 'KQPSGGD', 'NTTK', 'NSTWNENGSVTSITE', 'NMWQEVGK', 'APPIRGS', 'DGGNVDNNGTKNETE', 'GGGDM'], ['KPC', 'TPLCVT', 'CFDANVTSTSKNRTMDNTTLEENGE', 'GSIRDK', 'KLDVVSINNDTS', 'LSCNTSV', 'ACPKTSFEPIP', 'APAG', 'NDKKFNG', 'QCTHGIRPVVSTQ', 'NGSLAEEE', 'RSENFTNNAKT', 'PNNNTRRSIHLGPGRVFYGSDIIGDIRKA', 'QFGENKTI', 'KQPSGGD', 'NTTR', 'NSTWNTNGSVTSIITE', 'NMWQEVGK', 'APPIRGS', 'DGGNVDNNGTKNETE', 'GGGDM'], ['KPC', 'TPLCVT', 'CVDANVTSTSKNRTMDNTTLEENGE', 'GSIRDK', 'KLDVVSINNDTS', 'LSCNTSV', 'ACPKTSFEPIP', 'APAG', 'NDKKFNG', 'QCTHGIRPVVSTQ', 'NGSLAEEE', 'RSENFTNNAKT', 'PNNNTRRSIHLGPGRVFYGSDIIGDIRKA', 'QFGENKTI', 'KQPSGGD', 'NTTR', 'NSTWYTNGSVTSIITE', 'NMWQEVGK', 'APPIRGS', 'DGGNVDNNGTKNETE', 'GGGDM'], ['KPC', 'TPLCVT', 'CFDANVTSTSKNRTMDNTTLEENGE', 'GSIRDK', 'KLDVVSINNDTS', 'LSCNTSV', 'ACPKTSFEPIP', 'APAG', 'NDKKFNG', 'QCTHGIRPVVSTQ', 'NGSLAEEE', 'RSENFTNNAKT', 'PNNNTRRSIHLGPGRVFYGSDIIGDIRKA', 'QFGGNKTI', 'KQPSGGD', 'NTTR', 'NSTWYENGSVTSIITE', 'NMWQEVGK', 'APPIRGS', 'DGGNVNNTQNE', 'GGGDM'], ['KPC', 'TPLCVT', 'CFDANVTSTSKNRTMDNTTLEENGE', 'GSIRDK', 'KLDVVSINNDTS', 'LSCNTSV', 'ACPKTSFEPIP', 'APAG', 'NDKKFNG', 'QCTHGIRPVVSTQ', 'NGSLAEEE', 'RSENFTNNAKT', 'PNNNTRRSIHLGPGRVFYGSDIIGDIRKA', 'QFGENKTI', 'KQPSGGD', 'NTTR', 'NSTWNANGSVTSIITE', 'NMWQEVGK', 'APPIRGS', 'DGGNDNNTQNE', 'GGGDM'], ['KPC', 'TPLCVT', 'CSHNVIANATTNVTYTIYDRNITEE', 'TEIRDK', 'KLDIVPLKENNS', 'INCNTST', 'ACPKVSFDPIP', 'APAG', 'NNKTFNG', 'QCTHGIKPVISTQ', 'NGSLTEGKE', 'KSENLTDNAKT', 'PGNNTRKSVRIGPGQAFYTTGEIIGDIRQA', 'YFLNKTI', 'NSSSGGD', 'NTSK', 'NGTYNGTMYNGTDNNS', 'NMWQEVGQ', 'APPIAGN', 'DGGNTNATEE', 'GGGDM'], ['KPC', 'TPLCVT', 'CTNVNTTNVNTNDTRSNNSMGEE', 'AEVTDK', 'SLDIVPLDLDEKSGNRSNNGS', 'ISCNTST', 'ACPKVNFDPIP', 'APAG', 'NNKTYSG', 'QCTHGIKPVVSTQ', 'NGSLAEEG', 'RSKNLTNNANT', 'PSNNTRKSIRIGPGQAFYATGDIIGDIRQA', 'HFPNRTI', 'KPSSGGD', 'NTSN', 'TYNGTYNGTYNGTKNS', 'NMWQEVGR', 'APPIAGN', 'DGGNTTGGNETEEKE', 'GGGNM'], ['KPC', 'TPLCVT', 'CTNVTRNDNITHNDTADAE', 'TEIRDK', 'RVDLVSLDNSNSNDNSNSS', 'INCNTST', 'ACPKVTFDPIP', 'APAG', 'NNKTFNG', 'QCTHGIKPVVSTQ', 'NGSLAERE', 'RSENLTNNAKT', 'PANNTRKSTRIGPGQVFYTNDIIGDIRRA', 'YFPKNI', 'APHSGGD', 'NTSN', 'NSTYINSTNIT', 'NMWQRVGQ', 'APPIAGN', 'DGGKNNTNE', 'GGGDM'], ['KPC', 'TPLCVT', 'CTNATATNATATSQNSTDGSNKTVNTDTG', 'TDLKDK', 'KLDVVQIDDKNTNGTNT', 'INCNTSA', 'ACPKITFEPIP', 'APAG', 'NNKTFNG', 'QCTHGIRPVVSTQ', 'NGSLAEEE', 'RSENLTNNAKI', 'PSNNTRRSVHIGPGQAIYSTGQIIGDIRKA', 'LFNTTKI', 'NASSGGD', 'NTAG', 'NSTWNRTNSEWINSKWTNKTEDV', 'NMWQGVGK', 'APPVSGI', 'DGGGADNNRQNE', 'GGGDM'], ['KPC', 'TPLCVT', 'CIDYYGNTTNSNNSSETMMEKGE', 'TRLKDK', 'KYDIVPIDNRVGNDTSNAT', 'TSCNTSV', 'ACPKVSFEPIP', 'APAG', 'NDKKFNG', 'QCTHGIKPVVSTQ', 'NGSLAEEE', 'RSENFTDNAKT', 'PNNNTRKSIHMGPGKVFYTTGEIIGDIRQA', 'KFNKTI', 'KQSSGGD', 'NTTQ', 'NSTWFNNATLNVNSNVTEGSE', 'NMWQEVGK', 'APPIQGQ', 'DGGGSNSSNTSEE', 'GGGNM'], ['KPC', 'TPLCVT', 'CTMYNTTNNANKTTLSND', 'TEVRDK', 'RLDIVPLNETNNRPLNDSRTNNSTYS', 'INCNTSV', 'ACPKVSFEPIP', 'APAG', 'NNKAFNG', 'QCTHGIKPVVSTQ', 'NGSLAEED', 'RSENLTNNAKT', 'PSNNTRKSMRIGPGQTFYATKDIIGDIRQA', 'LFNNKTI', 'KPHSGGD', 'NTSK', 'NSTYMPNSTSDSTHMPNG', 'NMWQEVGR', 'APPIEGN', 'DGGKNETTE', 'GGGDM'], ['KPC', 'TPLCVT', 'CTIYNTTISNN', 'TEVRDR', 'RLDIVQLSENDNS', 'INCNTSV', 'ACPKVSFEPIP', 'APAG', 'NDKEFNG', 'QCTHGIKPVVSTQ', 'NGSLAEGE', 'RSENLTNNAKT', 'PSNNTRKSMRIGPGQTFYATGEIIGDIRKA', 'LFSDKTI', 'EPHSGGD', 'NTSN', 'NSNSTSNSTHMPNG', 'NMWQEVGR', 'APPIEGS', 'DGGRETNETNGTE', 'GGGDM'], ['KPC', 'TPLCVT', 'CTNSIYNNTMGDSTNNKTMGEE', 'TELKDK', 'RSDIAPLDGGNN', 'INCNTSA', 'ACPKVSFEPIP', 'APAG', 'NNKTFNG', 'QCTHGIKPVVSTQ', 'NGSLAEEE', 'RSENLTDNVKT', 'PGNNTRKSIRIGPGQTFYATEGIIGDIRQA', 'HFPDKII', 'TNSSGGD', 'NTTN', 'NSAYHPNFTNPNNTAEEGND', 'NMWQEVGR', 'APPIEGN', 'DGGKTNETNKTE', 'GGGNI'], ['KPC', 'TPLCVT', 'CNHDILNITIDNPRVFENTTLINRTNE', 'TELKDK', 'TLDIVQMANN', 'ISCNTST', 'ACPKVTFDPIP', 'APAG', 'KNETFNG', 'QCTHGIKPVVSTQ', 'NGSLAEKE', 'RSENLTNNAKT', 'PGNNTRRSVRIGPGQTFYATGAIIGDIRQA', 'HFPTKTI', 'APSSGGD', 'NTSK', 'NGTYRSNSTEKNSNA', 'NMWQGVGR', 'APPIAGN', 'DGGPNKNNTE', 'GGGDM'], ['KPC', 'TPLCVT', 'CHNVNATNATITNNASITNDMEGE', 'TAQRDK', 'RLDIVQMNKDNSSNNRNNT', 'INCNTSA', 'ACPKVSFEPIP', 'APAG', 'RDEMFSG', 'QCTHGIKPVVSTQ', 'NGSLAEKE', 'RSENITNNAKT', 'PNNNTRKSVAIGPGQAFYATGDIIGNIRQA', 'EYFKYKNI', 'TNSSGGD', 'NTTG', 'NSTWNANNWNTTSTGSND', 'NMWQRVGQ', 'APPIKGV', 'DGGNDSNE', 'GGGDM'], ['KPC', 'TPLCVT', 'CSNNGTTANITDSGIE', 'TEVRDR', 'KLDVVPLDTDTNTS', 'INCNTSA', 'ACPKVTFEPIP', 'APAG', 'NDKTFNG', 'QCTHGIKPVVSTQ', 'NGSLAEEE', 'RSENLTNNAKI', 'PYNNTRQGVHIGPGRAYYTTNIIGNIRQA', 'LVNKTTI', 'KPPSGGD', 'NTSG', 'NSTWNNSMWNNMLTWNATGND', 'NMWQGVGK', 'APPIEGL', 'DGGVNNDSQSE', 'GGGDM'], ['KPC', 'TPLCVT', 'CTNATYTNSDSKNSTSNSSLEDSGKG', 'TSIDKK', 'KLDVMNIGNG', 'LNCNTSV', 'ACPKMSFEPIP', 'TPAG', 'NDNKFNG', 'QCTHGIKPVVSTQ', 'NGSLAEGGE', 'RSENLTDNAKT', 'PNNNTRKSIHMGPGAAFYARGEVIGDIRQA', 'QFNKTI', 'NQSSGGD', 'NTTQ', 'NSTWNENDTTWNNTAGSNNNE', 'NRWQEVGK', 'APPISGP', 'DGGDNNNTIE', 'GGGDM'], ['KPC', 'TPLCVT', 'CNNITNANGTVSNTTND', 'AGIRDK', 'KLDIVSIDDDKNKTGNNT', 'ISCNTSV', 'ACPKISFEPIP', 'APAG', 'NQEKFNG', 'QCTHGIRPVVSTQ', 'NGSLAENG', 'RSENFTNNAKT', 'PSNNTRKSIHIGPGRAFYATGDIIGDIRQA', 'QFKNNIT', 'KPASGGD', 'NSSQ', 'NSIWYANDTWNPELNNGTNND', 'NRWQEVGK', 'APPIRGN', 'DGGNNNTANE', 'GGGDM'], ['KPC', 'TPLCVT', 'CNNITNANGTVSNTTND', 'AGIRDK', 'KLDIVSIDDDKNKTSNNT', 'ISCNTSV', 'ACPKISFEPIP', 'APAG', 'NQEKFNG', 'QCTHGIRPVVSTQ', 'NGSLAENG', 'RSENFTNNAKT', 'PSNNTRKSIHIGPGRAFYATGDIIGDIRQA', 'QFKNNIT', 'KPASGGD', 'NSSQ', 'NSIWYANDTQNPELNNGTNND', 'NRWQEVGK', 'APPIRGK', 'DGGNNNTANE', 'GGGDM'], ['KPC', 'TPLCVT', 'CNNITNANGTVSNTTND', 'TGIRDK', 'KLDIVSIDDDKNKTSNNT', 'ISCNTSV', 'ACPKISFEPIP', 'APAG', 'NQEKFNG', 'QCTHGIRPVVSTQ', 'NGSLAEKG', 'RSENFTNNAKT', 'PSNNTRKSIHIGPGRAFYATGDIIGDIRQA', 'QFKNNIT', 'KPASGGD', 'NSSQ', 'NSIWYANGTRDPELNNGTNND', 'NRWQEVGK', 'APPIRGN', 'DGGNNNTANE', 'GGGDM'], ['KPC', 'TPLCVT', 'CNNITNANGTVSNTTND', 'AGIRDK', 'KLDIVSIDDDKNKTSNNT', 'ISCNTSV', 'ACPKISFEPIP', 'APAG', 'NQEKFNG', 'QCTHGIRPVVSTQ', 'NGSLAENG', 'RSENFTNNAKT', 'PSNNTRKSIHIGPGRAFYATGDIIGDIRQA', 'QFKNNIT', 'KPASGGD', 'NSSQ', 'NSIWYANDTRNPELNNGTNND', 'NRWQEVGK', 'APPIRGN', 'DGGNNNTANE', 'GGGDM'], ['KPC', 'TPLCVT', 'CNNITNANGTVSNTTSD', 'AGIRDK', 'KLDIVSIDDDKNKTNNNT', 'ISCNTSV', 'ACPKISFEPIP', 'APAG', 'NQEKFNG', 'QCTHGIRPVVSTQ', 'NGSLAENG', 'RSENFTNNAKT', 'PSNNTRKSIHIGPGRAFYATGDIIGDIRQA', 'QFKNNIT', 'KPASGGD', 'NSSQ', 'NSIWYANGTQNPELNNGTNND', 'NRWQEVGK', 'APPIRGH', 'DGGNNNTANE', 'GGGDM'], ['KPC', 'TPLCVT', 'CNNITNANGTVSNTTND', 'AGIRDK', 'TLDIVSIDDDKNKTSNNT', 'ISCNTSV', 'ACPKISFEPIP', 'APAG', 'NQEKFNG', 'QCTHGIRPVVSTQ', 'NGSLAENG', 'RSENFTNNAKT', 'PSNNTRKSIHIGPGRAFYATGDIIGDIRQA', 'QFKNNIT', 'KPASGGD', 'NSSQ', 'NSSWYADGTRDPELNNGTNND', 'NRWQEVGK', 'APPIRGN', 'DGGNNNTTNE', 'GGGDM'], ['KPC', 'TPLCVT', 'CNNITNANGTVSNTTND', 'AGIRDK', 'TLDIVSIDDDKNKTSNNT', 'ISCNTSV', 'ACPKISFEPIP', 'APAG', 'NQEKFNG', 'QCTHGIRPVVSTQ', 'NGSLAENG', 'RSENFTNNAKT', 'PSNNTRKSIHIGPGRAFYATGDIIGDIRQA', 'QFKNNIT', 'KPASGGD', 'NSSQ', 'NSSWYADGTRDPELNNGTNND', 'NRWQEVGK', 'APPIRGN', 'DGGNNNSTNE', 'GGGDM'], ['KPC', 'TPLCVT', 'CNNITNANGTVSNTTND', 'AGIRDK', 'TLDIVSIDDDKNKTSNNT', 'ISCNTSV', 'ACPKISFEPIP', 'APAG', 'NQEKFNG', 'QCTHGIRPVVSTQ', 'NGSLAENG', 'RSENFTNNAKT', 'PNNNTRKSIHIGPGRAFYATGDIIGDIRQA', 'QFKNNVT', 'KPASGGD', 'NSSQ', 'NSIWDANDTRNPELNNGTNND', 'NRWQEVGK', 'APPIRGN', 'DGGNNNTANE', 'GGGDM'], ['KPC', 'TPLCVT', 'CNNITNANGTVSNTTND', 'AGIRDK', 'TLDIVSIDDDKNKTSNNT', 'ISCNTSV', 'ACPKISFEPIP', 'APAG', 'NQEKFNG', 'QCTHGIRPVVSTQ', 'NGSLAENG', 'RSENFTNNAKT', 'PSNNTRKSIHIGPGRAFYATGGIIGDIRQA', 'QFKNNVT', 'KPASGGD', 'NSSQ', 'NSIWDANDTRNPELNNGTNND', 'NRWQEVGK', 'APPIRGN', 'DGGNNNTANE', 'GGGDM'], ['KPC', 'TPLCVT', 'CNNITNANGTVSNTTND', 'AGIRDK', 'KLDIVSIDDDKNETSNNT', 'ISCNTSV', 'ACPKISFEPIP', 'APAG', 'NQEKFNG', 'QCTHGIRPVVSTQ', 'NGSLAENG', 'RSENFTNNAKT', 'PSNNTRKSIHIGPGRAFYATGGIIGDIRQA', 'QFKNNIT', 'KPASGGD', 'NSSQ', 'NSSWYANGTRNPELNNGTNND', 'NRWQEVGK', 'APPIRGN', 'DGGNNNTVNE', 'GGGDM'], ['KPC', 'TPLCVT', 'CNNITNANGTVSNTTND', 'AGIRDK', 'KLDIVSIDDDKNKTSNNT', 'ISCNTSV', 'ACPKISFEPIP', 'APAG', 'NQEKFNG', 'QCTHGIRPVVSTQ', 'NGSLAENG', 'RSENFTNNAKT', 'PSNNTRKSIHIGPGRAFYATGGIIGDIRQA', 'QFKNNVT', 'KPASGGD', 'NSSQ', 'NSIWDANDTRNPELNNGTNND', 'NRWQEVGK', 'APPIRGN', 'DGGNNNTANE', 'GGGDM'], ['KPC', 'TPLCVT', 'CNNITNANGTVSNTTND', 'AGIRDK', 'TLDIVSIDDDKNKTSNNT', 'ISCNTSV', 'ACPKISFEPIP', 'APAG', 'NQEKFNG', 'QCTHGIRPVVSTQ', 'NGSLAENG', 'RSENFTNNAKT', 'PSNNTRKSIHIGPGRAFYATGNIIGDIRQA', 'QFKNNVT', 'KPASGGD', 'NSSQ', 'NSIWDANDTRNPELNNGTNND', 'NRWQEVGK', 'APPIRGN', 'DGGNNNTANE', 'GGGDM'], ['KPC', 'TPLCVT', 'CSDANVSYTNKMEGE', 'TEIRDK', 'KLDVIPLNGDNSSSS', 'INCNTSA', 'ACPKVSFDPIP', 'APAG', 'NNKTFNG', 'QCTHGIKPVISTQ', 'NGSLAEGE', 'RSKNLTDNAQT', 'PNNNTRKSIRIGPGQTFYATGDIIGDIREA', 'HFPNYTI', 'GPSSGGD', 'NTSG', 'SDNSTSSD', 'NMWQQVGR', 'APPIAGN', 'DGGNNRTND', 'EGGNM'], ['KPC', 'TPLCVT', 'CTEAKFNETFNKIDNITKVSNLTDE', 'TELRDK', 'KLDIVPIDNSS', 'INCNTSV', 'ACPKVSFDPIP', 'TPAG', 'NDKNFNG', 'QCTHGIKPVVSTH', 'NGSLAEEE', 'RSEDITKNTKT', 'PSNNTRTSVRIGPGQVFYRTGEVITSIRKA', 'HFKNKTI', 'QPPSGGD', 'DTAQ', 'NSTWRGNETKEERNGTSND', 'RMWQGVGQ', 'APPISGI', 'DGDGGPTADNE', 'AGGDM'], ['KPC', 'TPLCVT', 'CTEAKFNETFNKIDNITKVSNLTDE', 'TELRDK', 'KLDIVPIDNSS', 'INCNTSV', 'ACPKVSFDPIP', 'TPAG', 'NDKNFNG', 'QCTHGIKPVVSTH', 'NGSLAEEE', 'RSENLTKNTKT', 'PSNNTRTSTRIGPGQVFYRTGEVITSIRKA', 'HFKNKTI', 'QPPSGGD', 'DTAQ', 'NSTWRGNETKEERNGTSND', 'RMWQGVGQ', 'APPISGI', 'DGGGGPTADNE', 'AGGDM'], ['KPC', 'TPLCVT', 'CTNATSTNFTAKNEGG', 'TERRGR', 'ETDLVLINDDNTT', 'ISCNTSV', 'ACPKVTFEPIP', 'APAG', 'KDKKFNG', 'QCTHGIRPVVSTQ', 'NGSLAEEE', 'RSEKFANNAKI', 'PNNNTRKSIHIGPGQAFYTTGAIIGDIRQA', 'KFGNNKTI', 'NQSSGGD', 'NTTK', 'NNTWNSNDTWTNTEESNET', 'NMWQEVGK', 'APPIQGQ', 'DGGNNTNNTE', 'GGGDM'], ['KPC', 'TPLCVT', 'CTDLKNSATDTNGTSGTNNRTVEQGMETE', 'TGIGNK', 'KLDVVPIDSNNNSDNT', 'ISCNTSV', 'ACPKTSFEPIP', 'APAG', 'NNKTFSG', 'QCTHGIRPVVSTQ', 'NGSLAEEE', 'RSENFTNNAKT', 'PNNNTRKGIHIGLGRALYATGDIIGDIRQA', 'QFGNKTI', 'NQSSGGD', 'DTTQ', 'NSTWSSNDTWNSTGVQDN', 'NMWQEVGK', 'APPIQGL', 'DGGTNNTNATE', 'GGGDM'], ['KPC', 'TPLCVT', 'CTDYWNTNNTNTTASTTTTSTPTSSNIGGMMKKGE', 'TTIKDK', 'RTDVVPINDDVKNNNNDSVKNSTKYT', 'INCNTSV', 'ACPKITFEPIP', 'APAG', 'NNKTFEG', 'QCTHGIRPVVSTQ', 'NGSLAEEE', 'RSDNFSNNAKI', 'PSNNTRKSIHMGPGGAFYATGSIIGDIRQA', 'QFNKTTI', 'KQSSGGD', 'NTSQ', 'NSTWNGTEGFNSTGSE', 'NLWQEVGK', 'APPIRGV', 'DGGYDDNNTANTNE', 'GGGDM'], ['KPC', 'TPLCVT', 'CTNLNTTTSDQNSNGTSLNMEQGE', 'TDVHDK', 'NSDIVQMGENST', 'ISCNTSV', 'ACPKITFDPIP', 'TPAG', 'NDKQFNG', 'QCTHGIRPVVSTQ', 'NGSLAEEE', 'RSENFTDNAKI', 'PNNNTRKSITIGPGRAFFATGDIIGDIRKA', 'QFNNKTI', 'NQSSGGD', 'NTTQ', 'DETKNNTED', 'NMWQKVGK', 'APPIQGQ', 'DGGHNETNNTE', 'GGGDM'], ['KPC', 'TPLCVT', 'CTNLNTTTSNQNSNGTSLNMEQGE', 'TDVQDK', 'NSDIVQMSENST', 'ISCNTSV', 'ACPKITFDPIP', 'TPAG', 'NDKQFNG', 'QCTHGIRPVVSTQ', 'NGSLAEEE', 'RSENFTDNAKI', 'PNNNTRKSITIGPGRAFFATGDIIGDIRKA', 'QFKNKTI', 'TQSSGGD', 'NTTQ', 'NETELQKNGS', 'NMWQKVGK', 'APPIQGQ', 'DGGHTNNTE', 'GGGDM'], ['KPC', 'TPLCVT', 'CTNLNTTTSNQNSNGTSLNMEQGE', 'TDVQDK', 'NSDIVQMSENST', 'ISCNTSV', 'ACPKITFDPIP', 'TPAG', 'NDKQFNG', 'QCTHGIRPVVSTQ', 'NGSLAEEE', 'RSENFTDNAKI', 'PNNNTRKSITIGPGRAFFATGDIIGDIRKA', 'QFKNKTI', 'TQSSGGD', 'NTTQ', 'NETELQKNGS', 'NMWQKVGK', 'APPIQGQ', 'DGGHNETNNTE', 'GGGNM'], ['KPC', 'TPLCVT', 'CTDLNTTTSNQNSNGTSLNMEQGE', 'TDVQDR', 'NSDIVQMVENST', 'ISCNTSV', 'ACPKITFDPIP', 'TPAG', 'NDKQFNG', 'QCTHGIRPVVSTQ', 'NGSLAEEE', 'RSENFTDNAKI', 'PNNNTRKSITIGPGRAFFATGDIIGDIRKA', 'QFNNKTI', 'NQSSGGD', 'NTTQ', 'VDTELQKNGS', 'NMWQKVGK', 'APPIQGQ', 'DGGHNETNDTE', 'GGGDM'], ['KPC', 'TPLCVT', 'CTNLNTTTSDQNSNETSLNMEQGE', 'TDVQDK', 'NSDIVQMSENST', 'ISCNTSV', 'ACPKITFDPIP', 'TPAG', 'NDKQFNG', 'QCTHGIRPVVSTQ', 'NGSLAEEE', 'RSENFTDNAKI', 'PNNNTRKSITIGPGRAFFATGDIIGDIRKA', 'QFNNKTI', 'NQSSGGD', 'NTTQ', 'DETKIHR', 'NMWQKVGK', 'APPIQGQ', 'DGGHNETNNTE', 'GGGNM'], ['KPC', 'TPLCVT', 'CTNLNTTTSDQNSNETSLNMEQGE', 'TDVQDK', 'NSDIVQMSENST', 'ISCNTSV', 'ACPKITFDPIP', 'TPAG', 'NDKQFNG', 'QCTHGIRPVVSTQ', 'NGSLAEEE', 'RSENFTDNAKI', 'PNNNTRKSITIGPGRAFFATGDIIGDIRKA', 'QFNNKTI', 'NQSSGGD', 'NTTQ', 'VETELQKAE', 'NMWQKVGK', 'APPIQGQ', 'DGGHNETNNTE', 'GGGNM'], ['KPC', 'TPLCVT', 'CTDLNTTTSNQNSNGTSLNMEQGE', 'TDVQDK', 'NSDIVQMGENST', 'ISCNTSV', 'ACPKITFDPIP', 'TPAG', 'NDKQFNG', 'QCTHGIRPVVSTQ', 'NGSLAEEE', 'RSENFTDNAKI', 'PNNNTRKSITIGPGRAFFATGDIIGDIRKA', 'QFNNKTI', 'TQSSGGD', 'NTTQ', 'VDTELQKME', 'NMWQKVGK', 'APPIQGQ', 'DGGHNETNGTE', 'GGGDM'], ['KPC', 'TPLCVT', 'CTNLNTTTSDQNSNGTSLNMEQGE', 'TDVQDK', 'NSDIVQMGENST', 'ISCNTSV', 'ACPKITFDPIP', 'TPAG', 'NDKQFNG', 'QCTHGIRPVVSTQ', 'NGSLAEEE', 'RSENFTDNAKI', 'PNNNTRKSITIGPGRAFFATGDIIGDIRKA', 'QFNTI', 'NQSSGGD', 'NTTQ', 'DETKIHT', 'NMWQKVGK', 'APPIQGQ', 'DGGHNETNNTE', 'GGGDM'], ['KPC', 'TPLCVT', 'CTNLNTTTSDQNSNETSLNMEQGE', 'TDVQDK', 'NSDIVQMSENST', 'ISCNTSV', 'ACPKITFDPIP', 'TPAG', 'NDKQFNG', 'QCTHGIRPVVSTQ', 'NGSLAEEE', 'RSENFTDNAKI', 'PNNNTRKSITIGPGRAFFATGDIIGDIRKA', 'QFNNKTI', 'NQSSGGD', 'NTTQ', 'VETELQKAE', 'NMWQKVGK', 'APPIQGQ', 'DGGHNETNNTE', 'GGGNM'], ['KPC', 'TPLCVT', 'CTNLNTTTSDQNSNGTSLNMEQGE', 'TDVQDK', 'NSDIVQMGENST', 'ISCNTSV', 'ACPKITFDPIP', 'TPAG', 'NDKQFNG', 'QCTHGIRPVVSTQ', 'NGSLAEEE', 'RSENFTDNAKI', 'PNNNTRKSITIGPGRAFFATGDIIGNIRKA', 'QFKNKTI', 'NQSSGGD', 'NTTQ', 'DETKIHR', 'NMWQKVGK', 'APPIQGQ', 'DGGHNETNNTE', 'GGGNM'], ['KSC', 'TPLCVT', 'CTNLNTTTSDQNSNGTSLNMEQGE', 'TDVQDK', 'NSDIVQMGENST', 'ISCNTSV', 'ACPKITFDPIP', 'TPAG', 'NDKQFNG', 'QCTHGIRPVVSTQ', 'NGSLAEEE', 'RSENFTDNAKI', 'PNNNTRKSITIGPGRAFFATGDIIGNIRKA', 'QFKNKTI', 'NQSSGGD', 'NTTQ', 'DETKIHR', 'NMWQKVGK', 'APPIQGQ', 'DGGHNETNNTE', 'GGGNM'], ['KPC', 'TPLCVT', 'CTNLNTTTSTQNSNGTSLNMEQGE', 'TDVQDK', 'NSDIVQMGENST', 'ISCNTSV', 'ACPKITFDPIP', 'TPAG', 'NDKQFNG', 'QCTHGIRPVVSTQ', 'NGSLAEEE', 'RSENFTDNAKI', 'PNNNTRKSITIGPGRAFFATGDIIGKIRKA', 'QFNNQTI', 'NQSSGGD', 'NTTQ', 'VETELQKAE', 'NMWQKVGK', 'APPIQGQ', 'DGGHNETNNTE', 'GGGDM'], ['KPC', 'TPLCVT', 'CTNLNTTTSDQNSNETSLNMEQGE', 'TDVQDK', 'NSDIVQMSENST', 'ISCNTSV', 'ACPKITFDPIP', 'TPAG', 'NDKQFNG', '', 'NGSLAEKE', 'RSENFTDNAKI', 'PNNNTRKSITIGPGRAFFATGDIIGDIRKA', 'QFKNKTI', 'NQSSGGD', 'NTTQ', 'DETKIHR', 'NMWQKVGK', 'APPIQGQ', 'DGGHNETNNTE', 'GGGDM'], ['KPC', 'TPLCVT', 'CTNLNTTTSDQNSNETSLNMEQGE', 'TDVQDK', 'NSDIVQMSENST', 'ISCNTSV', 'ACPKITFDPIP', 'TPAG', 'NDKQFNG', 'QCTHGIRPVVSTQ', 'NGSLAEEE', 'RSENFTDNAKI', 'PNNNTRKSITIGPGRAFFATGDIIGEIRKA', 'QFNNKTI', 'NQSSGGD', 'NTTQ', 'VETELQKAE', 'NMWQKVGK', 'APPIQGQ', 'DGGHNETNNTE', 'GGGNM'], ['KPC', 'TPLCVT', 'CTDLNTTTSSQNNNMTSLNMEQGE', 'TDVQDR', 'NSDIVQMSENST', 'ISCNTSV', 'ACPKITFDPIP', 'TPAG', 'NDKQFNG', 'QCTHGIRPVVSTQ', 'NGSLAEEE', 'RSENFTDNAKI', 'PNNNTRKSITIGPGRAFFATGDIIGNIRKA', 'QFNTI', 'NQSSGGD', 'NTTQ', 'DETKIHT', 'NMWQKVGK', 'APPIQGQ', 'DGGHNETNGTE', 'GGGDM'], ['KPC', 'TPLCVT', 'CTNLNTTTSDQNSNGTSLNMEQGE', 'TDVQDK', 'NSDIVQMGENST', 'ISCNTSV', 'ACPKITFDPIP', 'TPAG', 'NDKQFNG', 'QCTHGIRPVVSTQ', 'NGSLAEKE', 'RSENFTDNAKI', 'PNNNTRKSITIGPGRAFFATGDIIGNIRKA', 'QFNNKTI', 'NQSSGGD', 'NTTQ', 'DETKIHS', 'NMWQKVGK', 'APPIQGQ', 'DGGHNETNGTE', 'GGGDM'], ['KPC', 'TPLCVT', 'CTDLNTTTSDQNSNGTSLNMEQGE', 'TDVQDR', 'NSDIVQMSENST', 'ISCNTSV', 'ACPKITFDPIP', 'TPAG', 'NDKQFNG', 'QCTHGIRPVVSTQ', 'NGSLAEEE', 'RSENFTDNAKI', 'PNNNTRKSITIGPGRAFFATGDIIGDIRKA', 'QFNNKTI', 'TQSSGGD', 'NTTQ', 'NETELQKME', 'NMWQKVGK', 'APPIQGQ', 'DGGRNETNATE', 'GGGDM'], ['KPC', 'TPLCVT', 'CTDLNTTTSDQNSNGTSLNMEQGE', 'TDVQDR', 'NSDIVQMSENST', 'VSCNTSV', 'ACPKITFDPIP', 'TPAG', 'NDKQFNG', 'QCTHGIRPVVSTQ', 'NGSLAEEE', 'RSENFTDNAKI', 'PNNNTRKSITIGPGRAFFATGDIIGDIRKA', 'QFKNKTI', 'TQSSGGD', 'NTTQ', 'NETELQKME', 'NMWQKVGK', 'APPIQGQ', 'DGGRNETNATE', 'GGGDM'], ['KPC', 'TPLCVT', 'CENARVKPDYNDSTNGE', 'TELKDK', 'RPDIMPLNGTNS', 'INCNTST', 'ACPKVSFDPIP', 'APAG', 'KDKKFNG', 'QCTHGIKPVVSTQ', 'NGSLAEEG', 'RSENLTDNGKI', 'PNNNRRRSVRIGPGQSFYAYNDIIGNIREA', 'RFSDKII', 'EMPAGGD', 'NTTR', 'YANSSDPNA', 'NMWQEVGR', 'APPIEGN', 'DGDIKENNTE', 'IGGNM'], ['KPC', 'TPLCVT', 'CSNVNATSRNINGNATFNYSMEEE', 'TEVRDK', 'KLDVVPLTKDDNNT', 'INCNTSA', 'ACPKVSFDPIP', 'APAG', 'NNKTFNG', 'QCTHGIKPVVSTQ', 'NGSLSEEG', 'RSENLTNNAKT', 'PGNNTRKSVRIGPGQAFYATGDIIGDIRQA', 'HFNKTI', 'EPHSGGD', 'NTTK', 'NDTEKYNST', 'NMWQGVGR', 'APPIKGN', 'DGGNKSNQTNQNE', 'GGGDM'], ['KPC', 'TPLCVT', 'CVNITNSTTSNGDGTVTHINSIKEE', 'TEIRDR', 'RSDVVPLNEKNGTNN', 'INCNTST', 'ACPKVTFDPIP', 'APAG', 'NNKTFNG', 'QCTHGIKPVVSTQ', 'NGSLAEGE', 'RSENLTDNVKT', 'PGNNTRKSIRIGPGQTFFATNDIIGDIRQA', 'HFPNKTI', 'GPPSGGD', 'NTSK', 'NGNDNSSE', 'NMWQKVGR', 'APPIEGN', 'DGGTGNDTE', 'GGGNM'], ['KPC', 'TPLCVT', 'CVEVNNTTNTTIDDNYKEE', 'TAIRDK', 'RSDIELLPNSS', 'ISCNTST', 'ACPKVSFDPIP', 'APAG', 'NNKTFNG', 'QCTHGIKPVVSTQ', 'NGSLAEED', 'RSENLTNDAKT', 'PGNNTRRSIRIGPGQTYYANDIIGDIRQA', 'HFPNKTI', 'EPQPRSGGD', 'NTTK', 'NTTEFNENDSND', 'NMWQGVGR', 'APPIAGN', 'EERGDNQTR', 'IGGDM'], ['KPC', 'TPLCVT', 'CTTAIAHNASNQNITD', 'TEIRDK', 'KLDIVPLRENETNNSFT', 'INCNTSA', 'ACPKISFDPIP', 'APAG', 'KNKTFSG', 'QCTHGIKPVVSTQ', 'NGSLAEEE', 'RSENLTNNVKT', 'PGNNTRKSIRIGPGQTFFATGDVIGDIREA', 'HFPNTTI', 'NPSSGGD', 'NTEK', 'NGTYNSTYWPRYNASHNGT', 'NMWQEVGR', 'NPPIAGN', 'DGGITNNNTE', 'GGGDM'], ['KPC', 'TPLCVT', 'CINYNNTNNGSNANNTSIEGREE', 'TTIRDK', 'RLDLVPIDND', 'INCNTSV', 'ACPKVSFEPIP', 'TPAG', 'RDKKFNG', 'QCTHGIRPVVSTQ', 'NGSLAEEE', 'RSENFTDNVKT', 'PNNNTRKGIHIGPGRAFYTTGQIIGDIRQA', 'QFRNKNI', 'MQHSGGD', 'NSTQ', 'NSTWTRPPNGTWRSNGTWNSTEGTND', 'NMWQGVGK', 'APPISGQ', 'DGGENRTDNGTE', 'GGGNM'], ['KPC', 'TPLCVT', 'CTDVGNNTDVGNNTKVGNSTIMEKGE', 'TDRRDK', 'KLDVEPIDNDTT', 'ISCNTSV', 'ACPKVSFEPIP', 'APAG', 'RDKNFNG', 'QCTHGIRPVVSTQ', 'NGSLAEEE', 'RSENFTNNAKI', 'PNNNTRRSIRIGPGAFFRTGDIIGDIRQA', 'QFKNTTTI', 'NKSSGGD', 'NTSQ', 'TNSTGNE', 'NMWQTVGK', 'APPIQGI', 'DGGSDNNNTE', 'GGGDM'], ['KPC', 'TPLCVT', 'CTDVGNNTDVGNNTKVGNSTIMEKGE', 'TDRRDK', 'KLDVEPIDNDTT', 'ISCNTSV', 'ACPKVSFEPIP', 'APAG', 'RDKNFNG', 'QCTHGIRPVVSTQ', 'NGSLAEEE', 'RSENFTNNAKI', 'PNNNTRRSIRIGPGAFFRTGDIIGDIRQA', 'QFKNATTI', 'NKSSGGD', 'NTSQ', 'TNSTG', 'NMWQTVGK', 'APPIQGI', 'DGGSDNNNTE', 'GGGDM'], ['KPC', 'TPLCVT', 'CTDVGNNTDVGNNTKVGNSTIMEKGE', 'TDRRDK', 'KLDVEPIDNDTT', 'ISCNTSV', 'ACPKVSFEPIP', 'APAG', 'RDKNFNG', 'QCTHGIRPVVSTQ', 'NGSLAEEE', 'RSENFTNNAKI', 'PNNNTRRSIRIGPGAYFRTRGIIGDIRQA', 'QFKNTTTI', 'NKSSGGD', 'NTSQ', 'TNSTGNLPP', 'NMWQTVGK', 'APPIQGI', 'DGGNDNNNTE', 'GGGDM'], ['KPC', 'TPLCVT', 'CTDVGNNTDVGNNTKVGNSTIMEKGE', 'TDRRDK', 'KLDVEPIDNDTT', 'ISCNTSV', 'ACPKVSFEPIP', 'APAG', 'RDKNFNG', 'QCTHGIRPVVSTQ', 'NGSLAEEE', 'RSENFTNNAKI', 'PNNNTRRSIRIGPGAFFRTGDIIGDIRQA', 'QFKNATTI', 'NKSSGGD', 'NTSQ', 'TNSTG', 'NMWQTVGK', 'APPIQGI', 'DGGSDNNNTE', 'GGGDM'], ['KPC', 'TPLCVT', 'CTDVGNNTDVGNNTKVGNSTIMEKGE', 'TDRRDK', 'KLDVEPIDNDTT', 'ISCNTSV', 'ACPKVSFEPIP', 'APAG', 'RDKNFNG', 'QCTHGIRPVVSTQ', 'NGSLAEEE', 'RSENFTNNAKI', 'PNNNTRRSIRIGPGAYFRTRGIIGDIRQA', 'QFKNTTTI', 'NKSSGGD', 'NTSQ', 'TNSTGNE', 'NMWQTVGK', 'APPIQGI', 'DGGSNNNNTE', 'GGGDM'], ['KPC', 'TPLCVT', 'CTDVGDNTDVGNNTKVGNSTIMEKGE', 'TDRRDK', 'KLDVEPIDNDTT', 'ISCNTSV', 'ACPKVSFEPIP', 'APAG', 'RDKNFNG', 'QCTHGIRPVVSTQ', 'NGSLAEEE', 'RSENFTNNAKI', 'PNNNTRRSIRIGPGAFFRTGDIIGDIRQA', 'QFKNTTTI', 'NKSSGGD', 'NTSQ', 'TNSTGNLTQRNE', 'NMWQTVGK', 'APPIQGI', 'DGGNDNNNTE', 'GGGDM'], ['KPC', 'TPLCVT', 'CTDVGNNTDVGNNTKVGNSTIMEKGE', 'TDRRDK', 'KLDVEPIDNDTT', 'ISCNTSV', 'ACPKVSFEPIP', 'APAG', 'RDKNFNG', 'QCTHGIRPVVSTQ', 'NGSLAEEE', 'RSENFTNNAKI', 'PNNNTRRSIRIGPGAFFRTGDIIGEIRQA', 'QFKNATTI', 'NRSSGGD', 'NTSQ', 'TGNLTQGNE', 'NMWQTVGK', 'APPIQGI', 'DGGSDNNNTE', 'GGGDM'], ['KPC', 'TPLCVT', 'CTDVGNNNDVGNNTKVGNSTIMEKGE', 'TDRRDK', 'KLDVEPIDNDTT', 'ISCNTSV', 'ACPKVSFEPIP', 'APAG', 'RDKNFNG', 'QCTHGIRPVVSTQ', 'NGSLAEEE', 'RSENFTNNAKS', 'PNNNTRRSIRIGPGAFFRTGDIIGDIRQA', 'QFKNTTTI', 'NKSSGGD', 'NTSQ', 'TGNLTQENE', 'NMWQTVGK', 'APPIQGI', 'DGGSDNNNTE', 'GGGDM'], ['KPC', 'TPLCVT', 'CTDVGDNTDVGNNTKVGNSTIMEKGE', 'TDRRDK', 'KLDVEPIDNDTT', 'ISCNTSV', 'ACPKVSFEPIP', 'APAG', 'RDKNFNG', 'QCTHGIRPVVSTQ', 'NGSLAEEE', 'RSENFTNNAKI', 'PNNNTRRSIRIGPGAFFRTGDIIGDIRQA', 'QFKNTTTI', 'NKSSGGD', 'NTSQ', 'TNSTGNLTQGNE', 'NMWQTVGK', 'APPIQGI', 'DGGNDNNNTE', 'GGGDM'], ['KPC', 'TPLCVT', 'CTDVGTNTDVGNNTKVGNSTIMEKGE', 'TDRRDK', 'KLDVEPIDNDTT', 'ISCNTSV', 'ACPKVSFEPIP', 'APAG', 'RDKNFNG', 'QCTHGIRPVVSTQ', 'NGSLAEEE', 'RSENFTNNAKI', 'PNNNTRRSIRIGPGAFFRTGDIIGDIRQA', 'QFKNATTI', 'NKSSGGD', 'NTSQ', 'TGNLTQGNE', 'NMWQTVGK', 'APPIQGI', 'DGGRDNNNTE', 'GGGDM'], ['KPC', 'TPLCVT', 'CTNVNVTTNATVTGNETADNMEGE', 'TEIRDK', 'KPDIVPLNEN', 'INCNTST', 'ACPKVSFDPIP', 'APAG', 'NNKTFNG', 'QCTHGIKPVVSTQ', 'NGSLAEED', 'RFENLTNNART', 'PNNNTRKSIRIGPGQAFYATGEIIGDIRKA', 'HFNRTI', 'EPSSGGD', 'NTTL', 'DSTQGDNST', 'NMWQKVGK', 'APPIEGN', 'DGGTNNETNVTEE', 'GGGNM']]\n"
     ]
    }
   ],
   "source": [
    "# H_3  107条记录\n",
    "\n",
    "# MSA后序列所有区域需要统计的残基\n",
    "all_region_residue_3 =[]\n",
    "\n",
    "# 每个区域需要统计的残基\n",
    "H_region_residue_3 = []\n",
    "\n",
    "# 获取MSA之后在这些位置上Tier3序列的残基\n",
    "for i in range(0,107):\n",
    "    region_residue_3 = []\n",
    "    α1_β2 = fasta3.fetch(fasta3.references[i],87,90)\n",
    "    # 获取β2-βa中所有残基，也就是序列索引92-98\n",
    "    β2_βa = fasta3.fetch(fasta3.references[i],93,99)\n",
    "    βa_βb = fasta3.fetch(fasta3.references[i],101,156)\n",
    "    βb_βc = fasta3.fetch(fasta3.references[i],165,171)\n",
    "    βc_βd = fasta3.fetch(fasta3.references[i],180,206)\n",
    "    βd_β3 = fasta3.fetch(fasta3.references[i],210,217)\n",
    "    β3_β4 = fasta3.fetch(fasta3.references[i],220,231)\n",
    "    β4_β5 = fasta3.fetch(fasta3.references[i],235,239)\n",
    "    β5_β6 = fasta3.fetch(fasta3.references[i],245,252)\n",
    "    β7_β9 = fasta3.fetch(fasta3.references[i],262,275)\n",
    "    β9_β10 = fasta3.fetch(fasta3.references[i],278,287)\n",
    "    β10_β11 = fasta3.fetch(fasta3.references[i],290,301)\n",
    "    β12_β13 = fasta3.fetch(fasta3.references[i],316,346)\n",
    "    α2_β14 = fasta3.fetch(fasta3.references[i],368,376)\n",
    "    β14_α3 = fasta3.fetch(fasta3.references[i],378,388)\n",
    "    β17_α4 = fasta3.fetch(fasta3.references[i],405,409)\n",
    "    α4_β19 = fasta3.fetch(fasta3.references[i],411,450)\n",
    "    β20_β21 = fasta3.fetch(fasta3.references[i],462,470)\n",
    "    β21_β22 = fasta3.fetch(fasta3.references[i],473,480)\n",
    "    β23_β24 = fasta3.fetch(fasta3.references[i],494,510)\n",
    "    β24_α5 = fasta3.fetch(fasta3.references[i],514,519)\n",
    "\n",
    "    # 去除序列段中的-\n",
    "    region_residue_3.append(α1_β2.replace('-',''))\n",
    "    region_residue_3.append(β2_βa.replace('-',''))\n",
    "    region_residue_3.append(βa_βb.replace('-',''))\n",
    "    region_residue_3.append(βb_βc.replace('-',''))\n",
    "    region_residue_3.append(βc_βd.replace('-',''))\n",
    "    region_residue_3.append(βd_β3.replace('-',''))\n",
    "    region_residue_3.append(β3_β4.replace('-',''))\n",
    "    region_residue_3.append(β4_β5.replace('-',''))\n",
    "    region_residue_3.append(β5_β6.replace('-',''))\n",
    "    region_residue_3.append(β7_β9.replace('-',''))\n",
    "    region_residue_3.append(β9_β10.replace('-',''))\n",
    "    region_residue_3.append(β10_β11.replace('-',''))\n",
    "    region_residue_3.append(β12_β13.replace('-',''))\n",
    "    region_residue_3.append(α2_β14.replace('-',''))\n",
    "    region_residue_3.append(β14_α3.replace('-',''))\n",
    "    region_residue_3.append(β17_α4.replace('-',''))\n",
    "    region_residue_3.append(α4_β19.replace('-',''))\n",
    "    region_residue_3.append(β20_β21.replace('-',''))\n",
    "    region_residue_3.append(β21_β22.replace('-',''))\n",
    "    region_residue_3.append(β23_β24.replace('-',''))\n",
    "    region_residue_3.append(β24_α5.replace('-',''))\n",
    "    all_region_residue_3.append(region_residue_3)\n",
    "print(all_region_residue_3)"
   ]
  },
  {
   "cell_type": "code",
   "execution_count": 40,
   "id": "737a7e91",
   "metadata": {
    "collapsed": true
   },
   "outputs": [
    {
     "data": {
      "text/plain": [
       "['KPC',\n",
       " 'TPLCVT',\n",
       " 'CTNLNTTTSDQNSNETSLNMEQGE',\n",
       " 'TDVQDK',\n",
       " 'NSDIVQMSENST',\n",
       " 'ISCNTSV',\n",
       " 'ACPKITFDPIP',\n",
       " 'TPAG',\n",
       " 'NDKQFNG',\n",
       " '',\n",
       " 'NGSLAEKE',\n",
       " 'RSENFTDNAKI',\n",
       " 'PNNNTRKSITIGPGRAFFATGDIIGDIRKA',\n",
       " 'QFKNKTI',\n",
       " 'NQSSGGD',\n",
       " 'NTTQ',\n",
       " 'DETKIHR',\n",
       " 'NMWQKVGK',\n",
       " 'APPIQGQ',\n",
       " 'DGGHNETNNTE',\n",
       " 'GGGDM']"
      ]
     },
     "execution_count": 40,
     "metadata": {},
     "output_type": "execute_result"
    }
   ],
   "source": [
    "all_region_residue_3[84]"
   ]
  },
  {
   "cell_type": "code",
   "execution_count": 37,
   "id": "936ffd8d",
   "metadata": {},
   "outputs": [
    {
     "name": "stdout",
     "output_type": "stream",
     "text": [
      "EDRWVTVYYGVPVWKEATTTLFCASDAKAYDTEVHNVWATHACVPTDPNPQELRLENVTEEFNIWKNDMVEQMHEDIISLWDQSLKPCVKLTPLCVTLNCTKITMKSTNNTNTNTSWERGEEMKNCSFNVSSSVRDKMKREYALFYKLDIVPIDDSNSSSSNYSSYRLINCNTSVITQACPKVTFEPIPIHYCTPAGFALLKCNDKRFNGTGKCTNVSTVQCTHGIKPVVSTQLLLNGSLAEEEVILKSANITDNAKTIIVQLNETVEINCTRPNNNTRKSIPIGPGRAFYTTGDIIGDIRQAHCNISRAKWNLTLHRIATALKAKFNDNTIVFNQSSGGDPEVVMHTFNCGGEFFYCNTSQLFNSTWNGTEPTNSNKENGTITLPCRIKQIVNMWQEVGKAMYAPPIRGQIRCSSNITGLLLTRDGGNSSTETFRPGGGDMRDNWRSELYKYKVVKIEPLGVAPTK\n",
      "[[85, 88], [91, 97], [99, 123], [132, 138], [147, 159], [163, 170], [173, 184], [188, 192], [198, 205], [0, 0], [215, 223], [226, 237], [252, 282], [304, 311], [313, 320], [337, 341], [343, 350], [362, 370], [373, 380], [394, 405], [409, 414]]\n",
      "107\n"
     ]
    }
   ],
   "source": [
    "# 通过MSA之后确定位置，获取其位置里残基，通过这些残基在MSA之前序列上统计其无规则卷曲长度（biolib预测的csv文件中）\n",
    "\n",
    "# 未做MSA之前的序列\n",
    "original_H_3 = \"/www/yang/csv/MSA_before/3.fa\"\n",
    "original_fasta3 = sam.FastaFile(original_H_3)\n",
    "\n",
    "# 获取去除-的残基在序列的位置\n",
    "index_region_H_3 = []\n",
    "# 需要查找残基位置的序列\n",
    "seq = original_fasta3.fetch(original_fasta3.references[0],0,467)\n",
    "print(seq)\n",
    "seq.index(all_region_residue_3[0][0])\n",
    "\n",
    "for i in range(107):\n",
    "    seq = original_fasta3.fetch(original_fasta3.references[i],0,original_fasta3.lengths[i])\n",
    "    \n",
    "    # 21个区域\n",
    "    one_region_H_3 = []\n",
    "    for j in range(21):\n",
    "        # 单个区域\n",
    "        s_e = []\n",
    "        start = seq.index(all_region_residue_3[i][j]) \n",
    "        end = start + len(all_region_residue_3[i][j])\n",
    "        s_e.append(start)\n",
    "        s_e.append(end)\n",
    "        one_region_H_3.append(s_e)\n",
    "    index_region_H_3.append(one_region_H_3)\n",
    "print(index_region_H_3[84])\n",
    "print(len(index_region_H_3))"
   ]
  },
  {
   "cell_type": "markdown",
   "id": "24f37e72",
   "metadata": {},
   "source": [
    "## table_1  Resistant"
   ]
  },
  {
   "cell_type": "code",
   "execution_count": 51,
   "id": "371ad3f0",
   "metadata": {},
   "outputs": [
    {
     "name": "stdout",
     "output_type": "stream",
     "text": [
      "resistance number:107\n",
      "resistance length min:439\n",
      "resistance length max:492\n",
      "resistance length mean:463.77570093457945\n"
     ]
    }
   ],
   "source": [
    "print(\"resistance number:\" + str(len(original_fasta3.lengths)))\n",
    "print(\"resistance length min:\" + str(np.min(original_fasta3.lengths)))\n",
    "print(\"resistance length max:\" + str(np.max(original_fasta3.lengths)))\n",
    "print(\"resistance length mean:\" + str(np.mean(original_fasta3.lengths)))"
   ]
  },
  {
   "cell_type": "code",
   "execution_count": 23,
   "id": "88ce3ae5",
   "metadata": {},
   "outputs": [],
   "source": [
    "# 将H_3中107条序列的8个区域存储为pickle文件\n",
    "pickle.dump(np.array(index_region_H_3),  open('/home/dldx/R-H/code/classification/ML/plot/position_pickle/end_position_H_3.pkl', 'wb'))"
   ]
  },
  {
   "cell_type": "code",
   "execution_count": 32,
   "id": "1325d699",
   "metadata": {
    "collapsed": true
   },
   "outputs": [
    {
     "name": "stdout",
     "output_type": "stream",
     "text": [
      "[[3, 3, 23, 3, 17, 4, 11, 4, 7, 6, 7, 9, 21, 4, 7, 0, 17, 0, 6, 8, 4], [3, 3, 28, 6, 10, 3, 11, 4, 7, 6, 7, 9, 20, 4, 7, 3, 14, 0, 7, 11, 5], [3, 4, 18, 4, 20, 3, 11, 4, 7, 6, 8, 9, 17, 4, 7, 1, 24, 5, 6, 10, 5], [3, 4, 25, 5, 5, 4, 11, 4, 7, 7, 8, 10, 19, 4, 7, 0, 11, 0, 7, 13, 5], [3, 4, 19, 5, 7, 4, 11, 4, 7, 6, 7, 9, 22, 3, 7, 0, 17, 0, 6, 11, 5], [3, 4, 17, 5, 8, 4, 11, 4, 7, 7, 7, 10, 19, 5, 6, 3, 18, 2, 6, 11, 4], [3, 3, 26, 3, 5, 4, 11, 4, 7, 7, 8, 9, 19, 3, 7, 3, 17, 0, 6, 12, 5], [3, 3, 26, 3, 5, 3, 11, 4, 7, 7, 8, 9, 19, 3, 7, 3, 17, 0, 6, 12, 5], [3, 3, 25, 4, 15, 3, 11, 4, 7, 8, 7, 9, 21, 4, 7, 0, 15, 7, 6, 11, 5], [3, 3, 24, 5, 14, 4, 11, 4, 7, 7, 8, 9, 21, 3, 7, 0, 13, 7, 6, 11, 5], [3, 3, 14, 0, 13, 4, 11, 4, 7, 5, 7, 9, 20, 4, 7, 0, 19, 0, 7, 9, 5], [3, 2, 30, 4, 14, 3, 11, 4, 7, 6, 7, 9, 20, 4, 7, 0, 20, 0, 6, 11, 5], [3, 2, 24, 3, 9, 3, 11, 4, 7, 6, 7, 8, 20, 4, 7, 1, 25, 3, 6, 8, 5], [3, 4, 18, 4, 10, 3, 11, 4, 7, 7, 7, 9, 19, 4, 7, 3, 12, 0, 7, 10, 5], [3, 3, 18, 4, 7, 4, 11, 4, 7, 6, 8, 9, 18, 4, 7, 0, 17, 0, 7, 13, 5], [3, 3, 31, 5, 7, 4, 11, 4, 7, 6, 8, 9, 19, 3, 7, 0, 15, 0, 7, 13, 4], [3, 3, 25, 5, 7, 3, 11, 4, 7, 6, 8, 9, 19, 3, 7, 0, 17, 0, 7, 13, 5], [3, 3, 24, 5, 7, 4, 11, 4, 7, 7, 8, 9, 17, 3, 7, 0, 17, 0, 7, 13, 5], [3, 3, 23, 6, 7, 3, 11, 4, 7, 7, 8, 9, 18, 4, 7, 0, 18, 0, 7, 13, 5], [3, 4, 28, 4, 9, 4, 11, 4, 7, 6, 7, 10, 20, 4, 8, 2, 19, 2, 6, 13, 5], [3, 3, 29, 5, 9, 3, 11, 4, 7, 6, 8, 9, 21, 3, 7, 0, 13, 0, 6, 11, 5], [3, 3, 19, 4, 7, 4, 11, 4, 7, 8, 8, 9, 20, 4, 7, 1, 19, 4, 7, 8, 5], [3, 3, 19, 6, 7, 4, 11, 4, 7, 8, 8, 9, 20, 4, 7, 1, 19, 5, 7, 8, 5], [3, 3, 19, 4, 7, 4, 11, 4, 7, 8, 8, 9, 21, 4, 7, 1, 19, 4, 7, 8, 5], [3, 4, 19, 6, 7, 4, 11, 4, 7, 8, 8, 9, 21, 4, 7, 1, 19, 5, 7, 9, 5], [3, 4, 17, 6, 11, 4, 11, 4, 7, 7, 8, 9, 18, 4, 7, 1, 20, 0, 7, 12, 5], [3, 3, 23, 3, 10, 4, 11, 4, 7, 8, 7, 9, 21, 4, 7, 2, 17, 2, 6, 10, 5], [3, 2, 31, 6, 10, 4, 11, 4, 7, 5, 8, 8, 20, 4, 7, 1, 16, 0, 3, 12, 4], [3, 3, 14, 6, 6, 3, 11, 4, 7, 7, 7, 9, 17, 4, 7, 1, 13, 0, 6, 10, 5], [3, 3, 18, 6, 17, 4, 11, 4, 6, 6, 7, 9, 21, 4, 6, 0, 17, 2, 6, 9, 5], [3, 2, 24, 5, 7, 4, 11, 4, 7, 7, 8, 9, 20, 4, 7, 0, 13, 0, 6, 11, 5], [3, 2, 24, 5, 7, 4, 11, 4, 7, 7, 7, 9, 20, 4, 7, 0, 13, 0, 6, 11, 5], [3, 2, 24, 5, 6, 4, 11, 4, 7, 6, 8, 9, 20, 3, 7, 0, 13, 0, 6, 11, 5], [3, 3, 25, 5, 7, 4, 11, 4, 7, 7, 8, 9, 20, 4, 7, 0, 13, 0, 6, 14, 5], [2, 2, 24, 3, 7, 5, 11, 4, 7, 7, 8, 9, 20, 4, 7, 0, 13, 0, 6, 11, 5], [3, 2, 24, 5, 7, 4, 11, 4, 7, 7, 7, 9, 20, 3, 7, 0, 13, 0, 6, 12, 5], [3, 2, 24, 5, 6, 4, 11, 4, 7, 6, 8, 9, 19, 3, 7, 0, 13, 0, 6, 11, 5], [3, 2, 24, 5, 7, 4, 11, 4, 7, 7, 8, 9, 20, 4, 7, 0, 13, 0, 6, 14, 5], [3, 3, 24, 5, 6, 4, 11, 4, 7, 7, 8, 9, 20, 4, 7, 0, 14, 0, 6, 14, 5], [3, 3, 25, 5, 6, 4, 11, 4, 7, 7, 8, 9, 20, 4, 7, 0, 13, 0, 6, 14, 5], [3, 3, 24, 5, 7, 4, 11, 4, 7, 6, 8, 9, 20, 4, 7, 0, 13, 0, 6, 11, 5], [3, 3, 24, 5, 6, 4, 11, 4, 7, 7, 7, 9, 20, 3, 7, 0, 14, 0, 6, 11, 5], [3, 3, 24, 3, 6, 4, 11, 4, 7, 6, 9, 9, 20, 4, 7, 0, 14, 0, 7, 8, 5], [3, 3, 23, 6, 15, 4, 11, 4, 7, 7, 7, 10, 19, 4, 7, 3, 12, 0, 7, 12, 5], [3, 3, 18, 3, 17, 4, 11, 4, 7, 6, 8, 8, 20, 4, 7, 0, 11, 3, 6, 9, 4], [3, 3, 29, 6, 12, 3, 11, 4, 6, 6, 8, 9, 19, 4, 7, 0, 20, 6, 6, 12, 4], [3, 3, 23, 4, 16, 3, 11, 4, 7, 7, 8, 9, 20, 3, 7, 0, 21, 2, 6, 12, 5], [3, 3, 18, 3, 20, 4, 11, 4, 7, 5, 7, 8, 18, 4, 7, 0, 18, 0, 6, 8, 5], [3, 4, 11, 0, 8, 4, 11, 4, 7, 6, 8, 9, 19, 4, 7, 3, 14, 0, 6, 12, 5], [3, 3, 22, 5, 9, 4, 11, 4, 7, 8, 8, 9, 21, 4, 7, 3, 20, 0, 6, 10, 5], [3, 3, 26, 5, 4, 3, 11, 4, 6, 5, 8, 9, 21, 4, 7, 0, 15, 0, 6, 9, 5], [3, 3, 24, 6, 16, 3, 11, 4, 7, 7, 7, 8, 20, 5, 7, 1, 18, 3, 6, 8, 4], [3, 3, 16, 5, 12, 3, 11, 4, 7, 7, 8, 9, 19, 4, 7, 0, 21, 4, 6, 10, 5], [3, 3, 26, 5, 4, 3, 11, 4, 7, 7, 8, 10, 17, 4, 7, 0, 21, 1, 7, 8, 5], [3, 3, 17, 0, 15, 3, 11, 4, 7, 7, 7, 9, 19, 4, 7, 0, 18, 0, 6, 10, 4], [3, 3, 17, 0, 14, 3, 11, 4, 7, 7, 7, 9, 19, 4, 7, 0, 21, 2, 6, 10, 5], [3, 3, 17, 0, 14, 4, 11, 4, 7, 7, 7, 9, 19, 4, 7, 0, 18, 0, 6, 10, 4], [3, 3, 17, 0, 14, 3, 11, 4, 7, 7, 7, 9, 19, 4, 7, 0, 20, 0, 7, 10, 5], [3, 3, 17, 0, 15, 3, 11, 4, 7, 6, 7, 9, 19, 4, 7, 0, 19, 0, 6, 10, 4], [3, 3, 17, 0, 15, 3, 11, 4, 7, 8, 7, 9, 19, 4, 7, 0, 21, 0, 6, 10, 4], [3, 3, 17, 0, 15, 3, 11, 4, 7, 7, 7, 9, 19, 4, 7, 0, 21, 0, 6, 10, 4], [3, 3, 17, 0, 15, 3, 11, 4, 7, 7, 7, 9, 19, 4, 7, 0, 21, 0, 7, 10, 5], [3, 3, 17, 0, 15, 3, 11, 4, 7, 7, 7, 9, 19, 4, 7, 0, 21, 0, 7, 10, 5], [3, 3, 17, 0, 15, 4, 11, 4, 7, 7, 7, 9, 19, 4, 7, 0, 18, 0, 7, 9, 5], [3, 3, 17, 0, 14, 3, 11, 4, 7, 7, 7, 9, 19, 4, 7, 0, 21, 0, 6, 10, 5], [3, 3, 17, 0, 15, 3, 11, 4, 7, 7, 7, 9, 19, 4, 7, 0, 21, 0, 6, 10, 5], [3, 3, 15, 5, 13, 3, 11, 4, 7, 6, 7, 9, 19, 4, 7, 3, 8, 0, 7, 9, 5], [3, 2, 25, 5, 5, 4, 11, 4, 7, 7, 8, 9, 19, 4, 7, 1, 17, 5, 6, 11, 5], [3, 3, 24, 5, 6, 4, 11, 4, 7, 7, 8, 8, 18, 4, 7, 1, 17, 5, 6, 11, 5], [3, 3, 16, 4, 6, 4, 11, 4, 7, 8, 8, 9, 20, 4, 7, 0, 19, 3, 6, 9, 5], [3, 2, 29, 6, 10, 4, 11, 4, 7, 6, 8, 9, 23, 3, 7, 0, 18, 3, 6, 9, 5], [3, 3, 35, 6, 25, 5, 11, 4, 7, 7, 7, 9, 17, 4, 7, 0, 16, 2, 7, 14, 4], [3, 3, 24, 5, 9, 3, 11, 4, 7, 7, 8, 9, 21, 4, 7, 0, 9, 5, 6, 10, 4], [3, 3, 24, 4, 8, 4, 11, 4, 7, 7, 8, 9, 21, 4, 7, 0, 10, 4, 6, 8, 5], [3, 3, 24, 3, 8, 4, 11, 4, 7, 7, 8, 9, 21, 4, 7, 0, 10, 4, 6, 10, 5], [3, 3, 24, 3, 8, 4, 11, 4, 7, 7, 7, 9, 21, 4, 7, 3, 10, 2, 6, 10, 5], [3, 3, 24, 3, 8, 4, 11, 4, 7, 7, 8, 9, 21, 4, 7, 1, 7, 5, 6, 10, 5], [3, 3, 24, 3, 8, 4, 11, 4, 7, 7, 8, 9, 21, 4, 7, 3, 9, 3, 6, 10, 5], [3, 3, 24, 3, 9, 3, 11, 4, 7, 7, 7, 9, 21, 4, 7, 3, 9, 3, 6, 10, 4], [3, 3, 24, 4, 9, 3, 11, 4, 7, 8, 8, 9, 20, 3, 7, 0, 7, 5, 6, 10, 4], [3, 3, 24, 3, 8, 4, 11, 4, 7, 7, 8, 9, 21, 4, 7, 3, 9, 3, 6, 10, 5], [3, 3, 24, 4, 9, 3, 11, 4, 7, 8, 8, 9, 21, 4, 7, 0, 7, 5, 6, 10, 5], [3, 3, 24, 4, 9, 3, 11, 4, 7, 7, 8, 9, 21, 4, 7, 1, 7, 5, 6, 10, 5], [3, 3, 24, 3, 9, 3, 11, 4, 7, 7, 8, 9, 20, 4, 7, 3, 9, 3, 6, 10, 4], [3, 3, 24, 3, 7, 3, 11, 4, 7, 0, 7, 9, 20, 4, 7, 0, 7, 5, 6, 10, 4], [3, 3, 24, 2, 8, 4, 11, 4, 7, 7, 8, 9, 20, 4, 7, 3, 9, 3, 6, 10, 5], [3, 3, 24, 3, 8, 3, 11, 4, 7, 8, 7, 9, 21, 3, 7, 0, 7, 5, 6, 10, 4], [3, 3, 24, 3, 9, 3, 11, 4, 7, 7, 7, 9, 21, 4, 7, 0, 7, 5, 6, 10, 4], [3, 3, 24, 2, 8, 3, 11, 4, 7, 7, 7, 9, 21, 4, 7, 0, 9, 3, 6, 10, 5], [3, 3, 24, 2, 8, 4, 11, 4, 7, 7, 7, 9, 21, 4, 7, 0, 9, 3, 6, 10, 5], [3, 3, 16, 5, 9, 3, 11, 4, 7, 7, 7, 9, 22, 3, 7, 3, 9, 0, 7, 10, 5], [3, 3, 24, 3, 8, 4, 11, 4, 7, 8, 8, 9, 20, 3, 7, 0, 9, 0, 7, 13, 4], [3, 3, 24, 3, 9, 3, 11, 4, 7, 7, 8, 8, 22, 4, 7, 0, 8, 0, 7, 8, 5], [3, 4, 18, 1, 6, 3, 11, 4, 7, 7, 7, 9, 20, 4, 9, 0, 12, 5, 6, 7, 5], [3, 4, 16, 5, 11, 4, 11, 4, 7, 7, 8, 9, 19, 4, 7, 0, 19, 0, 7, 9, 4], [3, 3, 22, 4, 6, 4, 11, 4, 7, 7, 8, 9, 19, 4, 7, 0, 22, 3, 6, 11, 5], [3, 3, 25, 5, 6, 4, 11, 4, 7, 7, 8, 9, 21, 5, 7, 0, 7, 3, 6, 9, 4], [3, 3, 25, 5, 6, 4, 11, 4, 7, 7, 8, 9, 21, 4, 7, 1, 5, 3, 6, 9, 5], [3, 3, 25, 5, 6, 4, 11, 4, 7, 7, 8, 9, 21, 5, 7, 0, 9, 3, 6, 9, 4], [3, 3, 25, 5, 6, 4, 11, 4, 7, 7, 8, 9, 21, 4, 7, 1, 5, 3, 6, 9, 5], [3, 3, 25, 5, 6, 4, 11, 4, 7, 7, 8, 9, 21, 5, 7, 1, 7, 3, 6, 9, 5], [3, 3, 25, 5, 6, 4, 11, 4, 7, 7, 7, 9, 20, 5, 7, 2, 12, 2, 6, 9, 4], [3, 3, 25, 5, 6, 4, 11, 4, 7, 7, 8, 9, 19, 4, 7, 0, 9, 2, 6, 9, 4], [3, 3, 25, 5, 6, 4, 11, 4, 7, 7, 7, 9, 19, 5, 7, 1, 9, 2, 6, 9, 4], [3, 3, 25, 5, 6, 4, 11, 4, 7, 7, 7, 9, 20, 5, 7, 0, 12, 2, 6, 9, 4], [3, 3, 25, 5, 6, 4, 11, 4, 7, 7, 8, 9, 20, 4, 7, 0, 9, 4, 6, 9, 5], [3, 3, 24, 3, 9, 3, 11, 4, 7, 7, 8, 9, 21, 3, 7, 3, 9, 0, 7, 10, 5]]\n",
      "107\n",
      "21\n"
     ]
    }
   ],
   "source": [
    "# 统计无规则卷曲长度  包含H_seq 107条记录 每条记录统计其20个区域\n",
    "one_file_path_3 = \"/www/yang/csv/Tier_3_out/\"\n",
    "\n",
    "# R_seq加71条序列记录\n",
    "all_seq_count_C_3 = []\n",
    "for i in range(0,107):\n",
    "    df = pd.read_csv(one_file_path_3 + str(i) + \"/\" + str(i) + \".csv\")\n",
    "    # 21个统计区域\n",
    "    one_seq_count_C = []\n",
    "    for j in range(21):\n",
    "        # 一个区域的无规则卷曲长度统计\n",
    "        one_region_count_C = 0\n",
    "        for k in range(index_region_H_3[i][j][0],index_region_H_3[i][j][1]):\n",
    "            if df[\" q3\"][k] == \"C\":\n",
    "                one_region_count_C = one_region_count_C + 1\n",
    "        # 匹配定位区域前后漏掉的无规则卷曲数量\n",
    "        # 向前匹配\n",
    "#         if df[\" q3\"][index_region_H_3[i][j][0]] == \"C\":\n",
    "#             forward = index_region_H_3[i][j][0]\n",
    "#             while df[\" q3\"][forward - 1] == \"C\":\n",
    "#                 one_region_count_C = one_region_count_C + 1\n",
    "#                 forward = forward - 1\n",
    "#         # 向后匹配\n",
    "#         backward = index_region_H_3[i][j][1]\n",
    "#         if df[\" q3\"][index_region_H_3[i][j][1] - 1] == \"C\":\n",
    "#             while df[\" q3\"][backward] == \"C\":\n",
    "#                 one_region_count_C = one_region_count_C + 1\n",
    "#                 backward = backward + 1\n",
    "        one_seq_count_C.append(one_region_count_C)\n",
    "    all_seq_count_C_3.append(one_seq_count_C)\n",
    "print(all_seq_count_C_3)\n",
    "print(len(all_seq_count_C_3))\n",
    "print(len(all_seq_count_C_3[19]))"
   ]
  },
  {
   "cell_type": "code",
   "execution_count": 33,
   "id": "773b4978",
   "metadata": {},
   "outputs": [
    {
     "data": {
      "text/plain": [
       "array([ 3,  4, 17,  5,  8,  4, 11,  4,  7,  7,  7, 10, 19,  5,  6,  3, 18,\n",
       "        2,  6, 11,  4])"
      ]
     },
     "execution_count": 33,
     "metadata": {},
     "output_type": "execute_result"
    }
   ],
   "source": [
    "np.array(all_seq_count_C_3[5])"
   ]
  },
  {
   "cell_type": "code",
   "execution_count": 34,
   "id": "fc4ef69e",
   "metadata": {},
   "outputs": [],
   "source": [
    "# 将H_3中107条序列的8个区域的无规则卷曲长度存储为pickle文件\n",
    "pickle.dump(np.array(all_seq_count_C_3),  open('/www/yang/csv/align/count_C_pickle/mafft_MSA/end_count_C_H_3.pkl', 'wb'))"
   ]
  },
  {
   "cell_type": "code",
   "execution_count": 35,
   "id": "d0fc0095",
   "metadata": {},
   "outputs": [],
   "source": [
    "#读取 pickle文件\n",
    "test_H_3 = pickle.load(open('/www/yang/csv/align/count_C_pickle/mafft_MSA/end_count_C_H_3.pkl','rb'))"
   ]
  },
  {
   "cell_type": "code",
   "execution_count": 36,
   "id": "2e013bee",
   "metadata": {},
   "outputs": [
    {
     "data": {
      "text/plain": [
       "(107, 21)"
      ]
     },
     "execution_count": 36,
     "metadata": {},
     "output_type": "execute_result"
    }
   ],
   "source": [
    "test_H_3.shape"
   ]
  },
  {
   "cell_type": "code",
   "execution_count": 47,
   "id": "1bc5760a",
   "metadata": {
    "collapsed": true
   },
   "outputs": [
    {
     "data": {
      "text/plain": [
       "[4,\n",
       " 5,\n",
       " 5,\n",
       " 5,\n",
       " 5,\n",
       " 4,\n",
       " 5,\n",
       " 5,\n",
       " 5,\n",
       " 5,\n",
       " 5,\n",
       " 5,\n",
       " 5,\n",
       " 5,\n",
       " 5,\n",
       " 4,\n",
       " 5,\n",
       " 5,\n",
       " 5,\n",
       " 5,\n",
       " 5,\n",
       " 5,\n",
       " 5,\n",
       " 5,\n",
       " 5,\n",
       " 5,\n",
       " 5,\n",
       " 4,\n",
       " 5,\n",
       " 5,\n",
       " 5,\n",
       " 5,\n",
       " 5,\n",
       " 5,\n",
       " 5,\n",
       " 5,\n",
       " 5,\n",
       " 5,\n",
       " 5,\n",
       " 5,\n",
       " 5,\n",
       " 5,\n",
       " 5,\n",
       " 5,\n",
       " 4,\n",
       " 4,\n",
       " 5,\n",
       " 5,\n",
       " 5,\n",
       " 5,\n",
       " 5,\n",
       " 4,\n",
       " 5,\n",
       " 5,\n",
       " 4,\n",
       " 5,\n",
       " 4,\n",
       " 5,\n",
       " 4,\n",
       " 4,\n",
       " 4,\n",
       " 5,\n",
       " 5,\n",
       " 5,\n",
       " 5,\n",
       " 5,\n",
       " 5,\n",
       " 5,\n",
       " 5,\n",
       " 5,\n",
       " 5,\n",
       " 4,\n",
       " 4,\n",
       " 5,\n",
       " 5,\n",
       " 5,\n",
       " 5,\n",
       " 5,\n",
       " 4,\n",
       " 4,\n",
       " 5,\n",
       " 5,\n",
       " 5,\n",
       " 4,\n",
       " 4,\n",
       " 5,\n",
       " 4,\n",
       " 4,\n",
       " 5,\n",
       " 5,\n",
       " 5,\n",
       " 4,\n",
       " 5,\n",
       " 5,\n",
       " 4,\n",
       " 5,\n",
       " 4,\n",
       " 5,\n",
       " 4,\n",
       " 5,\n",
       " 5,\n",
       " 4,\n",
       " 4,\n",
       " 4,\n",
       " 4,\n",
       " 5,\n",
       " 5]"
      ]
     },
     "execution_count": 47,
     "metadata": {},
     "output_type": "execute_result"
    }
   ],
   "source": [
    "[i[20] for i in test_H_3]"
   ]
  }
 ],
 "metadata": {
  "kernelspec": {
   "display_name": "Python 3",
   "language": "python",
   "name": "python3"
  },
  "language_info": {
   "codemirror_mode": {
    "name": "ipython",
    "version": 3
   },
   "file_extension": ".py",
   "mimetype": "text/x-python",
   "name": "python",
   "nbconvert_exporter": "python",
   "pygments_lexer": "ipython3",
   "version": "3.8.8"
  }
 },
 "nbformat": 4,
 "nbformat_minor": 5
}
