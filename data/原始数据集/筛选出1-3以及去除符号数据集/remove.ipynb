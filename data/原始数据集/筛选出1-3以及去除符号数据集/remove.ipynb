{
 "cells": [
  {
   "cell_type": "code",
   "execution_count": 1,
   "id": "315f8b2b",
   "metadata": {},
   "outputs": [],
   "source": [
    "import pandas as pd"
   ]
  },
  {
   "cell_type": "code",
   "execution_count": 21,
   "id": "19d7675a",
   "metadata": {},
   "outputs": [],
   "source": [
    "ex_Tier_1 = pd.read_excel(r'/www/yang/csv/end_Tier_1.xlsx')\n",
    "ex_Tier_3 = pd.read_excel(r'/www/yang/csv/end_Tier_3.xlsx')"
   ]
  },
  {
   "cell_type": "code",
   "execution_count": 4,
   "id": "903fb840",
   "metadata": {},
   "outputs": [
    {
     "data": {
      "text/plain": [
       "0     MRVKG-ILRNYQQW--------WIW--------SI---LGFW--ML...\n",
       "1     MRVRG-ILRNYQQW--------WMW--------GV---LGFW--ML...\n",
       "2     MRVRG-ILRNWQLW--------WTW--------GI---LGFW--MV...\n",
       "3     MRVMG-SMRNCQRW--------WIW--------GI---LGFW--ML...\n",
       "4     MRVRG-IRRNYQHW--------WIW--------GI---LGFW--ML...\n",
       "                            ...                        \n",
       "70    MRVRG-ILRNWQQW--------WIW--------GI---LGFW--ML...\n",
       "71    MRVKG-ILRNWPQW--------WIW--------SI---LGLW--LI...\n",
       "72    MRVRG-ILKNYQQW--------WIW--------GI---LGFW--II...\n",
       "73    MRVRG-ILKNYQQW--------WIW--------GI---LGFW--II...\n",
       "74    MKVRG-ILRICQRW--------WIW--------GI---LGFW--MV...\n",
       "Name: Sequence, Length: 75, dtype: object"
      ]
     },
     "execution_count": 4,
     "metadata": {},
     "output_type": "execute_result"
    }
   ],
   "source": [
    "ex_Tier_1.Sequence"
   ]
  },
  {
   "cell_type": "code",
   "execution_count": 5,
   "id": "c2aa5e5b",
   "metadata": {},
   "outputs": [
    {
     "data": {
      "text/plain": [
       "'MRVKG-ILRNYQQW--------WIW--------SI---LGFW--MLMN---CNVG----GNLWVTVYYGVPVWKEAK--TTLFCASDAKAYEKEVHNVWATHACVPTDPNPQEMVL---ENVTENFNMWENDVVDQMHEDVISLWDQSLKPCVKLTPLCVTLNCSKAK--------NITEEV---------------------------------------IKNNTYKEDIRNCSFNATTEV-KDKKQKVHALFYRLDIVPLNKRNSSESEEEN-------------------------SSGYYRLINCNTSAVTQACPKVTFDPIPIHYCTPAGYAI-LKCNEETFNGTGPCHNVSTVQCTHGIKPVVSTQLLLNGSLAE-GEIIIRSKNLTDNAKTIIVHLNQS-VEIVCTRPNENRR-KSIRI--GPGQ-AFYATG----DIIGDIRQARCNI-SEEKWNE-TLQRVGRKLAEHFP------NKT---IKFK---SS-S-GGDLEITTHSFNCRGE-FFY-CNTSGLFNGTYMPTYM--------------PNSTNSNSSSNITIPCRIKQVINMWQEVGRAMYAPPI-EGEITCKSNITGLLLVRDGG--------------NGNDTNKTEIFRPEGGDMRDNWRSELYKYKVVEIKPLGIAPTEAKRRVVE-----REKRA-VG-IG-AV-ILGFLGAAGSTMGAASITLTAQARQLLSGIVQQQSNLLKAIDAQQHLLQLTVWGIKQLQARVLAVERYLKDQQLLGIWGCSGKLICPTNVPWNSSWS---------NKSKEYIWN-NMTWMQWDGEISNYTDIIYGLLEDSQIQQEKNEKDLLTLDSWKNLWNWFDITKWLWYIKIFIMIVGGLIGLRIIFAVLSIVNRVRQGYSPLSFQTLIPN-PRG-PDRLGRIEEEGGEQDRDR--SVRLVNGFLALAWDDLRNLCL-FSYHRLRDFILVAARVVELLGRNSLTGLQKGWEALKYLGSLVQYWGLKLKKSAVSLLDTIAIAVAEGTDRI-IELGQRIWRAICNIPRRIRQGFEAALQ-*'"
      ]
     },
     "execution_count": 5,
     "metadata": {},
     "output_type": "execute_result"
    }
   ],
   "source": [
    "ex_Tier_1.Sequence[0]"
   ]
  },
  {
   "cell_type": "code",
   "execution_count": 22,
   "id": "402b7729",
   "metadata": {},
   "outputs": [],
   "source": [
    "df1 = pd.DataFrame(ex_Tier_1.Sequence)\n",
    "df3 = pd.DataFrame(ex_Tier_3.Sequence)"
   ]
  },
  {
   "cell_type": "code",
   "execution_count": 46,
   "id": "fdd52bdd",
   "metadata": {},
   "outputs": [],
   "source": [
    "test1 = df1.replace('-','',regex=True)\n",
    "test3 = df3.replace('-','',regex=True)"
   ]
  },
  {
   "cell_type": "code",
   "execution_count": 34,
   "id": "b2e3c30f",
   "metadata": {},
   "outputs": [],
   "source": [
    "# test1.replace('*','',regex=True)"
   ]
  },
  {
   "cell_type": "code",
   "execution_count": 24,
   "id": "c1a0c751",
   "metadata": {},
   "outputs": [
    {
     "data": {
      "text/html": [
       "<div>\n",
       "<style scoped>\n",
       "    .dataframe tbody tr th:only-of-type {\n",
       "        vertical-align: middle;\n",
       "    }\n",
       "\n",
       "    .dataframe tbody tr th {\n",
       "        vertical-align: top;\n",
       "    }\n",
       "\n",
       "    .dataframe thead th {\n",
       "        text-align: right;\n",
       "    }\n",
       "</style>\n",
       "<table border=\"1\" class=\"dataframe\">\n",
       "  <thead>\n",
       "    <tr style=\"text-align: right;\">\n",
       "      <th></th>\n",
       "      <th>Sequence</th>\n",
       "    </tr>\n",
       "  </thead>\n",
       "  <tbody>\n",
       "    <tr>\n",
       "      <th>0</th>\n",
       "      <td>MRVKGILRNYQQWWIWSILGFWMLMNCNVGGNLWVTVYYGVPVWKE...</td>\n",
       "    </tr>\n",
       "    <tr>\n",
       "      <th>1</th>\n",
       "      <td>MRVRGILRNYQQWWMWGVLGFWMLMICNGVENLWVTVYYGVPVWKE...</td>\n",
       "    </tr>\n",
       "    <tr>\n",
       "      <th>2</th>\n",
       "      <td>MRVRGILRNWQLWWTWGILGFWMVMNCNVRGNLWVTVYYGVPVWKE...</td>\n",
       "    </tr>\n",
       "    <tr>\n",
       "      <th>3</th>\n",
       "      <td>MRVMGSMRNCQRWWIWGILGFWMLMTCNMEEDLWVTVYYGVPVWRE...</td>\n",
       "    </tr>\n",
       "    <tr>\n",
       "      <th>4</th>\n",
       "      <td>MRVRGIRRNYQHWWIWGILGFWMLMICKGGREDLWVTVYYGVPVWK...</td>\n",
       "    </tr>\n",
       "    <tr>\n",
       "      <th>...</th>\n",
       "      <td>...</td>\n",
       "    </tr>\n",
       "    <tr>\n",
       "      <th>70</th>\n",
       "      <td>MRVRGILRNWQQWWIWGILGFWMLMIYNVAGNKWVTVYYGVPVWKE...</td>\n",
       "    </tr>\n",
       "    <tr>\n",
       "      <th>71</th>\n",
       "      <td>MRVKGILRNWPQWWIWSILGLWLICRVVGNMWVTVHYGVPVWQDAK...</td>\n",
       "    </tr>\n",
       "    <tr>\n",
       "      <th>72</th>\n",
       "      <td>MRVRGILKNYQQWWIWGILGFWIINLVGGNLWVTVYYGVPVWRDAN...</td>\n",
       "    </tr>\n",
       "    <tr>\n",
       "      <th>73</th>\n",
       "      <td>MRVRGILKNYQQWWIWGILGFWIINLVGGNLWVTVYYGVPVWRDAN...</td>\n",
       "    </tr>\n",
       "    <tr>\n",
       "      <th>74</th>\n",
       "      <td>MKVRGILRICQRWWIWGILGFWMVMICNVVVGNLWVTVYYGVPVWK...</td>\n",
       "    </tr>\n",
       "  </tbody>\n",
       "</table>\n",
       "<p>75 rows × 1 columns</p>\n",
       "</div>"
      ],
      "text/plain": [
       "                                             Sequence\n",
       "0   MRVKGILRNYQQWWIWSILGFWMLMNCNVGGNLWVTVYYGVPVWKE...\n",
       "1   MRVRGILRNYQQWWMWGVLGFWMLMICNGVENLWVTVYYGVPVWKE...\n",
       "2   MRVRGILRNWQLWWTWGILGFWMVMNCNVRGNLWVTVYYGVPVWKE...\n",
       "3   MRVMGSMRNCQRWWIWGILGFWMLMTCNMEEDLWVTVYYGVPVWRE...\n",
       "4   MRVRGIRRNYQHWWIWGILGFWMLMICKGGREDLWVTVYYGVPVWK...\n",
       "..                                                ...\n",
       "70  MRVRGILRNWQQWWIWGILGFWMLMIYNVAGNKWVTVYYGVPVWKE...\n",
       "71  MRVKGILRNWPQWWIWSILGLWLICRVVGNMWVTVHYGVPVWQDAK...\n",
       "72  MRVRGILKNYQQWWIWGILGFWIINLVGGNLWVTVYYGVPVWRDAN...\n",
       "73  MRVRGILKNYQQWWIWGILGFWIINLVGGNLWVTVYYGVPVWRDAN...\n",
       "74  MKVRGILRICQRWWIWGILGFWMVMICNVVVGNLWVTVYYGVPVWK...\n",
       "\n",
       "[75 rows x 1 columns]"
      ]
     },
     "execution_count": 24,
     "metadata": {},
     "output_type": "execute_result"
    }
   ],
   "source": [
    "test1"
   ]
  },
  {
   "cell_type": "code",
   "execution_count": 25,
   "id": "8ae16bb2",
   "metadata": {},
   "outputs": [
    {
     "data": {
      "text/html": [
       "<div>\n",
       "<style scoped>\n",
       "    .dataframe tbody tr th:only-of-type {\n",
       "        vertical-align: middle;\n",
       "    }\n",
       "\n",
       "    .dataframe tbody tr th {\n",
       "        vertical-align: top;\n",
       "    }\n",
       "\n",
       "    .dataframe thead th {\n",
       "        text-align: right;\n",
       "    }\n",
       "</style>\n",
       "<table border=\"1\" class=\"dataframe\">\n",
       "  <thead>\n",
       "    <tr style=\"text-align: right;\">\n",
       "      <th></th>\n",
       "      <th>Sequence</th>\n",
       "    </tr>\n",
       "  </thead>\n",
       "  <tbody>\n",
       "    <tr>\n",
       "      <th>0</th>\n",
       "      <td>MRVRGILRNYQHWWIWSFLGLWMLINCNGDNLWVTVYYGVPVWKEA...</td>\n",
       "    </tr>\n",
       "    <tr>\n",
       "      <th>1</th>\n",
       "      <td>MRVTGTQRNCQQWWIWIWIILGFWWMLMMCKGEKLWVTVYYGVPVW...</td>\n",
       "    </tr>\n",
       "    <tr>\n",
       "      <th>2</th>\n",
       "      <td>MRVKGILRNWQQRWIWGILGFWMLMICRVLGEELWVTVYYGVPVWK...</td>\n",
       "    </tr>\n",
       "    <tr>\n",
       "      <th>3</th>\n",
       "      <td>MRVKGIRKNCQHLWIWGTMLLGILMICSATENLWVTVYYGVPVWKE...</td>\n",
       "    </tr>\n",
       "    <tr>\n",
       "      <th>4</th>\n",
       "      <td>MRARGIQRNWQQWWIWGILGFWTVMICNVMGNLWVTVYYGVPVWKD...</td>\n",
       "    </tr>\n",
       "    <tr>\n",
       "      <th>...</th>\n",
       "      <td>...</td>\n",
       "    </tr>\n",
       "    <tr>\n",
       "      <th>102</th>\n",
       "      <td>MKVTGTRKNCLWRWGTMLLGMLMICNATGNLWVTVYYGVPVWKEAT...</td>\n",
       "    </tr>\n",
       "    <tr>\n",
       "      <th>103</th>\n",
       "      <td>MKVTGTRKNCLWRWGTLLLGMLMICNATGNLWVTVYYGVPVWKEAT...</td>\n",
       "    </tr>\n",
       "    <tr>\n",
       "      <th>104</th>\n",
       "      <td>MKVTGTRKNCLWRWGTLLLGMLMICNATGNLWVTVYYGVPVWKEAT...</td>\n",
       "    </tr>\n",
       "    <tr>\n",
       "      <th>105</th>\n",
       "      <td>MKVTGTRKNCLWRWGTLLLGMLMICNATGNLWVTVYYGVPVWKEAT...</td>\n",
       "    </tr>\n",
       "    <tr>\n",
       "      <th>106</th>\n",
       "      <td>MKVTGMPRNWPQWWIWGILGFWMIIMCRVVGNLWVTVYYGVPVWKE...</td>\n",
       "    </tr>\n",
       "  </tbody>\n",
       "</table>\n",
       "<p>107 rows × 1 columns</p>\n",
       "</div>"
      ],
      "text/plain": [
       "                                              Sequence\n",
       "0    MRVRGILRNYQHWWIWSFLGLWMLINCNGDNLWVTVYYGVPVWKEA...\n",
       "1    MRVTGTQRNCQQWWIWIWIILGFWWMLMMCKGEKLWVTVYYGVPVW...\n",
       "2    MRVKGILRNWQQRWIWGILGFWMLMICRVLGEELWVTVYYGVPVWK...\n",
       "3    MRVKGIRKNCQHLWIWGTMLLGILMICSATENLWVTVYYGVPVWKE...\n",
       "4    MRARGIQRNWQQWWIWGILGFWTVMICNVMGNLWVTVYYGVPVWKD...\n",
       "..                                                 ...\n",
       "102  MKVTGTRKNCLWRWGTMLLGMLMICNATGNLWVTVYYGVPVWKEAT...\n",
       "103  MKVTGTRKNCLWRWGTLLLGMLMICNATGNLWVTVYYGVPVWKEAT...\n",
       "104  MKVTGTRKNCLWRWGTLLLGMLMICNATGNLWVTVYYGVPVWKEAT...\n",
       "105  MKVTGTRKNCLWRWGTLLLGMLMICNATGNLWVTVYYGVPVWKEAT...\n",
       "106  MKVTGMPRNWPQWWIWGILGFWMIIMCRVVGNLWVTVYYGVPVWKE...\n",
       "\n",
       "[107 rows x 1 columns]"
      ]
     },
     "execution_count": 25,
     "metadata": {},
     "output_type": "execute_result"
    }
   ],
   "source": [
    "test3"
   ]
  },
  {
   "cell_type": "code",
   "execution_count": 26,
   "id": "5c3e790e",
   "metadata": {},
   "outputs": [
    {
     "data": {
      "text/plain": [
       "0     MRVKGILRNYQQWWIWSILGFWMLMNCNVGGNLWVTVYYGVPVWKE...\n",
       "1     MRVRGILRNYQQWWMWGVLGFWMLMICNGVENLWVTVYYGVPVWKE...\n",
       "2     MRVRGILRNWQLWWTWGILGFWMVMNCNVRGNLWVTVYYGVPVWKE...\n",
       "3     MRVMGSMRNCQRWWIWGILGFWMLMTCNMEEDLWVTVYYGVPVWRE...\n",
       "4     MRVRGIRRNYQHWWIWGILGFWMLMICKGGREDLWVTVYYGVPVWK...\n",
       "                            ...                        \n",
       "70    MRVRGILRNWQQWWIWGILGFWMLMIYNVAGNKWVTVYYGVPVWKE...\n",
       "71    MRVKGILRNWPQWWIWSILGLWLICRVVGNMWVTVHYGVPVWQDAK...\n",
       "72    MRVRGILKNYQQWWIWGILGFWIINLVGGNLWVTVYYGVPVWRDAN...\n",
       "73    MRVRGILKNYQQWWIWGILGFWIINLVGGNLWVTVYYGVPVWRDAN...\n",
       "74    MKVRGILRICQRWWIWGILGFWMVMICNVVVGNLWVTVYYGVPVWK...\n",
       "Name: Sequence, Length: 75, dtype: object"
      ]
     },
     "execution_count": 26,
     "metadata": {},
     "output_type": "execute_result"
    }
   ],
   "source": [
    "test1.Sequence"
   ]
  },
  {
   "cell_type": "code",
   "execution_count": 50,
   "id": "b4e51888",
   "metadata": {},
   "outputs": [],
   "source": [
    "rm_Sequence1 = [] \n",
    "rm_Sequence3 = [] \n",
    "\n",
    "for i in range(0,75):\n",
    "    rm_Sequence1.append(test1.Sequence[i][:-1])\n",
    "for i in range(0,107):\n",
    "    rm_Sequence3.append(test3.Sequence[i][:-1])"
   ]
  },
  {
   "cell_type": "code",
   "execution_count": 51,
   "id": "e9471b55",
   "metadata": {},
   "outputs": [
    {
     "data": {
      "text/plain": [
       "0      C.IN.2000.0013095_2_11.EF117267\n",
       "1       C.IN.2000.001428_2_42.EF117266\n",
       "2       C.TZ.2004.0041_V3_C18.HM215253\n",
       "3       C.TZ.2003.0077_V1_C16.HM215254\n",
       "4         C.IN.2000.00836_2_5.EF117265\n",
       "                    ...               \n",
       "70     C.ZA.2007.704010069_C6.KC894114\n",
       "71     C.ZA.2007.704010083_B8.FJ443671\n",
       "72    C.ZA.2007.704809221_1B3.FJ444103\n",
       "73    C.ZA.2007.704809221_1B3.FJ444103\n",
       "74    C.ZA.2007.704810053_2B7.KC894119\n",
       "Name: name, Length: 75, dtype: object"
      ]
     },
     "execution_count": 51,
     "metadata": {},
     "output_type": "execute_result"
    }
   ],
   "source": [
    "ex_Tier_1.name"
   ]
  },
  {
   "cell_type": "code",
   "execution_count": 53,
   "id": "669f9542",
   "metadata": {},
   "outputs": [],
   "source": [
    "data1 = [ex_Tier_1.name,ex_Tier_1.Tier,rm_Sequence1]\n",
    "data3 = [ex_Tier_3.name,ex_Tier_3.Tier,rm_Sequence3]\n",
    "\n",
    "dfData1 = { # 用字典设置DataFrame所需数据\n",
    "        'name':data1[0],\n",
    "        'Tier':data1[1],\n",
    "        'Sequence':data1[2]\n",
    "    }\n",
    "dfData3 = { \n",
    "        'name':data3[0],\n",
    "        'Tier':data3[1],\n",
    "        'Sequence':data3[2]\n",
    "    }\n",
    "\n",
    "df1 = pd.DataFrame(dfData1) # 创建DataFrame\n",
    "df3 = pd.DataFrame(dfData3)\n",
    "\n",
    "# df.to_excel('/www/yang/csv/test.xlsx',index=False) # 存表，去除原始索引列（0,1,2...）\n",
    "df1.to_excel('/www/yang/csv/rm_end_Tier_1.xlsx',index=False) # 存表，去除原始索引列（0,1,2...）\n",
    "df3.to_excel('/www/yang/csv/rm_end_Tier_3.xlsx',index=False) # 存表，去除原始索引列（0,1,2...）"
   ]
  }
 ],
 "metadata": {
  "kernelspec": {
   "display_name": "Python 3",
   "language": "python",
   "name": "python3"
  },
  "language_info": {
   "codemirror_mode": {
    "name": "ipython",
    "version": 3
   },
   "file_extension": ".py",
   "mimetype": "text/x-python",
   "name": "python",
   "nbconvert_exporter": "python",
   "pygments_lexer": "ipython3",
   "version": "3.8.8"
  }
 },
 "nbformat": 4,
 "nbformat_minor": 5
}
