{
 "cells": [
  {
   "cell_type": "code",
   "execution_count": 1,
   "id": "72b5d0d6",
   "metadata": {},
   "outputs": [],
   "source": [
    "import numpy as np\n",
    "import csv\n",
    "import pandas as pd\n",
    "import pysam as sam\n",
    "import pickle"
   ]
  },
  {
   "cell_type": "code",
   "execution_count": 2,
   "id": "ecffc668",
   "metadata": {},
   "outputs": [],
   "source": [
    "#读取 pickle文件\n",
    "position_R_1 = pickle.load(open('/home/dldx/R-H/code/classification/ML/plot/position_pickle/end_position_R_1.pkl','rb'))\n",
    "position_H_3 = pickle.load(open('/home/dldx/R-H/code/classification/ML/plot/position_pickle/end_position_H_3.pkl','rb'))"
   ]
  },
  {
   "cell_type": "code",
   "execution_count": 3,
   "id": "6dd8fb26",
   "metadata": {},
   "outputs": [],
   "source": [
    "# 获取IDP区域残基所对应的disorder值并取平均值    R_1\n",
    "one_file_path_1 = \"/www/yang/csv/Tier_1_out/\"\n",
    "\n",
    "# 72条序列\n",
    "R_1_all_seq_disorder = []\n",
    "for i in range(0,72):\n",
    "    df = pd.read_csv(one_file_path_1 + str(i) + \"/\" + str(i) + \".csv\")\n",
    "    # 21个统计区域\n",
    "    one_seq_disorder = []\n",
    "    for j in range(21):\n",
    "        # 一个区域的disorder\n",
    "        one_region_disorder = []\n",
    "        for k in range(position_R_1[i][j][0],position_R_1[i][j][1]):\n",
    "            one_region_disorder.append(df[\" disorder\"][k])\n",
    "        one_seq_disorder.append(np.mean(one_region_disorder))\n",
    "    R_1_all_seq_disorder.append(one_seq_disorder)"
   ]
  },
  {
   "cell_type": "code",
   "execution_count": 4,
   "id": "366c5cb4",
   "metadata": {},
   "outputs": [
    {
     "name": "stderr",
     "output_type": "stream",
     "text": [
      "/home/dldx/anaconda3/lib/python3.8/site-packages/numpy/core/fromnumeric.py:3419: RuntimeWarning: Mean of empty slice.\n",
      "  return _methods._mean(a, axis=axis, dtype=dtype,\n",
      "/home/dldx/anaconda3/lib/python3.8/site-packages/numpy/core/_methods.py:188: RuntimeWarning: invalid value encountered in double_scalars\n",
      "  ret = ret.dtype.type(ret / rcount)\n"
     ]
    }
   ],
   "source": [
    "# 获取IDP区域残基所对应的disorder值并取平均值    H_3\n",
    "one_file_path_3 = \"/www/yang/csv/Tier_3_out/\"\n",
    "\n",
    "# 107条序列\n",
    "H_3_all_seq_disorder = []\n",
    "for i in range(0,107):\n",
    "    df = pd.read_csv(one_file_path_3 + str(i) + \"/\" + str(i) + \".csv\")\n",
    "    # 21个统计区域\n",
    "    one_seq_disorder = []\n",
    "    for j in range(21):\n",
    "        # 一个区域的disorder\n",
    "        one_region_disorder = []\n",
    "        for k in range(position_H_3[i][j][0],position_H_3[i][j][1]):\n",
    "            one_region_disorder.append(df[\" disorder\"][k])\n",
    "        one_seq_disorder.append(np.mean(one_region_disorder))\n",
    "    H_3_all_seq_disorder.append(one_seq_disorder)\n",
    "H_3_all_seq_disorder[84][9] = 0.0"
   ]
  },
  {
   "cell_type": "code",
   "execution_count": 6,
   "id": "a01c147e",
   "metadata": {},
   "outputs": [
    {
     "name": "stdout",
     "output_type": "stream",
     "text": [
      "\n"
     ]
    }
   ],
   "source": [
    "R_H_all_avg_disorder =[]\n",
    "R_H_all_avg_disorder.append(R_1_all_seq_disorder)\n",
    "R_H_all_avg_disorder.append(H_3_all_seq_disorder)\n",
    "\n",
    "# 将R_1和H_3一共72+107条序列的21个区域的平均disorder值存储为pickle文件\n",
    "pickle.dump(np.array(R_H_all_avg_disorder),  open('/home/dldx/R-H/code/classification/ML/data/disorder/avg_R-H_all_dsiorder.pkl', 'wb'))"
   ]
  }
 ],
 "metadata": {
  "kernelspec": {
   "display_name": "Python 3",
   "language": "python",
   "name": "python3"
  },
  "language_info": {
   "codemirror_mode": {
    "name": "ipython",
    "version": 3
   },
   "file_extension": ".py",
   "mimetype": "text/x-python",
   "name": "python",
   "nbconvert_exporter": "python",
   "pygments_lexer": "ipython3",
   "version": "3.8.8"
  }
 },
 "nbformat": 4,
 "nbformat_minor": 5
}
